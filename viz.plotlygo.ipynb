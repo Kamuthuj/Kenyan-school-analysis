{
 "cells": [
  {
   "cell_type": "code",
   "execution_count": 21,
   "metadata": {},
   "outputs": [],
   "source": [
    "import pandas as pd\n",
    "import plotly.graph_objects as go\n",
    "import plotly.express as px"
   ]
  },
  {
   "cell_type": "code",
   "execution_count": 22,
   "metadata": {},
   "outputs": [
    {
     "data": {
      "text/html": [
       "<div>\n",
       "<style scoped>\n",
       "    .dataframe tbody tr th:only-of-type {\n",
       "        vertical-align: middle;\n",
       "    }\n",
       "\n",
       "    .dataframe tbody tr th {\n",
       "        vertical-align: top;\n",
       "    }\n",
       "\n",
       "    .dataframe thead th {\n",
       "        text-align: right;\n",
       "    }\n",
       "</style>\n",
       "<table border=\"1\" class=\"dataframe\">\n",
       "  <thead>\n",
       "    <tr style=\"text-align: right;\">\n",
       "      <th></th>\n",
       "      <th>Unnamed: 0</th>\n",
       "      <th>Name</th>\n",
       "      <th>PROVINCE</th>\n",
       "      <th>DISTRICT</th>\n",
       "      <th>Level</th>\n",
       "      <th>Status</th>\n",
       "      <th>Sponsor</th>\n",
       "      <th>Longitude</th>\n",
       "      <th>Latitude</th>\n",
       "      <th>Province_1</th>\n",
       "      <th>District_1</th>\n",
       "      <th>level_1</th>\n",
       "      <th>status_1</th>\n",
       "      <th>sponsor_1</th>\n",
       "    </tr>\n",
       "  </thead>\n",
       "  <tbody>\n",
       "    <tr>\n",
       "      <th>0</th>\n",
       "      <td>0</td>\n",
       "      <td>2005 MUNICIPALITY MARIAKANI NUR SCH</td>\n",
       "      <td>RIFT VALLEY</td>\n",
       "      <td>LAIKIPIA</td>\n",
       "      <td>ECD/PRE-PRIMARY SCHOOL</td>\n",
       "      <td>PUBLIC</td>\n",
       "      <td>LOCAL GOVERNMENT AUTHORITY</td>\n",
       "      <td>36.34676</td>\n",
       "      <td>0.05122</td>\n",
       "      <td>7</td>\n",
       "      <td>27</td>\n",
       "      <td>1</td>\n",
       "      <td>1</td>\n",
       "      <td>4</td>\n",
       "    </tr>\n",
       "    <tr>\n",
       "      <th>1</th>\n",
       "      <td>1</td>\n",
       "      <td>2005 MUNICIPALITY MARIAKANI PRI SCH</td>\n",
       "      <td>RIFT VALLEY</td>\n",
       "      <td>LAIKIPIA</td>\n",
       "      <td>PRIMARY SCHOOL</td>\n",
       "      <td>PUBLIC</td>\n",
       "      <td>LOCAL GOVERNMENT AUTHORITY</td>\n",
       "      <td>36.34676</td>\n",
       "      <td>0.05122</td>\n",
       "      <td>7</td>\n",
       "      <td>27</td>\n",
       "      <td>18</td>\n",
       "      <td>1</td>\n",
       "      <td>4</td>\n",
       "    </tr>\n",
       "    <tr>\n",
       "      <th>2</th>\n",
       "      <td>2</td>\n",
       "      <td>39 BRIDGE ACADEMY NUR</td>\n",
       "      <td>EASTERN</td>\n",
       "      <td>MACHAKOS</td>\n",
       "      <td>PRIMARY SCHOOL</td>\n",
       "      <td>PRIVATE</td>\n",
       "      <td>RELIGIOUS ORGANIZATION</td>\n",
       "      <td>36.97636</td>\n",
       "      <td>-1.44281</td>\n",
       "      <td>3</td>\n",
       "      <td>30</td>\n",
       "      <td>18</td>\n",
       "      <td>0</td>\n",
       "      <td>11</td>\n",
       "    </tr>\n",
       "    <tr>\n",
       "      <th>3</th>\n",
       "      <td>3</td>\n",
       "      <td>39 BRIGE ACADEMY PRI</td>\n",
       "      <td>EASTERN</td>\n",
       "      <td>MACHAKOS</td>\n",
       "      <td>PRIMARY SCHOOL</td>\n",
       "      <td>PRIVATE</td>\n",
       "      <td>RELIGIOUS ORGANIZATION</td>\n",
       "      <td>36.97636</td>\n",
       "      <td>-1.44281</td>\n",
       "      <td>3</td>\n",
       "      <td>30</td>\n",
       "      <td>18</td>\n",
       "      <td>0</td>\n",
       "      <td>11</td>\n",
       "    </tr>\n",
       "    <tr>\n",
       "      <th>4</th>\n",
       "      <td>4</td>\n",
       "      <td>3-WAY ACADEMY PRI SCH</td>\n",
       "      <td>RIFT VALLEY</td>\n",
       "      <td>NAKURU</td>\n",
       "      <td>PRIMARY SCHOOL</td>\n",
       "      <td>PRIVATE</td>\n",
       "      <td>PRIVATE INDIVIDUAL</td>\n",
       "      <td>35.71360</td>\n",
       "      <td>-0.23212</td>\n",
       "      <td>7</td>\n",
       "      <td>49</td>\n",
       "      <td>18</td>\n",
       "      <td>0</td>\n",
       "      <td>7</td>\n",
       "    </tr>\n",
       "    <tr>\n",
       "      <th>...</th>\n",
       "      <td>...</td>\n",
       "      <td>...</td>\n",
       "      <td>...</td>\n",
       "      <td>...</td>\n",
       "      <td>...</td>\n",
       "      <td>...</td>\n",
       "      <td>...</td>\n",
       "      <td>...</td>\n",
       "      <td>...</td>\n",
       "      <td>...</td>\n",
       "      <td>...</td>\n",
       "      <td>...</td>\n",
       "      <td>...</td>\n",
       "      <td>...</td>\n",
       "    </tr>\n",
       "    <tr>\n",
       "      <th>71952</th>\n",
       "      <td>72014</td>\n",
       "      <td>ZSTRA ACADEMY</td>\n",
       "      <td>NAIROBI</td>\n",
       "      <td>NAIROBI</td>\n",
       "      <td>ECD/PRE-PRIMARY SCHOOL</td>\n",
       "      <td>PRIVATE</td>\n",
       "      <td>PRIVATE INDIVIDUAL</td>\n",
       "      <td>36.90237</td>\n",
       "      <td>-1.30505</td>\n",
       "      <td>4</td>\n",
       "      <td>48</td>\n",
       "      <td>1</td>\n",
       "      <td>0</td>\n",
       "      <td>7</td>\n",
       "    </tr>\n",
       "    <tr>\n",
       "      <th>71953</th>\n",
       "      <td>72015</td>\n",
       "      <td>ZULULU ECD</td>\n",
       "      <td>WESTERN</td>\n",
       "      <td>VIHIGA</td>\n",
       "      <td>ECD/PRE-PRIMARY SCHOOL</td>\n",
       "      <td>PUBLIC</td>\n",
       "      <td>RELIGIOUS ORGANIZATION</td>\n",
       "      <td>34.73243</td>\n",
       "      <td>0.00410</td>\n",
       "      <td>8</td>\n",
       "      <td>71</td>\n",
       "      <td>1</td>\n",
       "      <td>1</td>\n",
       "      <td>11</td>\n",
       "    </tr>\n",
       "    <tr>\n",
       "      <th>71954</th>\n",
       "      <td>72016</td>\n",
       "      <td>ZULULU PRY SCH</td>\n",
       "      <td>WESTERN</td>\n",
       "      <td>VIHIGA</td>\n",
       "      <td>PRIMARY SCHOOL</td>\n",
       "      <td>PUBLIC</td>\n",
       "      <td>RELIGIOUS ORGANIZATION</td>\n",
       "      <td>34.73243</td>\n",
       "      <td>0.00410</td>\n",
       "      <td>8</td>\n",
       "      <td>71</td>\n",
       "      <td>18</td>\n",
       "      <td>1</td>\n",
       "      <td>11</td>\n",
       "    </tr>\n",
       "    <tr>\n",
       "      <th>71955</th>\n",
       "      <td>72017</td>\n",
       "      <td>ZUNGULUKANI NURSERY</td>\n",
       "      <td>COAST</td>\n",
       "      <td>TAITA TAVETA</td>\n",
       "      <td>ECD/PRE-PRIMARY SCHOOL</td>\n",
       "      <td>PUBLIC</td>\n",
       "      <td>COMMUNITY</td>\n",
       "      <td>38.92489</td>\n",
       "      <td>-3.95005</td>\n",
       "      <td>1</td>\n",
       "      <td>61</td>\n",
       "      <td>1</td>\n",
       "      <td>1</td>\n",
       "      <td>1</td>\n",
       "    </tr>\n",
       "    <tr>\n",
       "      <th>71956</th>\n",
       "      <td>72018</td>\n",
       "      <td>ZUNGULUKANI PRIMARY</td>\n",
       "      <td>COAST</td>\n",
       "      <td>TAITA TAVETA</td>\n",
       "      <td>PRIMARY SCHOOL</td>\n",
       "      <td>PUBLIC</td>\n",
       "      <td>COMMUNITY</td>\n",
       "      <td>38.92653</td>\n",
       "      <td>-3.95128</td>\n",
       "      <td>1</td>\n",
       "      <td>61</td>\n",
       "      <td>18</td>\n",
       "      <td>1</td>\n",
       "      <td>1</td>\n",
       "    </tr>\n",
       "  </tbody>\n",
       "</table>\n",
       "<p>71957 rows × 14 columns</p>\n",
       "</div>"
      ],
      "text/plain": [
       "       Unnamed: 0                                 Name     PROVINCE  \\\n",
       "0               0  2005 MUNICIPALITY MARIAKANI NUR SCH  RIFT VALLEY   \n",
       "1               1  2005 MUNICIPALITY MARIAKANI PRI SCH  RIFT VALLEY   \n",
       "2               2                39 BRIDGE ACADEMY NUR      EASTERN   \n",
       "3               3                 39 BRIGE ACADEMY PRI      EASTERN   \n",
       "4               4                3-WAY ACADEMY PRI SCH  RIFT VALLEY   \n",
       "...           ...                                  ...          ...   \n",
       "71952       72014                        ZSTRA ACADEMY      NAIROBI   \n",
       "71953       72015                           ZULULU ECD      WESTERN   \n",
       "71954       72016                       ZULULU PRY SCH      WESTERN   \n",
       "71955       72017                  ZUNGULUKANI NURSERY        COAST   \n",
       "71956       72018                  ZUNGULUKANI PRIMARY        COAST   \n",
       "\n",
       "           DISTRICT                   Level   Status  \\\n",
       "0          LAIKIPIA  ECD/PRE-PRIMARY SCHOOL   PUBLIC   \n",
       "1          LAIKIPIA          PRIMARY SCHOOL   PUBLIC   \n",
       "2          MACHAKOS          PRIMARY SCHOOL  PRIVATE   \n",
       "3          MACHAKOS          PRIMARY SCHOOL  PRIVATE   \n",
       "4            NAKURU          PRIMARY SCHOOL  PRIVATE   \n",
       "...             ...                     ...      ...   \n",
       "71952       NAIROBI  ECD/PRE-PRIMARY SCHOOL  PRIVATE   \n",
       "71953        VIHIGA  ECD/PRE-PRIMARY SCHOOL   PUBLIC   \n",
       "71954        VIHIGA          PRIMARY SCHOOL   PUBLIC   \n",
       "71955  TAITA TAVETA  ECD/PRE-PRIMARY SCHOOL   PUBLIC   \n",
       "71956  TAITA TAVETA          PRIMARY SCHOOL   PUBLIC   \n",
       "\n",
       "                          Sponsor  Longitude  Latitude  Province_1  \\\n",
       "0      LOCAL GOVERNMENT AUTHORITY   36.34676   0.05122           7   \n",
       "1      LOCAL GOVERNMENT AUTHORITY   36.34676   0.05122           7   \n",
       "2          RELIGIOUS ORGANIZATION   36.97636  -1.44281           3   \n",
       "3          RELIGIOUS ORGANIZATION   36.97636  -1.44281           3   \n",
       "4              PRIVATE INDIVIDUAL   35.71360  -0.23212           7   \n",
       "...                           ...        ...       ...         ...   \n",
       "71952          PRIVATE INDIVIDUAL   36.90237  -1.30505           4   \n",
       "71953      RELIGIOUS ORGANIZATION   34.73243   0.00410           8   \n",
       "71954      RELIGIOUS ORGANIZATION   34.73243   0.00410           8   \n",
       "71955                   COMMUNITY   38.92489  -3.95005           1   \n",
       "71956                   COMMUNITY   38.92653  -3.95128           1   \n",
       "\n",
       "       District_1  level_1  status_1  sponsor_1  \n",
       "0              27        1         1          4  \n",
       "1              27       18         1          4  \n",
       "2              30       18         0         11  \n",
       "3              30       18         0         11  \n",
       "4              49       18         0          7  \n",
       "...           ...      ...       ...        ...  \n",
       "71952          48        1         0          7  \n",
       "71953          71        1         1         11  \n",
       "71954          71       18         1         11  \n",
       "71955          61        1         1          1  \n",
       "71956          61       18         1          1  \n",
       "\n",
       "[71957 rows x 14 columns]"
      ]
     },
     "execution_count": 22,
     "metadata": {},
     "output_type": "execute_result"
    }
   ],
   "source": [
    "df=pd.read_csv(\"MOE clean data\")\n",
    "df"
   ]
  },
  {
   "cell_type": "code",
   "execution_count": 23,
   "metadata": {},
   "outputs": [],
   "source": [
    "rift_valley=df[df[\"PROVINCE\"]==\"RIFT VALLEY\"]\n",
    "rift_valley\n",
    "priv=rift_valley[rift_valley[\"Status\"]==\"PRIVATE\"]\n",
    "pub=rift_valley[rift_valley[\"Status\"]==\"PUBLIC\"]"
   ]
  },
  {
   "cell_type": "code",
   "execution_count": 24,
   "metadata": {},
   "outputs": [
    {
     "data": {
      "application/vnd.plotly.v1+json": {
       "config": {
        "plotlyServerURL": "https://plot.ly"
       },
       "data": [
        {
         "name": "Private - COMMUNITY",
         "orientation": "h",
         "type": "bar",
         "x": [
          2,
          197,
          15,
          7,
          2
         ],
         "y": [
          "ADULT EDUCATION CENTRE",
          "ECD/PRE-PRIMARY SCHOOL",
          "PRIMARY SCHOOL",
          "SECONDARY SCHOOL",
          "YOUTH POLYTECHNIC"
         ]
        },
        {
         "name": "Public - COMMUNITY",
         "orientation": "h",
         "type": "bar",
         "x": [
          71,
          4119,
          2,
          181,
          82,
          25
         ],
         "y": [
          "ADULT EDUCATION CENTRE",
          "ECD/PRE-PRIMARY SCHOOL",
          "NON FORMAL SCHOOL/NON FORMAL EDUCATION CENTRE",
          "PRIMARY SCHOOL",
          "SECONDARY SCHOOL",
          "YOUTH POLYTECHNIC"
         ]
        },
        {
         "name": "Private - LOCAL GOVERNMENT AUTHORITY",
         "orientation": "h",
         "type": "bar",
         "x": [
          2,
          5,
          2,
          1
         ],
         "y": [
          "ADULT EDUCATION CENTRE",
          "ECD/PRE-PRIMARY SCHOOL",
          "PRIMARY SCHOOL",
          "SECONDARY SCHOOL"
         ]
        },
        {
         "name": "Public - LOCAL GOVERNMENT AUTHORITY",
         "orientation": "h",
         "type": "bar",
         "x": [
          25,
          286,
          5,
          153,
          18,
          3
         ],
         "y": [
          "ADULT EDUCATION CENTRE",
          "ECD/PRE-PRIMARY SCHOOL",
          "NON FORMAL SCHOOL/NON FORMAL EDUCATION CENTRE",
          "PRIMARY SCHOOL",
          "SECONDARY SCHOOL",
          "YOUTH POLYTECHNIC"
         ]
        },
        {
         "name": "Private - NGO/CBO",
         "orientation": "h",
         "type": "bar",
         "x": [
          6,
          40,
          2,
          37,
          7,
          2
         ],
         "y": [
          "ADULT EDUCATION CENTRE",
          "ECD/PRE-PRIMARY SCHOOL",
          "NON FORMAL SCHOOL/NON FORMAL EDUCATION CENTRE",
          "PRIMARY SCHOOL",
          "SECONDARY SCHOOL",
          "YOUTH POLYTECHNIC"
         ]
        },
        {
         "name": "Public - NGO/CBO",
         "orientation": "h",
         "type": "bar",
         "x": [
          5,
          35,
          1,
          6
         ],
         "y": [
          "ADULT EDUCATION CENTRE",
          "ECD/PRE-PRIMARY SCHOOL",
          "NON FORMAL SCHOOL/NON FORMAL EDUCATION CENTRE",
          "PRIMARY SCHOOL"
         ]
        },
        {
         "name": "Private - PRIVATE INDIVIDUAL",
         "orientation": "h",
         "type": "bar",
         "x": [
          8,
          2249,
          1,
          1030,
          208,
          7,
          1,
          4
         ],
         "y": [
          "ADULT EDUCATION CENTRE",
          "ECD/PRE-PRIMARY SCHOOL",
          "NON FORMAL SCHOOL/NON FORMAL EDUCATION CENTRE",
          "PRIMARY SCHOOL",
          "SECONDARY SCHOOL",
          "TEACHER TRAINING COLLEGE",
          "UNIVERSITY",
          "YOUTH POLYTECHNIC"
         ]
        },
        {
         "name": "Public - PRIVATE INDIVIDUAL",
         "orientation": "h",
         "type": "bar",
         "x": [
          5,
          200,
          132,
          40,
          1,
          1
         ],
         "y": [
          "ADULT EDUCATION CENTRE",
          "ECD/PRE-PRIMARY SCHOOL",
          "PRIMARY SCHOOL",
          "SECONDARY SCHOOL",
          "UNIVERSITY",
          "YOUTH POLYTECHNIC"
         ]
        },
        {
         "name": "Private - PRIVATE INDIVIDUAL/ORGANIZATION",
         "orientation": "h",
         "type": "bar",
         "x": [
          2,
          621,
          2,
          355,
          58,
          2,
          1,
          3
         ],
         "y": [
          "ADULT EDUCATION CENTRE",
          "ECD/PRE-PRIMARY SCHOOL",
          "NON FORMAL SCHOOL/NON FORMAL EDUCATION CENTRE",
          "PRIMARY SCHOOL",
          "SECONDARY SCHOOL",
          "TEACHER TRAINING COLLEGE",
          "UNIVERSITY",
          "YOUTH POLYTECHNIC"
         ]
        },
        {
         "name": "Public - PRIVATE INDIVIDUAL/ORGANIZATION",
         "orientation": "h",
         "type": "bar",
         "x": [
          9,
          2,
          14,
          3
         ],
         "y": [
          "ECD/PRE-PRIMARY SCHOOL",
          "NON FORMAL SCHOOL/NON FORMAL EDUCATION CENTRE",
          "PRIMARY SCHOOL",
          "SECONDARY SCHOOL"
         ]
        },
        {
         "name": "Private - RELIGIOUS ORGANIZATION",
         "orientation": "h",
         "type": "bar",
         "x": [
          13,
          1097,
          4,
          370,
          85,
          3,
          1,
          35
         ],
         "y": [
          "ADULT EDUCATION CENTRE",
          "ECD/PRE-PRIMARY SCHOOL",
          "NON FORMAL SCHOOL/NON FORMAL EDUCATION CENTRE",
          "PRIMARY SCHOOL",
          "SECONDARY SCHOOL",
          "TEACHER TRAINING COLLEGE",
          "UNIVERSITY",
          "YOUTH POLYTECHNIC"
         ]
        },
        {
         "name": "Public - RELIGIOUS ORGANIZATION",
         "orientation": "h",
         "type": "bar",
         "x": [
          82,
          2374,
          6,
          3286,
          660,
          1,
          26
         ],
         "y": [
          "ADULT EDUCATION CENTRE",
          "ECD/PRE-PRIMARY SCHOOL",
          "NON FORMAL SCHOOL/NON FORMAL EDUCATION CENTRE",
          "PRIMARY SCHOOL",
          "SECONDARY SCHOOL",
          "TEACHER TRAINING COLLEGE",
          "YOUTH POLYTECHNIC"
         ]
        },
        {
         "name": "Private - CENTRAL GOVERNMENT/DEB",
         "orientation": "h",
         "type": "bar",
         "x": [
          9,
          7,
          10
         ],
         "y": [
          "ECD/PRE-PRIMARY SCHOOL",
          "PRIMARY SCHOOL",
          "SECONDARY SCHOOL"
         ]
        },
        {
         "name": "Public - CENTRAL GOVERNMENT/DEB",
         "orientation": "h",
         "type": "bar",
         "x": [
          178,
          322,
          1,
          1,
          14,
          1593,
          373,
          5,
          5,
          9,
          24
         ],
         "y": [
          "ADULT EDUCATION CENTRE",
          "ECD/PRE-PRIMARY SCHOOL",
          "INSTITUTE OF TECHNOLOGY",
          "NATIONAL POLYTECHNIC",
          "NON FORMAL SCHOOL/NON FORMAL EDUCATION CENTRE",
          "PRIMARY SCHOOL",
          "SECONDARY SCHOOL",
          "TEACHER TRAINING COLLEGE",
          "TECHNICAL TRAINING INSTITUTE",
          "UNIVERSITY",
          "YOUTH POLYTECHNIC"
         ]
        }
       ],
       "layout": {
        "barmode": "stack",
        "legend": {
         "title": {
          "text": "Status"
         }
        },
        "template": {
         "data": {
          "bar": [
           {
            "error_x": {
             "color": "#2a3f5f"
            },
            "error_y": {
             "color": "#2a3f5f"
            },
            "marker": {
             "line": {
              "color": "#E5ECF6",
              "width": 0.5
             },
             "pattern": {
              "fillmode": "overlay",
              "size": 10,
              "solidity": 0.2
             }
            },
            "type": "bar"
           }
          ],
          "barpolar": [
           {
            "marker": {
             "line": {
              "color": "#E5ECF6",
              "width": 0.5
             },
             "pattern": {
              "fillmode": "overlay",
              "size": 10,
              "solidity": 0.2
             }
            },
            "type": "barpolar"
           }
          ],
          "carpet": [
           {
            "aaxis": {
             "endlinecolor": "#2a3f5f",
             "gridcolor": "white",
             "linecolor": "white",
             "minorgridcolor": "white",
             "startlinecolor": "#2a3f5f"
            },
            "baxis": {
             "endlinecolor": "#2a3f5f",
             "gridcolor": "white",
             "linecolor": "white",
             "minorgridcolor": "white",
             "startlinecolor": "#2a3f5f"
            },
            "type": "carpet"
           }
          ],
          "choropleth": [
           {
            "colorbar": {
             "outlinewidth": 0,
             "ticks": ""
            },
            "type": "choropleth"
           }
          ],
          "contour": [
           {
            "colorbar": {
             "outlinewidth": 0,
             "ticks": ""
            },
            "colorscale": [
             [
              0,
              "#0d0887"
             ],
             [
              0.1111111111111111,
              "#46039f"
             ],
             [
              0.2222222222222222,
              "#7201a8"
             ],
             [
              0.3333333333333333,
              "#9c179e"
             ],
             [
              0.4444444444444444,
              "#bd3786"
             ],
             [
              0.5555555555555556,
              "#d8576b"
             ],
             [
              0.6666666666666666,
              "#ed7953"
             ],
             [
              0.7777777777777778,
              "#fb9f3a"
             ],
             [
              0.8888888888888888,
              "#fdca26"
             ],
             [
              1,
              "#f0f921"
             ]
            ],
            "type": "contour"
           }
          ],
          "contourcarpet": [
           {
            "colorbar": {
             "outlinewidth": 0,
             "ticks": ""
            },
            "type": "contourcarpet"
           }
          ],
          "heatmap": [
           {
            "colorbar": {
             "outlinewidth": 0,
             "ticks": ""
            },
            "colorscale": [
             [
              0,
              "#0d0887"
             ],
             [
              0.1111111111111111,
              "#46039f"
             ],
             [
              0.2222222222222222,
              "#7201a8"
             ],
             [
              0.3333333333333333,
              "#9c179e"
             ],
             [
              0.4444444444444444,
              "#bd3786"
             ],
             [
              0.5555555555555556,
              "#d8576b"
             ],
             [
              0.6666666666666666,
              "#ed7953"
             ],
             [
              0.7777777777777778,
              "#fb9f3a"
             ],
             [
              0.8888888888888888,
              "#fdca26"
             ],
             [
              1,
              "#f0f921"
             ]
            ],
            "type": "heatmap"
           }
          ],
          "heatmapgl": [
           {
            "colorbar": {
             "outlinewidth": 0,
             "ticks": ""
            },
            "colorscale": [
             [
              0,
              "#0d0887"
             ],
             [
              0.1111111111111111,
              "#46039f"
             ],
             [
              0.2222222222222222,
              "#7201a8"
             ],
             [
              0.3333333333333333,
              "#9c179e"
             ],
             [
              0.4444444444444444,
              "#bd3786"
             ],
             [
              0.5555555555555556,
              "#d8576b"
             ],
             [
              0.6666666666666666,
              "#ed7953"
             ],
             [
              0.7777777777777778,
              "#fb9f3a"
             ],
             [
              0.8888888888888888,
              "#fdca26"
             ],
             [
              1,
              "#f0f921"
             ]
            ],
            "type": "heatmapgl"
           }
          ],
          "histogram": [
           {
            "marker": {
             "pattern": {
              "fillmode": "overlay",
              "size": 10,
              "solidity": 0.2
             }
            },
            "type": "histogram"
           }
          ],
          "histogram2d": [
           {
            "colorbar": {
             "outlinewidth": 0,
             "ticks": ""
            },
            "colorscale": [
             [
              0,
              "#0d0887"
             ],
             [
              0.1111111111111111,
              "#46039f"
             ],
             [
              0.2222222222222222,
              "#7201a8"
             ],
             [
              0.3333333333333333,
              "#9c179e"
             ],
             [
              0.4444444444444444,
              "#bd3786"
             ],
             [
              0.5555555555555556,
              "#d8576b"
             ],
             [
              0.6666666666666666,
              "#ed7953"
             ],
             [
              0.7777777777777778,
              "#fb9f3a"
             ],
             [
              0.8888888888888888,
              "#fdca26"
             ],
             [
              1,
              "#f0f921"
             ]
            ],
            "type": "histogram2d"
           }
          ],
          "histogram2dcontour": [
           {
            "colorbar": {
             "outlinewidth": 0,
             "ticks": ""
            },
            "colorscale": [
             [
              0,
              "#0d0887"
             ],
             [
              0.1111111111111111,
              "#46039f"
             ],
             [
              0.2222222222222222,
              "#7201a8"
             ],
             [
              0.3333333333333333,
              "#9c179e"
             ],
             [
              0.4444444444444444,
              "#bd3786"
             ],
             [
              0.5555555555555556,
              "#d8576b"
             ],
             [
              0.6666666666666666,
              "#ed7953"
             ],
             [
              0.7777777777777778,
              "#fb9f3a"
             ],
             [
              0.8888888888888888,
              "#fdca26"
             ],
             [
              1,
              "#f0f921"
             ]
            ],
            "type": "histogram2dcontour"
           }
          ],
          "mesh3d": [
           {
            "colorbar": {
             "outlinewidth": 0,
             "ticks": ""
            },
            "type": "mesh3d"
           }
          ],
          "parcoords": [
           {
            "line": {
             "colorbar": {
              "outlinewidth": 0,
              "ticks": ""
             }
            },
            "type": "parcoords"
           }
          ],
          "pie": [
           {
            "automargin": true,
            "type": "pie"
           }
          ],
          "scatter": [
           {
            "fillpattern": {
             "fillmode": "overlay",
             "size": 10,
             "solidity": 0.2
            },
            "type": "scatter"
           }
          ],
          "scatter3d": [
           {
            "line": {
             "colorbar": {
              "outlinewidth": 0,
              "ticks": ""
             }
            },
            "marker": {
             "colorbar": {
              "outlinewidth": 0,
              "ticks": ""
             }
            },
            "type": "scatter3d"
           }
          ],
          "scattercarpet": [
           {
            "marker": {
             "colorbar": {
              "outlinewidth": 0,
              "ticks": ""
             }
            },
            "type": "scattercarpet"
           }
          ],
          "scattergeo": [
           {
            "marker": {
             "colorbar": {
              "outlinewidth": 0,
              "ticks": ""
             }
            },
            "type": "scattergeo"
           }
          ],
          "scattergl": [
           {
            "marker": {
             "colorbar": {
              "outlinewidth": 0,
              "ticks": ""
             }
            },
            "type": "scattergl"
           }
          ],
          "scattermapbox": [
           {
            "marker": {
             "colorbar": {
              "outlinewidth": 0,
              "ticks": ""
             }
            },
            "type": "scattermapbox"
           }
          ],
          "scatterpolar": [
           {
            "marker": {
             "colorbar": {
              "outlinewidth": 0,
              "ticks": ""
             }
            },
            "type": "scatterpolar"
           }
          ],
          "scatterpolargl": [
           {
            "marker": {
             "colorbar": {
              "outlinewidth": 0,
              "ticks": ""
             }
            },
            "type": "scatterpolargl"
           }
          ],
          "scatterternary": [
           {
            "marker": {
             "colorbar": {
              "outlinewidth": 0,
              "ticks": ""
             }
            },
            "type": "scatterternary"
           }
          ],
          "surface": [
           {
            "colorbar": {
             "outlinewidth": 0,
             "ticks": ""
            },
            "colorscale": [
             [
              0,
              "#0d0887"
             ],
             [
              0.1111111111111111,
              "#46039f"
             ],
             [
              0.2222222222222222,
              "#7201a8"
             ],
             [
              0.3333333333333333,
              "#9c179e"
             ],
             [
              0.4444444444444444,
              "#bd3786"
             ],
             [
              0.5555555555555556,
              "#d8576b"
             ],
             [
              0.6666666666666666,
              "#ed7953"
             ],
             [
              0.7777777777777778,
              "#fb9f3a"
             ],
             [
              0.8888888888888888,
              "#fdca26"
             ],
             [
              1,
              "#f0f921"
             ]
            ],
            "type": "surface"
           }
          ],
          "table": [
           {
            "cells": {
             "fill": {
              "color": "#EBF0F8"
             },
             "line": {
              "color": "white"
             }
            },
            "header": {
             "fill": {
              "color": "#C8D4E3"
             },
             "line": {
              "color": "white"
             }
            },
            "type": "table"
           }
          ]
         },
         "layout": {
          "annotationdefaults": {
           "arrowcolor": "#2a3f5f",
           "arrowhead": 0,
           "arrowwidth": 1
          },
          "autotypenumbers": "strict",
          "coloraxis": {
           "colorbar": {
            "outlinewidth": 0,
            "ticks": ""
           }
          },
          "colorscale": {
           "diverging": [
            [
             0,
             "#8e0152"
            ],
            [
             0.1,
             "#c51b7d"
            ],
            [
             0.2,
             "#de77ae"
            ],
            [
             0.3,
             "#f1b6da"
            ],
            [
             0.4,
             "#fde0ef"
            ],
            [
             0.5,
             "#f7f7f7"
            ],
            [
             0.6,
             "#e6f5d0"
            ],
            [
             0.7,
             "#b8e186"
            ],
            [
             0.8,
             "#7fbc41"
            ],
            [
             0.9,
             "#4d9221"
            ],
            [
             1,
             "#276419"
            ]
           ],
           "sequential": [
            [
             0,
             "#0d0887"
            ],
            [
             0.1111111111111111,
             "#46039f"
            ],
            [
             0.2222222222222222,
             "#7201a8"
            ],
            [
             0.3333333333333333,
             "#9c179e"
            ],
            [
             0.4444444444444444,
             "#bd3786"
            ],
            [
             0.5555555555555556,
             "#d8576b"
            ],
            [
             0.6666666666666666,
             "#ed7953"
            ],
            [
             0.7777777777777778,
             "#fb9f3a"
            ],
            [
             0.8888888888888888,
             "#fdca26"
            ],
            [
             1,
             "#f0f921"
            ]
           ],
           "sequentialminus": [
            [
             0,
             "#0d0887"
            ],
            [
             0.1111111111111111,
             "#46039f"
            ],
            [
             0.2222222222222222,
             "#7201a8"
            ],
            [
             0.3333333333333333,
             "#9c179e"
            ],
            [
             0.4444444444444444,
             "#bd3786"
            ],
            [
             0.5555555555555556,
             "#d8576b"
            ],
            [
             0.6666666666666666,
             "#ed7953"
            ],
            [
             0.7777777777777778,
             "#fb9f3a"
            ],
            [
             0.8888888888888888,
             "#fdca26"
            ],
            [
             1,
             "#f0f921"
            ]
           ]
          },
          "colorway": [
           "#636efa",
           "#EF553B",
           "#00cc96",
           "#ab63fa",
           "#FFA15A",
           "#19d3f3",
           "#FF6692",
           "#B6E880",
           "#FF97FF",
           "#FECB52"
          ],
          "font": {
           "color": "#2a3f5f"
          },
          "geo": {
           "bgcolor": "white",
           "lakecolor": "white",
           "landcolor": "#E5ECF6",
           "showlakes": true,
           "showland": true,
           "subunitcolor": "white"
          },
          "hoverlabel": {
           "align": "left"
          },
          "hovermode": "closest",
          "mapbox": {
           "style": "light"
          },
          "paper_bgcolor": "white",
          "plot_bgcolor": "#E5ECF6",
          "polar": {
           "angularaxis": {
            "gridcolor": "white",
            "linecolor": "white",
            "ticks": ""
           },
           "bgcolor": "#E5ECF6",
           "radialaxis": {
            "gridcolor": "white",
            "linecolor": "white",
            "ticks": ""
           }
          },
          "scene": {
           "xaxis": {
            "backgroundcolor": "#E5ECF6",
            "gridcolor": "white",
            "gridwidth": 2,
            "linecolor": "white",
            "showbackground": true,
            "ticks": "",
            "zerolinecolor": "white"
           },
           "yaxis": {
            "backgroundcolor": "#E5ECF6",
            "gridcolor": "white",
            "gridwidth": 2,
            "linecolor": "white",
            "showbackground": true,
            "ticks": "",
            "zerolinecolor": "white"
           },
           "zaxis": {
            "backgroundcolor": "#E5ECF6",
            "gridcolor": "white",
            "gridwidth": 2,
            "linecolor": "white",
            "showbackground": true,
            "ticks": "",
            "zerolinecolor": "white"
           }
          },
          "shapedefaults": {
           "line": {
            "color": "#2a3f5f"
           }
          },
          "ternary": {
           "aaxis": {
            "gridcolor": "white",
            "linecolor": "white",
            "ticks": ""
           },
           "baxis": {
            "gridcolor": "white",
            "linecolor": "white",
            "ticks": ""
           },
           "bgcolor": "#E5ECF6",
           "caxis": {
            "gridcolor": "white",
            "linecolor": "white",
            "ticks": ""
           }
          },
          "title": {
           "x": 0.05
          },
          "xaxis": {
           "automargin": true,
           "gridcolor": "white",
           "linecolor": "white",
           "ticks": "",
           "title": {
            "standoff": 15
           },
           "zerolinecolor": "white",
           "zerolinewidth": 2
          },
          "yaxis": {
           "automargin": true,
           "gridcolor": "white",
           "linecolor": "white",
           "ticks": "",
           "title": {
            "standoff": 15
           },
           "zerolinecolor": "white",
           "zerolinewidth": 2
          }
         }
        },
        "title": {
         "text": "Bar Chart: School Distribution in Rift Valley"
        },
        "xaxis": {
         "title": {
          "text": "Count"
         }
        },
        "yaxis": {
         "title": {
          "text": "Level"
         }
        }
       }
      }
     },
     "metadata": {},
     "output_type": "display_data"
    }
   ],
   "source": [
    "priv = rift_valley[rift_valley[\"Status\"] == \"PRIVATE\"]\n",
    "pub = rift_valley[rift_valley[\"Status\"] == \"PUBLIC\"]\n",
    "priv_counts = priv.groupby([\"Level\", \"Sponsor\"]).size().reset_index(name=\"Count\")\n",
    "pub_counts = pub.groupby([\"Level\", \"Sponsor\"]).size().reset_index(name=\"Count\")\n",
    "unique_sponsors = priv_counts[\"Sponsor\"].unique()\n",
    "\n",
    "fig = go.Figure()\n",
    "\n",
    "for sponsor in unique_sponsors:\n",
    "    priv_data = priv_counts[priv_counts[\"Sponsor\"] == sponsor]\n",
    "    pub_data = pub_counts[pub_counts[\"Sponsor\"] == sponsor]\n",
    "\n",
    "    fig.add_trace(go.Bar(\n",
    "        x=priv_data[\"Count\"],\n",
    "        y=priv_data[\"Level\"],\n",
    "        name=f'Private - {sponsor}',\n",
    "        orientation='h',\n",
    "    ))\n",
    "\n",
    "    fig.add_trace(go.Bar(\n",
    "        x=pub_data[\"Count\"],\n",
    "        y=pub_data[\"Level\"],\n",
    "        name=f'Public - {sponsor}',\n",
    "        orientation='h',\n",
    "    ))\n",
    "\n",
    "fig.update_layout(\n",
    "    barmode='stack',\n",
    "    title=\"Bar Chart: School Distribution in Rift Valley\",\n",
    "    xaxis_title=\"Count\",\n",
    "    yaxis_title=\"Level\",\n",
    "    legend_title=\"Status\",\n",
    ")\n",
    "\n",
    "fig.show()"
   ]
  },
  {
   "cell_type": "code",
   "execution_count": 25,
   "metadata": {},
   "outputs": [],
   "source": [
    "north_eastern=df[df[\"PROVINCE\"]==\"NORTH EASTERN\"]\n",
    "north_eastern\n",
    "priv=north_eastern[north_eastern[\"Status\"]==\"PRIVATE\"]\n",
    "pub=north_eastern[north_eastern[\"Status\"]==\"PUBLIC\"]"
   ]
  },
  {
   "cell_type": "code",
   "execution_count": 26,
   "metadata": {},
   "outputs": [
    {
     "data": {
      "application/vnd.plotly.v1+json": {
       "config": {
        "plotlyServerURL": "https://plot.ly"
       },
       "data": [
        {
         "name": "Private - NGO/CBO",
         "orientation": "h",
         "type": "bar",
         "x": [
          4,
          15,
          21,
          2
         ],
         "y": [
          "ADULT EDUCATION CENTRE",
          "ECD/PRE-PRIMARY SCHOOL",
          "PRIMARY SCHOOL",
          "SECONDARY SCHOOL"
         ]
        },
        {
         "name": "Public - NGO/CBO",
         "orientation": "h",
         "type": "bar",
         "x": [
          1
         ],
         "y": [
          "ADULT EDUCATION CENTRE"
         ]
        },
        {
         "name": "Private - CENTRAL GOVERNMENT/DEB",
         "orientation": "h",
         "type": "bar",
         "x": [
          1,
          3
         ],
         "y": [
          "ECD/PRE-PRIMARY SCHOOL",
          "PRIMARY SCHOOL"
         ]
        },
        {
         "name": "Public - CENTRAL GOVERNMENT/DEB",
         "orientation": "h",
         "type": "bar",
         "x": [
          29,
          97,
          5,
          296,
          43,
          1,
          1,
          6
         ],
         "y": [
          "ADULT EDUCATION CENTRE",
          "ECD/PRE-PRIMARY SCHOOL",
          "NON FORMAL SCHOOL/NON FORMAL EDUCATION CENTRE",
          "PRIMARY SCHOOL",
          "SECONDARY SCHOOL",
          "TEACHER TRAINING COLLEGE",
          "TECHNICAL TRAINING INSTITUTE",
          "YOUTH POLYTECHNIC"
         ]
        },
        {
         "name": "Private - COMMUNITY",
         "orientation": "h",
         "type": "bar",
         "x": [
          12,
          5
         ],
         "y": [
          "ECD/PRE-PRIMARY SCHOOL",
          "PRIMARY SCHOOL"
         ]
        },
        {
         "name": "Public - COMMUNITY",
         "orientation": "h",
         "type": "bar",
         "x": [
          24,
          257,
          6,
          13
         ],
         "y": [
          "ADULT EDUCATION CENTRE",
          "ECD/PRE-PRIMARY SCHOOL",
          "NON FORMAL SCHOOL/NON FORMAL EDUCATION CENTRE",
          "PRIMARY SCHOOL"
         ]
        },
        {
         "name": "Private - PRIVATE INDIVIDUAL/ORGANIZATION",
         "orientation": "h",
         "type": "bar",
         "x": [
          53,
          2,
          51,
          9
         ],
         "y": [
          "ECD/PRE-PRIMARY SCHOOL",
          "NON FORMAL SCHOOL/NON FORMAL EDUCATION CENTRE",
          "PRIMARY SCHOOL",
          "SECONDARY SCHOOL"
         ]
        },
        {
         "name": "Public - PRIVATE INDIVIDUAL/ORGANIZATION",
         "orientation": "h",
         "type": "bar",
         "x": [
          1,
          1
         ],
         "y": [
          "ECD/PRE-PRIMARY SCHOOL",
          "PRIMARY SCHOOL"
         ]
        },
        {
         "name": "Private - RELIGIOUS ORGANIZATION",
         "orientation": "h",
         "type": "bar",
         "x": [
          10,
          6,
          2
         ],
         "y": [
          "ECD/PRE-PRIMARY SCHOOL",
          "PRIMARY SCHOOL",
          "SECONDARY SCHOOL"
         ]
        },
        {
         "name": "Public - RELIGIOUS ORGANIZATION",
         "orientation": "h",
         "type": "bar",
         "x": [
          13,
          4,
          1
         ],
         "y": [
          "ECD/PRE-PRIMARY SCHOOL",
          "PRIMARY SCHOOL",
          "YOUTH POLYTECHNIC"
         ]
        }
       ],
       "layout": {
        "barmode": "stack",
        "legend": {
         "title": {
          "text": "Status"
         }
        },
        "template": {
         "data": {
          "bar": [
           {
            "error_x": {
             "color": "#2a3f5f"
            },
            "error_y": {
             "color": "#2a3f5f"
            },
            "marker": {
             "line": {
              "color": "#E5ECF6",
              "width": 0.5
             },
             "pattern": {
              "fillmode": "overlay",
              "size": 10,
              "solidity": 0.2
             }
            },
            "type": "bar"
           }
          ],
          "barpolar": [
           {
            "marker": {
             "line": {
              "color": "#E5ECF6",
              "width": 0.5
             },
             "pattern": {
              "fillmode": "overlay",
              "size": 10,
              "solidity": 0.2
             }
            },
            "type": "barpolar"
           }
          ],
          "carpet": [
           {
            "aaxis": {
             "endlinecolor": "#2a3f5f",
             "gridcolor": "white",
             "linecolor": "white",
             "minorgridcolor": "white",
             "startlinecolor": "#2a3f5f"
            },
            "baxis": {
             "endlinecolor": "#2a3f5f",
             "gridcolor": "white",
             "linecolor": "white",
             "minorgridcolor": "white",
             "startlinecolor": "#2a3f5f"
            },
            "type": "carpet"
           }
          ],
          "choropleth": [
           {
            "colorbar": {
             "outlinewidth": 0,
             "ticks": ""
            },
            "type": "choropleth"
           }
          ],
          "contour": [
           {
            "colorbar": {
             "outlinewidth": 0,
             "ticks": ""
            },
            "colorscale": [
             [
              0,
              "#0d0887"
             ],
             [
              0.1111111111111111,
              "#46039f"
             ],
             [
              0.2222222222222222,
              "#7201a8"
             ],
             [
              0.3333333333333333,
              "#9c179e"
             ],
             [
              0.4444444444444444,
              "#bd3786"
             ],
             [
              0.5555555555555556,
              "#d8576b"
             ],
             [
              0.6666666666666666,
              "#ed7953"
             ],
             [
              0.7777777777777778,
              "#fb9f3a"
             ],
             [
              0.8888888888888888,
              "#fdca26"
             ],
             [
              1,
              "#f0f921"
             ]
            ],
            "type": "contour"
           }
          ],
          "contourcarpet": [
           {
            "colorbar": {
             "outlinewidth": 0,
             "ticks": ""
            },
            "type": "contourcarpet"
           }
          ],
          "heatmap": [
           {
            "colorbar": {
             "outlinewidth": 0,
             "ticks": ""
            },
            "colorscale": [
             [
              0,
              "#0d0887"
             ],
             [
              0.1111111111111111,
              "#46039f"
             ],
             [
              0.2222222222222222,
              "#7201a8"
             ],
             [
              0.3333333333333333,
              "#9c179e"
             ],
             [
              0.4444444444444444,
              "#bd3786"
             ],
             [
              0.5555555555555556,
              "#d8576b"
             ],
             [
              0.6666666666666666,
              "#ed7953"
             ],
             [
              0.7777777777777778,
              "#fb9f3a"
             ],
             [
              0.8888888888888888,
              "#fdca26"
             ],
             [
              1,
              "#f0f921"
             ]
            ],
            "type": "heatmap"
           }
          ],
          "heatmapgl": [
           {
            "colorbar": {
             "outlinewidth": 0,
             "ticks": ""
            },
            "colorscale": [
             [
              0,
              "#0d0887"
             ],
             [
              0.1111111111111111,
              "#46039f"
             ],
             [
              0.2222222222222222,
              "#7201a8"
             ],
             [
              0.3333333333333333,
              "#9c179e"
             ],
             [
              0.4444444444444444,
              "#bd3786"
             ],
             [
              0.5555555555555556,
              "#d8576b"
             ],
             [
              0.6666666666666666,
              "#ed7953"
             ],
             [
              0.7777777777777778,
              "#fb9f3a"
             ],
             [
              0.8888888888888888,
              "#fdca26"
             ],
             [
              1,
              "#f0f921"
             ]
            ],
            "type": "heatmapgl"
           }
          ],
          "histogram": [
           {
            "marker": {
             "pattern": {
              "fillmode": "overlay",
              "size": 10,
              "solidity": 0.2
             }
            },
            "type": "histogram"
           }
          ],
          "histogram2d": [
           {
            "colorbar": {
             "outlinewidth": 0,
             "ticks": ""
            },
            "colorscale": [
             [
              0,
              "#0d0887"
             ],
             [
              0.1111111111111111,
              "#46039f"
             ],
             [
              0.2222222222222222,
              "#7201a8"
             ],
             [
              0.3333333333333333,
              "#9c179e"
             ],
             [
              0.4444444444444444,
              "#bd3786"
             ],
             [
              0.5555555555555556,
              "#d8576b"
             ],
             [
              0.6666666666666666,
              "#ed7953"
             ],
             [
              0.7777777777777778,
              "#fb9f3a"
             ],
             [
              0.8888888888888888,
              "#fdca26"
             ],
             [
              1,
              "#f0f921"
             ]
            ],
            "type": "histogram2d"
           }
          ],
          "histogram2dcontour": [
           {
            "colorbar": {
             "outlinewidth": 0,
             "ticks": ""
            },
            "colorscale": [
             [
              0,
              "#0d0887"
             ],
             [
              0.1111111111111111,
              "#46039f"
             ],
             [
              0.2222222222222222,
              "#7201a8"
             ],
             [
              0.3333333333333333,
              "#9c179e"
             ],
             [
              0.4444444444444444,
              "#bd3786"
             ],
             [
              0.5555555555555556,
              "#d8576b"
             ],
             [
              0.6666666666666666,
              "#ed7953"
             ],
             [
              0.7777777777777778,
              "#fb9f3a"
             ],
             [
              0.8888888888888888,
              "#fdca26"
             ],
             [
              1,
              "#f0f921"
             ]
            ],
            "type": "histogram2dcontour"
           }
          ],
          "mesh3d": [
           {
            "colorbar": {
             "outlinewidth": 0,
             "ticks": ""
            },
            "type": "mesh3d"
           }
          ],
          "parcoords": [
           {
            "line": {
             "colorbar": {
              "outlinewidth": 0,
              "ticks": ""
             }
            },
            "type": "parcoords"
           }
          ],
          "pie": [
           {
            "automargin": true,
            "type": "pie"
           }
          ],
          "scatter": [
           {
            "fillpattern": {
             "fillmode": "overlay",
             "size": 10,
             "solidity": 0.2
            },
            "type": "scatter"
           }
          ],
          "scatter3d": [
           {
            "line": {
             "colorbar": {
              "outlinewidth": 0,
              "ticks": ""
             }
            },
            "marker": {
             "colorbar": {
              "outlinewidth": 0,
              "ticks": ""
             }
            },
            "type": "scatter3d"
           }
          ],
          "scattercarpet": [
           {
            "marker": {
             "colorbar": {
              "outlinewidth": 0,
              "ticks": ""
             }
            },
            "type": "scattercarpet"
           }
          ],
          "scattergeo": [
           {
            "marker": {
             "colorbar": {
              "outlinewidth": 0,
              "ticks": ""
             }
            },
            "type": "scattergeo"
           }
          ],
          "scattergl": [
           {
            "marker": {
             "colorbar": {
              "outlinewidth": 0,
              "ticks": ""
             }
            },
            "type": "scattergl"
           }
          ],
          "scattermapbox": [
           {
            "marker": {
             "colorbar": {
              "outlinewidth": 0,
              "ticks": ""
             }
            },
            "type": "scattermapbox"
           }
          ],
          "scatterpolar": [
           {
            "marker": {
             "colorbar": {
              "outlinewidth": 0,
              "ticks": ""
             }
            },
            "type": "scatterpolar"
           }
          ],
          "scatterpolargl": [
           {
            "marker": {
             "colorbar": {
              "outlinewidth": 0,
              "ticks": ""
             }
            },
            "type": "scatterpolargl"
           }
          ],
          "scatterternary": [
           {
            "marker": {
             "colorbar": {
              "outlinewidth": 0,
              "ticks": ""
             }
            },
            "type": "scatterternary"
           }
          ],
          "surface": [
           {
            "colorbar": {
             "outlinewidth": 0,
             "ticks": ""
            },
            "colorscale": [
             [
              0,
              "#0d0887"
             ],
             [
              0.1111111111111111,
              "#46039f"
             ],
             [
              0.2222222222222222,
              "#7201a8"
             ],
             [
              0.3333333333333333,
              "#9c179e"
             ],
             [
              0.4444444444444444,
              "#bd3786"
             ],
             [
              0.5555555555555556,
              "#d8576b"
             ],
             [
              0.6666666666666666,
              "#ed7953"
             ],
             [
              0.7777777777777778,
              "#fb9f3a"
             ],
             [
              0.8888888888888888,
              "#fdca26"
             ],
             [
              1,
              "#f0f921"
             ]
            ],
            "type": "surface"
           }
          ],
          "table": [
           {
            "cells": {
             "fill": {
              "color": "#EBF0F8"
             },
             "line": {
              "color": "white"
             }
            },
            "header": {
             "fill": {
              "color": "#C8D4E3"
             },
             "line": {
              "color": "white"
             }
            },
            "type": "table"
           }
          ]
         },
         "layout": {
          "annotationdefaults": {
           "arrowcolor": "#2a3f5f",
           "arrowhead": 0,
           "arrowwidth": 1
          },
          "autotypenumbers": "strict",
          "coloraxis": {
           "colorbar": {
            "outlinewidth": 0,
            "ticks": ""
           }
          },
          "colorscale": {
           "diverging": [
            [
             0,
             "#8e0152"
            ],
            [
             0.1,
             "#c51b7d"
            ],
            [
             0.2,
             "#de77ae"
            ],
            [
             0.3,
             "#f1b6da"
            ],
            [
             0.4,
             "#fde0ef"
            ],
            [
             0.5,
             "#f7f7f7"
            ],
            [
             0.6,
             "#e6f5d0"
            ],
            [
             0.7,
             "#b8e186"
            ],
            [
             0.8,
             "#7fbc41"
            ],
            [
             0.9,
             "#4d9221"
            ],
            [
             1,
             "#276419"
            ]
           ],
           "sequential": [
            [
             0,
             "#0d0887"
            ],
            [
             0.1111111111111111,
             "#46039f"
            ],
            [
             0.2222222222222222,
             "#7201a8"
            ],
            [
             0.3333333333333333,
             "#9c179e"
            ],
            [
             0.4444444444444444,
             "#bd3786"
            ],
            [
             0.5555555555555556,
             "#d8576b"
            ],
            [
             0.6666666666666666,
             "#ed7953"
            ],
            [
             0.7777777777777778,
             "#fb9f3a"
            ],
            [
             0.8888888888888888,
             "#fdca26"
            ],
            [
             1,
             "#f0f921"
            ]
           ],
           "sequentialminus": [
            [
             0,
             "#0d0887"
            ],
            [
             0.1111111111111111,
             "#46039f"
            ],
            [
             0.2222222222222222,
             "#7201a8"
            ],
            [
             0.3333333333333333,
             "#9c179e"
            ],
            [
             0.4444444444444444,
             "#bd3786"
            ],
            [
             0.5555555555555556,
             "#d8576b"
            ],
            [
             0.6666666666666666,
             "#ed7953"
            ],
            [
             0.7777777777777778,
             "#fb9f3a"
            ],
            [
             0.8888888888888888,
             "#fdca26"
            ],
            [
             1,
             "#f0f921"
            ]
           ]
          },
          "colorway": [
           "#636efa",
           "#EF553B",
           "#00cc96",
           "#ab63fa",
           "#FFA15A",
           "#19d3f3",
           "#FF6692",
           "#B6E880",
           "#FF97FF",
           "#FECB52"
          ],
          "font": {
           "color": "#2a3f5f"
          },
          "geo": {
           "bgcolor": "white",
           "lakecolor": "white",
           "landcolor": "#E5ECF6",
           "showlakes": true,
           "showland": true,
           "subunitcolor": "white"
          },
          "hoverlabel": {
           "align": "left"
          },
          "hovermode": "closest",
          "mapbox": {
           "style": "light"
          },
          "paper_bgcolor": "white",
          "plot_bgcolor": "#E5ECF6",
          "polar": {
           "angularaxis": {
            "gridcolor": "white",
            "linecolor": "white",
            "ticks": ""
           },
           "bgcolor": "#E5ECF6",
           "radialaxis": {
            "gridcolor": "white",
            "linecolor": "white",
            "ticks": ""
           }
          },
          "scene": {
           "xaxis": {
            "backgroundcolor": "#E5ECF6",
            "gridcolor": "white",
            "gridwidth": 2,
            "linecolor": "white",
            "showbackground": true,
            "ticks": "",
            "zerolinecolor": "white"
           },
           "yaxis": {
            "backgroundcolor": "#E5ECF6",
            "gridcolor": "white",
            "gridwidth": 2,
            "linecolor": "white",
            "showbackground": true,
            "ticks": "",
            "zerolinecolor": "white"
           },
           "zaxis": {
            "backgroundcolor": "#E5ECF6",
            "gridcolor": "white",
            "gridwidth": 2,
            "linecolor": "white",
            "showbackground": true,
            "ticks": "",
            "zerolinecolor": "white"
           }
          },
          "shapedefaults": {
           "line": {
            "color": "#2a3f5f"
           }
          },
          "ternary": {
           "aaxis": {
            "gridcolor": "white",
            "linecolor": "white",
            "ticks": ""
           },
           "baxis": {
            "gridcolor": "white",
            "linecolor": "white",
            "ticks": ""
           },
           "bgcolor": "#E5ECF6",
           "caxis": {
            "gridcolor": "white",
            "linecolor": "white",
            "ticks": ""
           }
          },
          "title": {
           "x": 0.05
          },
          "xaxis": {
           "automargin": true,
           "gridcolor": "white",
           "linecolor": "white",
           "ticks": "",
           "title": {
            "standoff": 15
           },
           "zerolinecolor": "white",
           "zerolinewidth": 2
          },
          "yaxis": {
           "automargin": true,
           "gridcolor": "white",
           "linecolor": "white",
           "ticks": "",
           "title": {
            "standoff": 15
           },
           "zerolinecolor": "white",
           "zerolinewidth": 2
          }
         }
        },
        "title": {
         "text": "Bar Chart: School Distribution in North Eastern Province"
        },
        "xaxis": {
         "title": {
          "text": "Count"
         }
        },
        "yaxis": {
         "title": {
          "text": "Level"
         }
        }
       }
      }
     },
     "metadata": {},
     "output_type": "display_data"
    }
   ],
   "source": [
    "priv_grouped = priv.groupby(['Level', 'Sponsor']).size().reset_index(name='Count')\n",
    "pub_grouped = pub.groupby(['Level', 'Sponsor']).size().reset_index(name='Count')\n",
    "\n",
    "unique_sponsors = priv_grouped['Sponsor'].unique()\n",
    "\n",
    "fig = go.Figure()\n",
    "\n",
    "for sponsor in unique_sponsors:\n",
    "    priv_data = priv_grouped[priv_grouped['Sponsor'] == sponsor]\n",
    "    pub_data = pub_grouped[pub_grouped['Sponsor'] == sponsor]\n",
    "\n",
    "    fig.add_trace(go.Bar(\n",
    "        x=priv_data['Count'],\n",
    "        y=priv_data['Level'],\n",
    "        name=f'Private - {sponsor}',\n",
    "        orientation='h'\n",
    "    ))\n",
    "\n",
    "    fig.add_trace(go.Bar(\n",
    "        x=pub_data['Count'],\n",
    "        y=pub_data['Level'],\n",
    "        name=f'Public - {sponsor}',\n",
    "        orientation='h'\n",
    "    ))\n",
    "\n",
    "\n",
    "fig.update_layout(\n",
    "    barmode='stack',\n",
    "    title='Bar Chart: School Distribution in North Eastern Province',\n",
    "    xaxis_title='Count',\n",
    "    yaxis_title='Level',\n",
    "    legend_title='Status',\n",
    ")\n",
    "\n",
    "\n",
    "fig.show()\n"
   ]
  },
  {
   "cell_type": "code",
   "execution_count": 27,
   "metadata": {},
   "outputs": [],
   "source": [
    "coast=df[df[\"PROVINCE\"]==\"COAST\"]\n",
    "coast\n",
    "priv=coast[coast[\"Status\"]==\"PRIVATE\"]\n",
    "pub=coast[coast[\"Status\"]==\"PUBLIC\"]"
   ]
  },
  {
   "cell_type": "code",
   "execution_count": 28,
   "metadata": {},
   "outputs": [
    {
     "data": {
      "application/vnd.plotly.v1+json": {
       "config": {
        "plotlyServerURL": "https://plot.ly"
       },
       "data": [
        {
         "name": "Private - CENTRAL GOVERNMENT/DEB",
         "orientation": "h",
         "type": "bar",
         "x": [
          4,
          3
         ],
         "y": [
          "ECD/PRE-PRIMARY SCHOOL",
          "PRIMARY SCHOOL"
         ]
        },
        {
         "name": "Public - CENTRAL GOVERNMENT/DEB",
         "orientation": "h",
         "type": "bar",
         "x": [
          11,
          111,
          2,
          1,
          78,
          656,
          93,
          1,
          1,
          1,
          14
         ],
         "y": [
          "ADULT EDUCATION CENTRE",
          "ECD/PRE-PRIMARY SCHOOL",
          "INSTITUTE OF TECHNOLOGY",
          "NATIONAL POLYTECHNIC",
          "NON FORMAL SCHOOL/NON FORMAL EDUCATION CENTRE",
          "PRIMARY SCHOOL",
          "SECONDARY SCHOOL",
          "TEACHER TRAINING COLLEGE",
          "TECHNICAL TRAINING INSTITUTE",
          "UNIVERSITY",
          "YOUTH POLYTECHNIC"
         ]
        },
        {
         "name": "Private - COMMUNITY",
         "orientation": "h",
         "type": "bar",
         "x": [
          101,
          1,
          27,
          2,
          1
         ],
         "y": [
          "ECD/PRE-PRIMARY SCHOOL",
          "NON FORMAL SCHOOL/NON FORMAL EDUCATION CENTRE",
          "PRIMARY SCHOOL",
          "SECONDARY SCHOOL",
          "YOUTH POLYTECHNIC"
         ]
        },
        {
         "name": "Public - COMMUNITY",
         "orientation": "h",
         "type": "bar",
         "x": [
          1,
          1190,
          20,
          50,
          15,
          31
         ],
         "y": [
          "ADULT EDUCATION CENTRE",
          "ECD/PRE-PRIMARY SCHOOL",
          "NON FORMAL SCHOOL/NON FORMAL EDUCATION CENTRE",
          "PRIMARY SCHOOL",
          "SECONDARY SCHOOL",
          "YOUTH POLYTECHNIC"
         ]
        },
        {
         "name": "Private - LOCAL GOVERNMENT AUTHORITY",
         "orientation": "h",
         "type": "bar",
         "x": [
          8,
          3
         ],
         "y": [
          "ECD/PRE-PRIMARY SCHOOL",
          "PRIMARY SCHOOL"
         ]
        },
        {
         "name": "Public - LOCAL GOVERNMENT AUTHORITY",
         "orientation": "h",
         "type": "bar",
         "x": [
          53,
          4,
          60
         ],
         "y": [
          "ECD/PRE-PRIMARY SCHOOL",
          "NON FORMAL SCHOOL/NON FORMAL EDUCATION CENTRE",
          "PRIMARY SCHOOL"
         ]
        },
        {
         "name": "Private - NGO/CBO",
         "orientation": "h",
         "type": "bar",
         "x": [
          24,
          13,
          3,
          1
         ],
         "y": [
          "ECD/PRE-PRIMARY SCHOOL",
          "PRIMARY SCHOOL",
          "SECONDARY SCHOOL",
          "YOUTH POLYTECHNIC"
         ]
        },
        {
         "name": "Public - NGO/CBO",
         "orientation": "h",
         "type": "bar",
         "x": [
          21,
          1,
          1
         ],
         "y": [
          "ECD/PRE-PRIMARY SCHOOL",
          "SECONDARY SCHOOL",
          "YOUTH POLYTECHNIC"
         ]
        },
        {
         "name": "Private - PRIVATE INDIVIDUAL",
         "orientation": "h",
         "type": "bar",
         "x": [
          488,
          2,
          258,
          52,
          1,
          3,
          3
         ],
         "y": [
          "ECD/PRE-PRIMARY SCHOOL",
          "NON FORMAL SCHOOL/NON FORMAL EDUCATION CENTRE",
          "PRIMARY SCHOOL",
          "SECONDARY SCHOOL",
          "TEACHER TRAINING COLLEGE",
          "TECHNICAL TRAINING INSTITUTE",
          "YOUTH POLYTECHNIC"
         ]
        },
        {
         "name": "Public - PRIVATE INDIVIDUAL",
         "orientation": "h",
         "type": "bar",
         "x": [
          11,
          11
         ],
         "y": [
          "ECD/PRE-PRIMARY SCHOOL",
          "PRIMARY SCHOOL"
         ]
        },
        {
         "name": "Private - PRIVATE INDIVIDUAL/ORGANIZATION",
         "orientation": "h",
         "type": "bar",
         "x": [
          9,
          2
         ],
         "y": [
          "ECD/PRE-PRIMARY SCHOOL",
          "PRIMARY SCHOOL"
         ]
        },
        {
         "name": "Public - PRIVATE INDIVIDUAL/ORGANIZATION",
         "orientation": "h",
         "type": "bar",
         "x": [
          2
         ],
         "y": [
          "ECD/PRE-PRIMARY SCHOOL"
         ]
        },
        {
         "name": "Private - RELIGIOUS ORGANIZATION",
         "orientation": "h",
         "type": "bar",
         "x": [
          327,
          3,
          130,
          25,
          1,
          1,
          1
         ],
         "y": [
          "ECD/PRE-PRIMARY SCHOOL",
          "NON FORMAL SCHOOL/NON FORMAL EDUCATION CENTRE",
          "PRIMARY SCHOOL",
          "SECONDARY SCHOOL",
          "TEACHER TRAINING COLLEGE",
          "TECHNICAL TRAINING INSTITUTE",
          "YOUTH POLYTECHNIC"
         ]
        },
        {
         "name": "Public - RELIGIOUS ORGANIZATION",
         "orientation": "h",
         "type": "bar",
         "x": [
          502,
          15,
          456,
          86,
          3,
          2,
          4
         ],
         "y": [
          "ECD/PRE-PRIMARY SCHOOL",
          "NON FORMAL SCHOOL/NON FORMAL EDUCATION CENTRE",
          "PRIMARY SCHOOL",
          "SECONDARY SCHOOL",
          "TEACHER TRAINING COLLEGE",
          "TECHNICAL TRAINING INSTITUTE",
          "YOUTH POLYTECHNIC"
         ]
        }
       ],
       "layout": {
        "barmode": "stack",
        "legend": {
         "title": {
          "text": "Status"
         }
        },
        "template": {
         "data": {
          "bar": [
           {
            "error_x": {
             "color": "#2a3f5f"
            },
            "error_y": {
             "color": "#2a3f5f"
            },
            "marker": {
             "line": {
              "color": "#E5ECF6",
              "width": 0.5
             },
             "pattern": {
              "fillmode": "overlay",
              "size": 10,
              "solidity": 0.2
             }
            },
            "type": "bar"
           }
          ],
          "barpolar": [
           {
            "marker": {
             "line": {
              "color": "#E5ECF6",
              "width": 0.5
             },
             "pattern": {
              "fillmode": "overlay",
              "size": 10,
              "solidity": 0.2
             }
            },
            "type": "barpolar"
           }
          ],
          "carpet": [
           {
            "aaxis": {
             "endlinecolor": "#2a3f5f",
             "gridcolor": "white",
             "linecolor": "white",
             "minorgridcolor": "white",
             "startlinecolor": "#2a3f5f"
            },
            "baxis": {
             "endlinecolor": "#2a3f5f",
             "gridcolor": "white",
             "linecolor": "white",
             "minorgridcolor": "white",
             "startlinecolor": "#2a3f5f"
            },
            "type": "carpet"
           }
          ],
          "choropleth": [
           {
            "colorbar": {
             "outlinewidth": 0,
             "ticks": ""
            },
            "type": "choropleth"
           }
          ],
          "contour": [
           {
            "colorbar": {
             "outlinewidth": 0,
             "ticks": ""
            },
            "colorscale": [
             [
              0,
              "#0d0887"
             ],
             [
              0.1111111111111111,
              "#46039f"
             ],
             [
              0.2222222222222222,
              "#7201a8"
             ],
             [
              0.3333333333333333,
              "#9c179e"
             ],
             [
              0.4444444444444444,
              "#bd3786"
             ],
             [
              0.5555555555555556,
              "#d8576b"
             ],
             [
              0.6666666666666666,
              "#ed7953"
             ],
             [
              0.7777777777777778,
              "#fb9f3a"
             ],
             [
              0.8888888888888888,
              "#fdca26"
             ],
             [
              1,
              "#f0f921"
             ]
            ],
            "type": "contour"
           }
          ],
          "contourcarpet": [
           {
            "colorbar": {
             "outlinewidth": 0,
             "ticks": ""
            },
            "type": "contourcarpet"
           }
          ],
          "heatmap": [
           {
            "colorbar": {
             "outlinewidth": 0,
             "ticks": ""
            },
            "colorscale": [
             [
              0,
              "#0d0887"
             ],
             [
              0.1111111111111111,
              "#46039f"
             ],
             [
              0.2222222222222222,
              "#7201a8"
             ],
             [
              0.3333333333333333,
              "#9c179e"
             ],
             [
              0.4444444444444444,
              "#bd3786"
             ],
             [
              0.5555555555555556,
              "#d8576b"
             ],
             [
              0.6666666666666666,
              "#ed7953"
             ],
             [
              0.7777777777777778,
              "#fb9f3a"
             ],
             [
              0.8888888888888888,
              "#fdca26"
             ],
             [
              1,
              "#f0f921"
             ]
            ],
            "type": "heatmap"
           }
          ],
          "heatmapgl": [
           {
            "colorbar": {
             "outlinewidth": 0,
             "ticks": ""
            },
            "colorscale": [
             [
              0,
              "#0d0887"
             ],
             [
              0.1111111111111111,
              "#46039f"
             ],
             [
              0.2222222222222222,
              "#7201a8"
             ],
             [
              0.3333333333333333,
              "#9c179e"
             ],
             [
              0.4444444444444444,
              "#bd3786"
             ],
             [
              0.5555555555555556,
              "#d8576b"
             ],
             [
              0.6666666666666666,
              "#ed7953"
             ],
             [
              0.7777777777777778,
              "#fb9f3a"
             ],
             [
              0.8888888888888888,
              "#fdca26"
             ],
             [
              1,
              "#f0f921"
             ]
            ],
            "type": "heatmapgl"
           }
          ],
          "histogram": [
           {
            "marker": {
             "pattern": {
              "fillmode": "overlay",
              "size": 10,
              "solidity": 0.2
             }
            },
            "type": "histogram"
           }
          ],
          "histogram2d": [
           {
            "colorbar": {
             "outlinewidth": 0,
             "ticks": ""
            },
            "colorscale": [
             [
              0,
              "#0d0887"
             ],
             [
              0.1111111111111111,
              "#46039f"
             ],
             [
              0.2222222222222222,
              "#7201a8"
             ],
             [
              0.3333333333333333,
              "#9c179e"
             ],
             [
              0.4444444444444444,
              "#bd3786"
             ],
             [
              0.5555555555555556,
              "#d8576b"
             ],
             [
              0.6666666666666666,
              "#ed7953"
             ],
             [
              0.7777777777777778,
              "#fb9f3a"
             ],
             [
              0.8888888888888888,
              "#fdca26"
             ],
             [
              1,
              "#f0f921"
             ]
            ],
            "type": "histogram2d"
           }
          ],
          "histogram2dcontour": [
           {
            "colorbar": {
             "outlinewidth": 0,
             "ticks": ""
            },
            "colorscale": [
             [
              0,
              "#0d0887"
             ],
             [
              0.1111111111111111,
              "#46039f"
             ],
             [
              0.2222222222222222,
              "#7201a8"
             ],
             [
              0.3333333333333333,
              "#9c179e"
             ],
             [
              0.4444444444444444,
              "#bd3786"
             ],
             [
              0.5555555555555556,
              "#d8576b"
             ],
             [
              0.6666666666666666,
              "#ed7953"
             ],
             [
              0.7777777777777778,
              "#fb9f3a"
             ],
             [
              0.8888888888888888,
              "#fdca26"
             ],
             [
              1,
              "#f0f921"
             ]
            ],
            "type": "histogram2dcontour"
           }
          ],
          "mesh3d": [
           {
            "colorbar": {
             "outlinewidth": 0,
             "ticks": ""
            },
            "type": "mesh3d"
           }
          ],
          "parcoords": [
           {
            "line": {
             "colorbar": {
              "outlinewidth": 0,
              "ticks": ""
             }
            },
            "type": "parcoords"
           }
          ],
          "pie": [
           {
            "automargin": true,
            "type": "pie"
           }
          ],
          "scatter": [
           {
            "fillpattern": {
             "fillmode": "overlay",
             "size": 10,
             "solidity": 0.2
            },
            "type": "scatter"
           }
          ],
          "scatter3d": [
           {
            "line": {
             "colorbar": {
              "outlinewidth": 0,
              "ticks": ""
             }
            },
            "marker": {
             "colorbar": {
              "outlinewidth": 0,
              "ticks": ""
             }
            },
            "type": "scatter3d"
           }
          ],
          "scattercarpet": [
           {
            "marker": {
             "colorbar": {
              "outlinewidth": 0,
              "ticks": ""
             }
            },
            "type": "scattercarpet"
           }
          ],
          "scattergeo": [
           {
            "marker": {
             "colorbar": {
              "outlinewidth": 0,
              "ticks": ""
             }
            },
            "type": "scattergeo"
           }
          ],
          "scattergl": [
           {
            "marker": {
             "colorbar": {
              "outlinewidth": 0,
              "ticks": ""
             }
            },
            "type": "scattergl"
           }
          ],
          "scattermapbox": [
           {
            "marker": {
             "colorbar": {
              "outlinewidth": 0,
              "ticks": ""
             }
            },
            "type": "scattermapbox"
           }
          ],
          "scatterpolar": [
           {
            "marker": {
             "colorbar": {
              "outlinewidth": 0,
              "ticks": ""
             }
            },
            "type": "scatterpolar"
           }
          ],
          "scatterpolargl": [
           {
            "marker": {
             "colorbar": {
              "outlinewidth": 0,
              "ticks": ""
             }
            },
            "type": "scatterpolargl"
           }
          ],
          "scatterternary": [
           {
            "marker": {
             "colorbar": {
              "outlinewidth": 0,
              "ticks": ""
             }
            },
            "type": "scatterternary"
           }
          ],
          "surface": [
           {
            "colorbar": {
             "outlinewidth": 0,
             "ticks": ""
            },
            "colorscale": [
             [
              0,
              "#0d0887"
             ],
             [
              0.1111111111111111,
              "#46039f"
             ],
             [
              0.2222222222222222,
              "#7201a8"
             ],
             [
              0.3333333333333333,
              "#9c179e"
             ],
             [
              0.4444444444444444,
              "#bd3786"
             ],
             [
              0.5555555555555556,
              "#d8576b"
             ],
             [
              0.6666666666666666,
              "#ed7953"
             ],
             [
              0.7777777777777778,
              "#fb9f3a"
             ],
             [
              0.8888888888888888,
              "#fdca26"
             ],
             [
              1,
              "#f0f921"
             ]
            ],
            "type": "surface"
           }
          ],
          "table": [
           {
            "cells": {
             "fill": {
              "color": "#EBF0F8"
             },
             "line": {
              "color": "white"
             }
            },
            "header": {
             "fill": {
              "color": "#C8D4E3"
             },
             "line": {
              "color": "white"
             }
            },
            "type": "table"
           }
          ]
         },
         "layout": {
          "annotationdefaults": {
           "arrowcolor": "#2a3f5f",
           "arrowhead": 0,
           "arrowwidth": 1
          },
          "autotypenumbers": "strict",
          "coloraxis": {
           "colorbar": {
            "outlinewidth": 0,
            "ticks": ""
           }
          },
          "colorscale": {
           "diverging": [
            [
             0,
             "#8e0152"
            ],
            [
             0.1,
             "#c51b7d"
            ],
            [
             0.2,
             "#de77ae"
            ],
            [
             0.3,
             "#f1b6da"
            ],
            [
             0.4,
             "#fde0ef"
            ],
            [
             0.5,
             "#f7f7f7"
            ],
            [
             0.6,
             "#e6f5d0"
            ],
            [
             0.7,
             "#b8e186"
            ],
            [
             0.8,
             "#7fbc41"
            ],
            [
             0.9,
             "#4d9221"
            ],
            [
             1,
             "#276419"
            ]
           ],
           "sequential": [
            [
             0,
             "#0d0887"
            ],
            [
             0.1111111111111111,
             "#46039f"
            ],
            [
             0.2222222222222222,
             "#7201a8"
            ],
            [
             0.3333333333333333,
             "#9c179e"
            ],
            [
             0.4444444444444444,
             "#bd3786"
            ],
            [
             0.5555555555555556,
             "#d8576b"
            ],
            [
             0.6666666666666666,
             "#ed7953"
            ],
            [
             0.7777777777777778,
             "#fb9f3a"
            ],
            [
             0.8888888888888888,
             "#fdca26"
            ],
            [
             1,
             "#f0f921"
            ]
           ],
           "sequentialminus": [
            [
             0,
             "#0d0887"
            ],
            [
             0.1111111111111111,
             "#46039f"
            ],
            [
             0.2222222222222222,
             "#7201a8"
            ],
            [
             0.3333333333333333,
             "#9c179e"
            ],
            [
             0.4444444444444444,
             "#bd3786"
            ],
            [
             0.5555555555555556,
             "#d8576b"
            ],
            [
             0.6666666666666666,
             "#ed7953"
            ],
            [
             0.7777777777777778,
             "#fb9f3a"
            ],
            [
             0.8888888888888888,
             "#fdca26"
            ],
            [
             1,
             "#f0f921"
            ]
           ]
          },
          "colorway": [
           "#636efa",
           "#EF553B",
           "#00cc96",
           "#ab63fa",
           "#FFA15A",
           "#19d3f3",
           "#FF6692",
           "#B6E880",
           "#FF97FF",
           "#FECB52"
          ],
          "font": {
           "color": "#2a3f5f"
          },
          "geo": {
           "bgcolor": "white",
           "lakecolor": "white",
           "landcolor": "#E5ECF6",
           "showlakes": true,
           "showland": true,
           "subunitcolor": "white"
          },
          "hoverlabel": {
           "align": "left"
          },
          "hovermode": "closest",
          "mapbox": {
           "style": "light"
          },
          "paper_bgcolor": "white",
          "plot_bgcolor": "#E5ECF6",
          "polar": {
           "angularaxis": {
            "gridcolor": "white",
            "linecolor": "white",
            "ticks": ""
           },
           "bgcolor": "#E5ECF6",
           "radialaxis": {
            "gridcolor": "white",
            "linecolor": "white",
            "ticks": ""
           }
          },
          "scene": {
           "xaxis": {
            "backgroundcolor": "#E5ECF6",
            "gridcolor": "white",
            "gridwidth": 2,
            "linecolor": "white",
            "showbackground": true,
            "ticks": "",
            "zerolinecolor": "white"
           },
           "yaxis": {
            "backgroundcolor": "#E5ECF6",
            "gridcolor": "white",
            "gridwidth": 2,
            "linecolor": "white",
            "showbackground": true,
            "ticks": "",
            "zerolinecolor": "white"
           },
           "zaxis": {
            "backgroundcolor": "#E5ECF6",
            "gridcolor": "white",
            "gridwidth": 2,
            "linecolor": "white",
            "showbackground": true,
            "ticks": "",
            "zerolinecolor": "white"
           }
          },
          "shapedefaults": {
           "line": {
            "color": "#2a3f5f"
           }
          },
          "ternary": {
           "aaxis": {
            "gridcolor": "white",
            "linecolor": "white",
            "ticks": ""
           },
           "baxis": {
            "gridcolor": "white",
            "linecolor": "white",
            "ticks": ""
           },
           "bgcolor": "#E5ECF6",
           "caxis": {
            "gridcolor": "white",
            "linecolor": "white",
            "ticks": ""
           }
          },
          "title": {
           "x": 0.05
          },
          "xaxis": {
           "automargin": true,
           "gridcolor": "white",
           "linecolor": "white",
           "ticks": "",
           "title": {
            "standoff": 15
           },
           "zerolinecolor": "white",
           "zerolinewidth": 2
          },
          "yaxis": {
           "automargin": true,
           "gridcolor": "white",
           "linecolor": "white",
           "ticks": "",
           "title": {
            "standoff": 15
           },
           "zerolinecolor": "white",
           "zerolinewidth": 2
          }
         }
        },
        "title": {
         "text": "Bar Chart: School Distribution in Coast Province"
        },
        "xaxis": {
         "title": {
          "text": "Count"
         }
        },
        "yaxis": {
         "title": {
          "text": "Level"
         }
        }
       }
      }
     },
     "metadata": {},
     "output_type": "display_data"
    }
   ],
   "source": [
    "priv = coast[coast[\"Status\"] == \"PRIVATE\"]\n",
    "pub = coast[coast[\"Status\"] == \"PUBLIC\"]\n",
    "\n",
    "priv_grouped = priv.groupby(['Level', 'Sponsor']).size().reset_index(name='Count')\n",
    "pub_grouped = pub.groupby(['Level', 'Sponsor']).size().reset_index(name='Count')\n",
    "\n",
    "unique_sponsors = priv_grouped['Sponsor'].unique()\n",
    "\n",
    "fig = go.Figure()\n",
    "\n",
    "for sponsor in unique_sponsors:\n",
    "    priv_data = priv_grouped[priv_grouped['Sponsor'] == sponsor]\n",
    "    pub_data = pub_grouped[pub_grouped['Sponsor'] == sponsor]\n",
    "\n",
    "    fig.add_trace(go.Bar(\n",
    "        x=priv_data['Count'],\n",
    "        y=priv_data['Level'],\n",
    "        name=f'Private - {sponsor}',\n",
    "        orientation='h'\n",
    "    ))\n",
    "\n",
    "    fig.add_trace(go.Bar(\n",
    "        x=pub_data['Count'],\n",
    "        y=pub_data['Level'],\n",
    "        name=f'Public - {sponsor}',\n",
    "        orientation='h'\n",
    "    ))\n",
    "fig.update_layout(\n",
    "    barmode='stack',\n",
    "    title='Bar Chart: School Distribution in Coast Province',\n",
    "    xaxis_title='Count',\n",
    "    yaxis_title='Level',\n",
    "    legend_title='Status',\n",
    ")\n",
    "\n",
    "fig.show()\n"
   ]
  },
  {
   "cell_type": "code",
   "execution_count": 29,
   "metadata": {},
   "outputs": [],
   "source": [
    "western=df[df[\"PROVINCE\"]==\"WESTERN\"]\n",
    "western\n",
    "priv=western[western[\"Status\"]==\"PRIVATE\"]\n",
    "pub=western[western[\"Status\"]==\"PUBLIC\"]"
   ]
  },
  {
   "cell_type": "code",
   "execution_count": 30,
   "metadata": {},
   "outputs": [
    {
     "data": {
      "application/vnd.plotly.v1+json": {
       "config": {
        "plotlyServerURL": "https://plot.ly"
       },
       "data": [
        {
         "name": "Private - COMMUNITY",
         "orientation": "h",
         "type": "bar",
         "x": [
          49,
          2,
          4,
          1,
          1
         ],
         "y": [
          "ECD/PRE-PRIMARY SCHOOL",
          "NON FORMAL SCHOOL/NON FORMAL EDUCATION CENTRE",
          "PRIMARY SCHOOL",
          "SECONDARY SCHOOL",
          "TEACHER TRAINING COLLEGE"
         ]
        },
        {
         "name": "Public - COMMUNITY",
         "orientation": "h",
         "type": "bar",
         "x": [
          1041,
          1,
          8,
          39,
          36,
          9
         ],
         "y": [
          "ECD/PRE-PRIMARY SCHOOL",
          "NATIONAL POLYTECHNIC",
          "NON FORMAL SCHOOL/NON FORMAL EDUCATION CENTRE",
          "PRIMARY SCHOOL",
          "SECONDARY SCHOOL",
          "YOUTH POLYTECHNIC"
         ]
        },
        {
         "name": "Private - LOCAL GORVERNMENT AUTHORITY",
         "orientation": "h",
         "type": "bar",
         "x": [
          1
         ],
         "y": [
          "ECD/PRE-PRIMARY SCHOOL"
         ]
        },
        {
         "name": "Public - LOCAL GORVERNMENT AUTHORITY",
         "orientation": "h",
         "type": "bar",
         "x": [
          5,
          4
         ],
         "y": [
          "ECD/PRE-PRIMARY SCHOOL",
          "PRIMARY SCHOOL"
         ]
        },
        {
         "name": "Private - LOCAL GOVERNMENT AUTHORITY",
         "orientation": "h",
         "type": "bar",
         "x": [
          8,
          1
         ],
         "y": [
          "ECD/PRE-PRIMARY SCHOOL",
          "PRIMARY SCHOOL"
         ]
        },
        {
         "name": "Public - LOCAL GOVERNMENT AUTHORITY",
         "orientation": "h",
         "type": "bar",
         "x": [
          97,
          3,
          62,
          13,
          3
         ],
         "y": [
          "ECD/PRE-PRIMARY SCHOOL",
          "NON FORMAL SCHOOL/NON FORMAL EDUCATION CENTRE",
          "PRIMARY SCHOOL",
          "SECONDARY SCHOOL",
          "YOUTH POLYTECHNIC"
         ]
        },
        {
         "name": "Private - NGO/CBO",
         "orientation": "h",
         "type": "bar",
         "x": [
          21,
          1,
          10,
          1
         ],
         "y": [
          "ECD/PRE-PRIMARY SCHOOL",
          "NON FORMAL SCHOOL/NON FORMAL EDUCATION CENTRE",
          "PRIMARY SCHOOL",
          "SECONDARY SCHOOL"
         ]
        },
        {
         "name": "Public - NGO/CBO",
         "orientation": "h",
         "type": "bar",
         "x": [
          30,
          2,
          3,
          1
         ],
         "y": [
          "ECD/PRE-PRIMARY SCHOOL",
          "NON FORMAL/NON FORMAL EDUCATION CENTRE",
          "PRIMARY SCHOOL",
          "SECONDARY SCHOOL"
         ]
        },
        {
         "name": "Private - PRIVATE INDIVIDUAL",
         "orientation": "h",
         "type": "bar",
         "x": [
          516,
          1,
          277,
          23,
          1,
          2
         ],
         "y": [
          "ECD/PRE-PRIMARY SCHOOL",
          "NON FORMAL SCHOOL/NON FORMAL EDUCATION CENTRE",
          "PRIMARY SCHOOL",
          "SECONDARY SCHOOL",
          "TEACHER TRAINING COLLEGE",
          "YOUTH POLYTECHNIC"
         ]
        },
        {
         "name": "Public - PRIVATE INDIVIDUAL",
         "orientation": "h",
         "type": "bar",
         "x": [
          24,
          1,
          7,
          1
         ],
         "y": [
          "ECD/PRE-PRIMARY SCHOOL",
          "NON FORMAL SCHOOL/NON FORMAL EDUCATION CENTRE",
          "PRIMARY SCHOOL",
          "SECONDARY SCHOOL"
         ]
        },
        {
         "name": "Private - PRIVATE INDIVIDUAL/ORGANIZATION",
         "orientation": "h",
         "type": "bar",
         "x": [
          36,
          25,
          3
         ],
         "y": [
          "ECD/PRE-PRIMARY SCHOOL",
          "PRIMARY SCHOOL",
          "SECONDARY SCHOOL"
         ]
        },
        {
         "name": "Public - PRIVATE INDIVIDUAL/ORGANIZATION",
         "orientation": "h",
         "type": "bar",
         "x": [
          2
         ],
         "y": [
          "ECD/PRE-PRIMARY SCHOOL"
         ]
        },
        {
         "name": "Private - RELIGIOUS ORGANIZATION",
         "orientation": "h",
         "type": "bar",
         "x": [
          445,
          1,
          92,
          15,
          1,
          1
         ],
         "y": [
          "ECD/PRE-PRIMARY SCHOOL",
          "NON FORMAL SCHOOL/NON FORMAL EDUCATION CENTRE",
          "PRIMARY SCHOOL",
          "SECONDARY SCHOOL",
          "TEACHER TRAINING COLLEGE",
          "YOUTH POLYTECHNIC"
         ]
        },
        {
         "name": "Public - RELIGIOUS ORGANIZATION",
         "orientation": "h",
         "type": "bar",
         "x": [
          1569,
          1,
          25,
          3,
          2,
          5,
          1667,
          1,
          509,
          5,
          5,
          36
         ],
         "y": [
          "ECD/PRE-PRIMARY SCHOOL",
          "INSTITUTE OF TECHNOLOGY",
          "NON FORMAL SCHOOL/NON FORMAL EDUCATION CENTRE",
          "NON FORMAL/NON FORMAL EDUCATION CENTRE",
          "NON-FORMAL EDUCATION",
          "NON-FORMAL SCH",
          "PRIMARY SCHOOL",
          "R",
          "SECONDARY SCHOOL",
          "TEACHER TRAINING COLLEGE",
          "TECHNICAL TRAINING INSTITUTE",
          "YOUTH POLYTECHNIC"
         ]
        },
        {
         "name": "Private - CENTRAL GOVERNMENT/DEB",
         "orientation": "h",
         "type": "bar",
         "x": [
          1
         ],
         "y": [
          "PRIMARY SCHOOL"
         ]
        },
        {
         "name": "Public - CENTRAL GOVERNMENT/DEB",
         "orientation": "h",
         "type": "bar",
         "x": [
          1,
          164,
          28,
          1,
          345,
          67,
          1,
          1,
          1,
          18
         ],
         "y": [
          "ADULT EDUCATION CENTRE",
          "ECD/PRE-PRIMARY SCHOOL",
          "NON FORMAL SCHOOL/NON FORMAL EDUCATION CENTRE",
          "NON FORMAL/NON FORMAL EDUCATION CENTRE",
          "PRIMARY SCHOOL",
          "SECONDARY SCHOOL",
          "TEACHER TRAINING COLLEGE",
          "TECHNICAL TRAINING INSTITUTE",
          "UNIVERSITY",
          "YOUTH POLYTECHNIC"
         ]
        }
       ],
       "layout": {
        "barmode": "stack",
        "legend": {
         "title": {
          "text": "Status"
         }
        },
        "template": {
         "data": {
          "bar": [
           {
            "error_x": {
             "color": "#2a3f5f"
            },
            "error_y": {
             "color": "#2a3f5f"
            },
            "marker": {
             "line": {
              "color": "#E5ECF6",
              "width": 0.5
             },
             "pattern": {
              "fillmode": "overlay",
              "size": 10,
              "solidity": 0.2
             }
            },
            "type": "bar"
           }
          ],
          "barpolar": [
           {
            "marker": {
             "line": {
              "color": "#E5ECF6",
              "width": 0.5
             },
             "pattern": {
              "fillmode": "overlay",
              "size": 10,
              "solidity": 0.2
             }
            },
            "type": "barpolar"
           }
          ],
          "carpet": [
           {
            "aaxis": {
             "endlinecolor": "#2a3f5f",
             "gridcolor": "white",
             "linecolor": "white",
             "minorgridcolor": "white",
             "startlinecolor": "#2a3f5f"
            },
            "baxis": {
             "endlinecolor": "#2a3f5f",
             "gridcolor": "white",
             "linecolor": "white",
             "minorgridcolor": "white",
             "startlinecolor": "#2a3f5f"
            },
            "type": "carpet"
           }
          ],
          "choropleth": [
           {
            "colorbar": {
             "outlinewidth": 0,
             "ticks": ""
            },
            "type": "choropleth"
           }
          ],
          "contour": [
           {
            "colorbar": {
             "outlinewidth": 0,
             "ticks": ""
            },
            "colorscale": [
             [
              0,
              "#0d0887"
             ],
             [
              0.1111111111111111,
              "#46039f"
             ],
             [
              0.2222222222222222,
              "#7201a8"
             ],
             [
              0.3333333333333333,
              "#9c179e"
             ],
             [
              0.4444444444444444,
              "#bd3786"
             ],
             [
              0.5555555555555556,
              "#d8576b"
             ],
             [
              0.6666666666666666,
              "#ed7953"
             ],
             [
              0.7777777777777778,
              "#fb9f3a"
             ],
             [
              0.8888888888888888,
              "#fdca26"
             ],
             [
              1,
              "#f0f921"
             ]
            ],
            "type": "contour"
           }
          ],
          "contourcarpet": [
           {
            "colorbar": {
             "outlinewidth": 0,
             "ticks": ""
            },
            "type": "contourcarpet"
           }
          ],
          "heatmap": [
           {
            "colorbar": {
             "outlinewidth": 0,
             "ticks": ""
            },
            "colorscale": [
             [
              0,
              "#0d0887"
             ],
             [
              0.1111111111111111,
              "#46039f"
             ],
             [
              0.2222222222222222,
              "#7201a8"
             ],
             [
              0.3333333333333333,
              "#9c179e"
             ],
             [
              0.4444444444444444,
              "#bd3786"
             ],
             [
              0.5555555555555556,
              "#d8576b"
             ],
             [
              0.6666666666666666,
              "#ed7953"
             ],
             [
              0.7777777777777778,
              "#fb9f3a"
             ],
             [
              0.8888888888888888,
              "#fdca26"
             ],
             [
              1,
              "#f0f921"
             ]
            ],
            "type": "heatmap"
           }
          ],
          "heatmapgl": [
           {
            "colorbar": {
             "outlinewidth": 0,
             "ticks": ""
            },
            "colorscale": [
             [
              0,
              "#0d0887"
             ],
             [
              0.1111111111111111,
              "#46039f"
             ],
             [
              0.2222222222222222,
              "#7201a8"
             ],
             [
              0.3333333333333333,
              "#9c179e"
             ],
             [
              0.4444444444444444,
              "#bd3786"
             ],
             [
              0.5555555555555556,
              "#d8576b"
             ],
             [
              0.6666666666666666,
              "#ed7953"
             ],
             [
              0.7777777777777778,
              "#fb9f3a"
             ],
             [
              0.8888888888888888,
              "#fdca26"
             ],
             [
              1,
              "#f0f921"
             ]
            ],
            "type": "heatmapgl"
           }
          ],
          "histogram": [
           {
            "marker": {
             "pattern": {
              "fillmode": "overlay",
              "size": 10,
              "solidity": 0.2
             }
            },
            "type": "histogram"
           }
          ],
          "histogram2d": [
           {
            "colorbar": {
             "outlinewidth": 0,
             "ticks": ""
            },
            "colorscale": [
             [
              0,
              "#0d0887"
             ],
             [
              0.1111111111111111,
              "#46039f"
             ],
             [
              0.2222222222222222,
              "#7201a8"
             ],
             [
              0.3333333333333333,
              "#9c179e"
             ],
             [
              0.4444444444444444,
              "#bd3786"
             ],
             [
              0.5555555555555556,
              "#d8576b"
             ],
             [
              0.6666666666666666,
              "#ed7953"
             ],
             [
              0.7777777777777778,
              "#fb9f3a"
             ],
             [
              0.8888888888888888,
              "#fdca26"
             ],
             [
              1,
              "#f0f921"
             ]
            ],
            "type": "histogram2d"
           }
          ],
          "histogram2dcontour": [
           {
            "colorbar": {
             "outlinewidth": 0,
             "ticks": ""
            },
            "colorscale": [
             [
              0,
              "#0d0887"
             ],
             [
              0.1111111111111111,
              "#46039f"
             ],
             [
              0.2222222222222222,
              "#7201a8"
             ],
             [
              0.3333333333333333,
              "#9c179e"
             ],
             [
              0.4444444444444444,
              "#bd3786"
             ],
             [
              0.5555555555555556,
              "#d8576b"
             ],
             [
              0.6666666666666666,
              "#ed7953"
             ],
             [
              0.7777777777777778,
              "#fb9f3a"
             ],
             [
              0.8888888888888888,
              "#fdca26"
             ],
             [
              1,
              "#f0f921"
             ]
            ],
            "type": "histogram2dcontour"
           }
          ],
          "mesh3d": [
           {
            "colorbar": {
             "outlinewidth": 0,
             "ticks": ""
            },
            "type": "mesh3d"
           }
          ],
          "parcoords": [
           {
            "line": {
             "colorbar": {
              "outlinewidth": 0,
              "ticks": ""
             }
            },
            "type": "parcoords"
           }
          ],
          "pie": [
           {
            "automargin": true,
            "type": "pie"
           }
          ],
          "scatter": [
           {
            "fillpattern": {
             "fillmode": "overlay",
             "size": 10,
             "solidity": 0.2
            },
            "type": "scatter"
           }
          ],
          "scatter3d": [
           {
            "line": {
             "colorbar": {
              "outlinewidth": 0,
              "ticks": ""
             }
            },
            "marker": {
             "colorbar": {
              "outlinewidth": 0,
              "ticks": ""
             }
            },
            "type": "scatter3d"
           }
          ],
          "scattercarpet": [
           {
            "marker": {
             "colorbar": {
              "outlinewidth": 0,
              "ticks": ""
             }
            },
            "type": "scattercarpet"
           }
          ],
          "scattergeo": [
           {
            "marker": {
             "colorbar": {
              "outlinewidth": 0,
              "ticks": ""
             }
            },
            "type": "scattergeo"
           }
          ],
          "scattergl": [
           {
            "marker": {
             "colorbar": {
              "outlinewidth": 0,
              "ticks": ""
             }
            },
            "type": "scattergl"
           }
          ],
          "scattermapbox": [
           {
            "marker": {
             "colorbar": {
              "outlinewidth": 0,
              "ticks": ""
             }
            },
            "type": "scattermapbox"
           }
          ],
          "scatterpolar": [
           {
            "marker": {
             "colorbar": {
              "outlinewidth": 0,
              "ticks": ""
             }
            },
            "type": "scatterpolar"
           }
          ],
          "scatterpolargl": [
           {
            "marker": {
             "colorbar": {
              "outlinewidth": 0,
              "ticks": ""
             }
            },
            "type": "scatterpolargl"
           }
          ],
          "scatterternary": [
           {
            "marker": {
             "colorbar": {
              "outlinewidth": 0,
              "ticks": ""
             }
            },
            "type": "scatterternary"
           }
          ],
          "surface": [
           {
            "colorbar": {
             "outlinewidth": 0,
             "ticks": ""
            },
            "colorscale": [
             [
              0,
              "#0d0887"
             ],
             [
              0.1111111111111111,
              "#46039f"
             ],
             [
              0.2222222222222222,
              "#7201a8"
             ],
             [
              0.3333333333333333,
              "#9c179e"
             ],
             [
              0.4444444444444444,
              "#bd3786"
             ],
             [
              0.5555555555555556,
              "#d8576b"
             ],
             [
              0.6666666666666666,
              "#ed7953"
             ],
             [
              0.7777777777777778,
              "#fb9f3a"
             ],
             [
              0.8888888888888888,
              "#fdca26"
             ],
             [
              1,
              "#f0f921"
             ]
            ],
            "type": "surface"
           }
          ],
          "table": [
           {
            "cells": {
             "fill": {
              "color": "#EBF0F8"
             },
             "line": {
              "color": "white"
             }
            },
            "header": {
             "fill": {
              "color": "#C8D4E3"
             },
             "line": {
              "color": "white"
             }
            },
            "type": "table"
           }
          ]
         },
         "layout": {
          "annotationdefaults": {
           "arrowcolor": "#2a3f5f",
           "arrowhead": 0,
           "arrowwidth": 1
          },
          "autotypenumbers": "strict",
          "coloraxis": {
           "colorbar": {
            "outlinewidth": 0,
            "ticks": ""
           }
          },
          "colorscale": {
           "diverging": [
            [
             0,
             "#8e0152"
            ],
            [
             0.1,
             "#c51b7d"
            ],
            [
             0.2,
             "#de77ae"
            ],
            [
             0.3,
             "#f1b6da"
            ],
            [
             0.4,
             "#fde0ef"
            ],
            [
             0.5,
             "#f7f7f7"
            ],
            [
             0.6,
             "#e6f5d0"
            ],
            [
             0.7,
             "#b8e186"
            ],
            [
             0.8,
             "#7fbc41"
            ],
            [
             0.9,
             "#4d9221"
            ],
            [
             1,
             "#276419"
            ]
           ],
           "sequential": [
            [
             0,
             "#0d0887"
            ],
            [
             0.1111111111111111,
             "#46039f"
            ],
            [
             0.2222222222222222,
             "#7201a8"
            ],
            [
             0.3333333333333333,
             "#9c179e"
            ],
            [
             0.4444444444444444,
             "#bd3786"
            ],
            [
             0.5555555555555556,
             "#d8576b"
            ],
            [
             0.6666666666666666,
             "#ed7953"
            ],
            [
             0.7777777777777778,
             "#fb9f3a"
            ],
            [
             0.8888888888888888,
             "#fdca26"
            ],
            [
             1,
             "#f0f921"
            ]
           ],
           "sequentialminus": [
            [
             0,
             "#0d0887"
            ],
            [
             0.1111111111111111,
             "#46039f"
            ],
            [
             0.2222222222222222,
             "#7201a8"
            ],
            [
             0.3333333333333333,
             "#9c179e"
            ],
            [
             0.4444444444444444,
             "#bd3786"
            ],
            [
             0.5555555555555556,
             "#d8576b"
            ],
            [
             0.6666666666666666,
             "#ed7953"
            ],
            [
             0.7777777777777778,
             "#fb9f3a"
            ],
            [
             0.8888888888888888,
             "#fdca26"
            ],
            [
             1,
             "#f0f921"
            ]
           ]
          },
          "colorway": [
           "#636efa",
           "#EF553B",
           "#00cc96",
           "#ab63fa",
           "#FFA15A",
           "#19d3f3",
           "#FF6692",
           "#B6E880",
           "#FF97FF",
           "#FECB52"
          ],
          "font": {
           "color": "#2a3f5f"
          },
          "geo": {
           "bgcolor": "white",
           "lakecolor": "white",
           "landcolor": "#E5ECF6",
           "showlakes": true,
           "showland": true,
           "subunitcolor": "white"
          },
          "hoverlabel": {
           "align": "left"
          },
          "hovermode": "closest",
          "mapbox": {
           "style": "light"
          },
          "paper_bgcolor": "white",
          "plot_bgcolor": "#E5ECF6",
          "polar": {
           "angularaxis": {
            "gridcolor": "white",
            "linecolor": "white",
            "ticks": ""
           },
           "bgcolor": "#E5ECF6",
           "radialaxis": {
            "gridcolor": "white",
            "linecolor": "white",
            "ticks": ""
           }
          },
          "scene": {
           "xaxis": {
            "backgroundcolor": "#E5ECF6",
            "gridcolor": "white",
            "gridwidth": 2,
            "linecolor": "white",
            "showbackground": true,
            "ticks": "",
            "zerolinecolor": "white"
           },
           "yaxis": {
            "backgroundcolor": "#E5ECF6",
            "gridcolor": "white",
            "gridwidth": 2,
            "linecolor": "white",
            "showbackground": true,
            "ticks": "",
            "zerolinecolor": "white"
           },
           "zaxis": {
            "backgroundcolor": "#E5ECF6",
            "gridcolor": "white",
            "gridwidth": 2,
            "linecolor": "white",
            "showbackground": true,
            "ticks": "",
            "zerolinecolor": "white"
           }
          },
          "shapedefaults": {
           "line": {
            "color": "#2a3f5f"
           }
          },
          "ternary": {
           "aaxis": {
            "gridcolor": "white",
            "linecolor": "white",
            "ticks": ""
           },
           "baxis": {
            "gridcolor": "white",
            "linecolor": "white",
            "ticks": ""
           },
           "bgcolor": "#E5ECF6",
           "caxis": {
            "gridcolor": "white",
            "linecolor": "white",
            "ticks": ""
           }
          },
          "title": {
           "x": 0.05
          },
          "xaxis": {
           "automargin": true,
           "gridcolor": "white",
           "linecolor": "white",
           "ticks": "",
           "title": {
            "standoff": 15
           },
           "zerolinecolor": "white",
           "zerolinewidth": 2
          },
          "yaxis": {
           "automargin": true,
           "gridcolor": "white",
           "linecolor": "white",
           "ticks": "",
           "title": {
            "standoff": 15
           },
           "zerolinecolor": "white",
           "zerolinewidth": 2
          }
         }
        },
        "title": {
         "text": "Bar Chart: School Distribution in Western Province"
        },
        "xaxis": {
         "title": {
          "text": "Count"
         }
        },
        "yaxis": {
         "title": {
          "text": "Level"
         }
        }
       }
      }
     },
     "metadata": {},
     "output_type": "display_data"
    }
   ],
   "source": [
    "priv_grouped = priv.groupby(['Level', 'Sponsor']).size().reset_index(name='Count')\n",
    "pub_grouped = pub.groupby(['Level', 'Sponsor']).size().reset_index(name='Count')\n",
    "\n",
    "unique_sponsors = priv_grouped['Sponsor'].unique()\n",
    "\n",
    "fig = go.Figure()\n",
    "\n",
    "for sponsor in unique_sponsors:\n",
    "    priv_data = priv_grouped[priv_grouped['Sponsor'] == sponsor]\n",
    "    pub_data = pub_grouped[pub_grouped['Sponsor'] == sponsor]\n",
    "\n",
    "    fig.add_trace(go.Bar(\n",
    "        x=priv_data['Count'],\n",
    "        y=priv_data['Level'],\n",
    "        name=f'Private - {sponsor}',\n",
    "        orientation='h'\n",
    "    ))\n",
    "\n",
    "    fig.add_trace(go.Bar(\n",
    "        x=pub_data['Count'],\n",
    "        y=pub_data['Level'],\n",
    "        name=f'Public - {sponsor}',\n",
    "        orientation='h'\n",
    "    ))\n",
    "\n",
    "fig.update_layout(\n",
    "    barmode='stack',\n",
    "    title='Bar Chart: School Distribution in Western Province',\n",
    "    xaxis_title='Count',\n",
    "    yaxis_title='Level',\n",
    "    legend_title='Status',\n",
    ")\n",
    "\n",
    "fig.show()\n"
   ]
  },
  {
   "cell_type": "code",
   "execution_count": 31,
   "metadata": {},
   "outputs": [],
   "source": [
    "eastern=df[df[\"PROVINCE\"]==\"EASTERN\"]\n",
    "eastern\n",
    "priv=eastern[eastern[\"Status\"]==\"PRIVATE\"]\n",
    "pub=eastern[eastern[\"Status\"]==\"PUBLIC\"]"
   ]
  },
  {
   "cell_type": "code",
   "execution_count": 32,
   "metadata": {},
   "outputs": [
    {
     "data": {
      "application/vnd.plotly.v1+json": {
       "config": {
        "plotlyServerURL": "https://plot.ly"
       },
       "data": [
        {
         "name": "Private - COMMUNITY",
         "orientation": "h",
         "type": "bar",
         "x": [
          1,
          188,
          2,
          5,
          2,
          4
         ],
         "y": [
          "ADULT EDUCATION CENTRE",
          "ECD/PRE-PRIMARY SCHOOL",
          "NON FORMAL SCHOOL/NON FORMAL EDUCATION CENTRE",
          "PRIMARY SCHOOL",
          "SECONDARY SCHOOL",
          "YOUTH POLYTECHNIC"
         ]
        },
        {
         "name": "Public - COMMUNITY",
         "orientation": "h",
         "type": "bar",
         "x": [
          8,
          2324,
          1,
          35,
          89,
          1,
          93,
          1,
          60
         ],
         "y": [
          "ADULT EDUCATION CENTRE",
          "ECD/PRE-PRIMARY SCHOOL",
          "INSTITUTE OF TECHNOLOGY",
          "NON FORMAL SCHOOL/NON FORMAL EDUCATION CENTRE",
          "PRIMARY SCHOOL",
          "S",
          "SECONDARY SCHOOL",
          "SPECIAL SCHOOL",
          "YOUTH POLYTECHNIC"
         ]
        },
        {
         "name": "Private - NGO/CBO",
         "orientation": "h",
         "type": "bar",
         "x": [
          4,
          12,
          2,
          11,
          1,
          1
         ],
         "y": [
          "ADULT EDUCATION CENTRE",
          "ECD/PRE-PRIMARY SCHOOL",
          "NON FORMAL SCHOOL/NON FORMAL EDUCATION CENTRE",
          "PRIMARY SCHOOL",
          "SECONDARY SCHOOL",
          "YOUTH POLYTECHNIC"
         ]
        },
        {
         "name": "Public - NGO/CBO",
         "orientation": "h",
         "type": "bar",
         "x": [
          1,
          27,
          4,
          3,
          2,
          2
         ],
         "y": [
          "ADULT EDUCATION CENTRE",
          "ECD/PRE-PRIMARY SCHOOL",
          "NON FORMAL SCHOOL/NON FORMAL EDUCATION CENTRE",
          "PRIMARY SCHOOL",
          "TECHNICAL TRAINING INSTITUTE",
          "YOUTH POLYTECHNIC"
         ]
        },
        {
         "name": "Private - RELIGIOUS ORGANIZATION",
         "orientation": "h",
         "type": "bar",
         "x": [
          2,
          449,
          12,
          212,
          61,
          2,
          11,
          58
         ],
         "y": [
          "ADULT EDUCATION CENTRE",
          "ECD/PRE-PRIMARY SCHOOL",
          "NON FORMAL SCHOOL/NON FORMAL EDUCATION CENTRE",
          "PRIMARY SCHOOL",
          "SECONDARY SCHOOL",
          "TEACHER TRAINING COLLEGE",
          "TECHNICAL TRAINING INSTITUTE",
          "YOUTH POLYTECHNIC"
         ]
        },
        {
         "name": "Public - RELIGIOUS ORGANIZATION",
         "orientation": "h",
         "type": "bar",
         "x": [
          5,
          2031,
          2,
          73,
          1,
          1,
          1,
          1798,
          1,
          591,
          4,
          4,
          1,
          43
         ],
         "y": [
          "ADULT EDUCATION CENTRE",
          "ECD/PRE-PRIMARY SCHOOL",
          "NATIONAL POLYTECHNIC",
          "NON FORMAL SCHOOL/NON FORMAL EDUCATION CENTRE",
          "NON-FORMAL SCHOOL/NON FORMAL EDUCATION CENTRE",
          "PO",
          "PRE",
          "PRIMARY SCHOOL",
          "SECONDARY",
          "SECONDARY SCHOOL",
          "TEACHER TRAINING COLLEGE",
          "TECHNICAL TRAINING INSTITUTE",
          "UNIVERSITY",
          "YOUTH POLYTECHNIC"
         ]
        },
        {
         "name": "Private - CENTRAL GOVERNMENT/DEB",
         "orientation": "h",
         "type": "bar",
         "x": [
          9,
          2,
          11,
          3,
          1
         ],
         "y": [
          "ECD/PRE-PRIMARY SCHOOL",
          "NON FORMAL SCHOOL/NON FORMAL EDUCATION CENTRE",
          "PRIMARY SCHOOL",
          "SECONDARY SCHOOL",
          "YOUTH POLYTECHNIC"
         ]
        },
        {
         "name": "Public - CENTRAL GOVERNMENT/DEB",
         "orientation": "h",
         "type": "bar",
         "x": [
          64,
          1168,
          2,
          2,
          169,
          2,
          2302,
          342,
          2,
          1,
          1,
          8,
          1,
          41
         ],
         "y": [
          "ADULT EDUCATION CENTRE",
          "ECD/PRE-PRIMARY SCHOOL",
          "NATIONAL POLYTECHNIC",
          "NON FORMAL SCHOOL/NON FORMAL",
          "NON FORMAL SCHOOL/NON FORMAL EDUCATION CENTRE",
          "NON-FORMAL SCHOOL/NON FORMAL EDUCATION CENTRE",
          "PRIMARY SCHOOL",
          "SECONDARY SCHOOL",
          "SPECIAL SCHOOL",
          "SPECIAL UNIT",
          "TEACHER TRAINING COLLEGE",
          "TECHNICAL TRAINING INSTITUTE",
          "UNIVERSITY",
          "YOUTH POLYTECHNIC"
         ]
        },
        {
         "name": "Private - LOCAL GOVERNMENT AUTHORITY",
         "orientation": "h",
         "type": "bar",
         "x": [
          11,
          5,
          2,
          1
         ],
         "y": [
          "ECD/PRE-PRIMARY SCHOOL",
          "PRIMARY SCHOOL",
          "SECONDARY SCHOOL",
          "YOUTH POLYTECHNIC"
         ]
        },
        {
         "name": "Public - LOCAL GOVERNMENT AUTHORITY",
         "orientation": "h",
         "type": "bar",
         "x": [
          2,
          87,
          17,
          80,
          33,
          1,
          6
         ],
         "y": [
          "ADULT EDUCATION CENTRE",
          "ECD/PRE-PRIMARY SCHOOL",
          "NON FORMAL SCHOOL/NON FORMAL EDUCATION CENTRE",
          "PRIMARY SCHOOL",
          "SECONDARY SCHOOL",
          "TECHNICAL TRAINING INSTITUTE",
          "YOUTH POLYTECHNIC"
         ]
        },
        {
         "name": "Private - OTTHER, POLICE",
         "orientation": "h",
         "type": "bar",
         "x": [
          1
         ],
         "y": [
          "ECD/PRE-PRIMARY SCHOOL"
         ]
        },
        {
         "name": "Public - OTTHER, POLICE",
         "orientation": "h",
         "type": "bar",
         "x": [],
         "y": []
        },
        {
         "name": "Private - PRIVATE INDIVIDUAL",
         "orientation": "h",
         "type": "bar",
         "x": [
          465,
          1,
          1,
          1,
          312,
          81,
          1,
          30,
          30
         ],
         "y": [
          "ECD/PRE-PRIMARY SCHOOL",
          "INSTITUTE OF TECHNOLOGY",
          "NATIONAL POLYTECHNIC",
          "NON FORMAL SCHOOL/NON FORMAL EDUCATION CENTRE",
          "PRIMARY SCHOOL",
          "SECONDARY SCHOOL",
          "TEACHER TRAINING COLLEGE",
          "TECHNICAL TRAINING INSTITUTE",
          "YOUTH POLYTECHNIC"
         ]
        },
        {
         "name": "Public - PRIVATE INDIVIDUAL",
         "orientation": "h",
         "type": "bar",
         "x": [
          43,
          13,
          5,
          2,
          6
         ],
         "y": [
          "ECD/PRE-PRIMARY SCHOOL",
          "PRIMARY SCHOOL",
          "SECONDARY SCHOOL",
          "TECHNICAL TRAINING INSTITUTE",
          "YOUTH POLYTECHNIC"
         ]
        },
        {
         "name": "Private - PRIVATE INDIVIDUAL/ORGANIZATION",
         "orientation": "h",
         "type": "bar",
         "x": [
          29,
          18
         ],
         "y": [
          "ECD/PRE-PRIMARY SCHOOL",
          "PRIMARY SCHOOL"
         ]
        },
        {
         "name": "Public - PRIVATE INDIVIDUAL/ORGANIZATION",
         "orientation": "h",
         "type": "bar",
         "x": [
          1,
          1,
          1
         ],
         "y": [
          "ADULT EDUCATION CENTRE",
          "ECD/PRE-PRIMARY SCHOOL",
          "PRIMARY SCHOOL"
         ]
        }
       ],
       "layout": {
        "barmode": "stack",
        "legend": {
         "title": {
          "text": "Status"
         }
        },
        "template": {
         "data": {
          "bar": [
           {
            "error_x": {
             "color": "#2a3f5f"
            },
            "error_y": {
             "color": "#2a3f5f"
            },
            "marker": {
             "line": {
              "color": "#E5ECF6",
              "width": 0.5
             },
             "pattern": {
              "fillmode": "overlay",
              "size": 10,
              "solidity": 0.2
             }
            },
            "type": "bar"
           }
          ],
          "barpolar": [
           {
            "marker": {
             "line": {
              "color": "#E5ECF6",
              "width": 0.5
             },
             "pattern": {
              "fillmode": "overlay",
              "size": 10,
              "solidity": 0.2
             }
            },
            "type": "barpolar"
           }
          ],
          "carpet": [
           {
            "aaxis": {
             "endlinecolor": "#2a3f5f",
             "gridcolor": "white",
             "linecolor": "white",
             "minorgridcolor": "white",
             "startlinecolor": "#2a3f5f"
            },
            "baxis": {
             "endlinecolor": "#2a3f5f",
             "gridcolor": "white",
             "linecolor": "white",
             "minorgridcolor": "white",
             "startlinecolor": "#2a3f5f"
            },
            "type": "carpet"
           }
          ],
          "choropleth": [
           {
            "colorbar": {
             "outlinewidth": 0,
             "ticks": ""
            },
            "type": "choropleth"
           }
          ],
          "contour": [
           {
            "colorbar": {
             "outlinewidth": 0,
             "ticks": ""
            },
            "colorscale": [
             [
              0,
              "#0d0887"
             ],
             [
              0.1111111111111111,
              "#46039f"
             ],
             [
              0.2222222222222222,
              "#7201a8"
             ],
             [
              0.3333333333333333,
              "#9c179e"
             ],
             [
              0.4444444444444444,
              "#bd3786"
             ],
             [
              0.5555555555555556,
              "#d8576b"
             ],
             [
              0.6666666666666666,
              "#ed7953"
             ],
             [
              0.7777777777777778,
              "#fb9f3a"
             ],
             [
              0.8888888888888888,
              "#fdca26"
             ],
             [
              1,
              "#f0f921"
             ]
            ],
            "type": "contour"
           }
          ],
          "contourcarpet": [
           {
            "colorbar": {
             "outlinewidth": 0,
             "ticks": ""
            },
            "type": "contourcarpet"
           }
          ],
          "heatmap": [
           {
            "colorbar": {
             "outlinewidth": 0,
             "ticks": ""
            },
            "colorscale": [
             [
              0,
              "#0d0887"
             ],
             [
              0.1111111111111111,
              "#46039f"
             ],
             [
              0.2222222222222222,
              "#7201a8"
             ],
             [
              0.3333333333333333,
              "#9c179e"
             ],
             [
              0.4444444444444444,
              "#bd3786"
             ],
             [
              0.5555555555555556,
              "#d8576b"
             ],
             [
              0.6666666666666666,
              "#ed7953"
             ],
             [
              0.7777777777777778,
              "#fb9f3a"
             ],
             [
              0.8888888888888888,
              "#fdca26"
             ],
             [
              1,
              "#f0f921"
             ]
            ],
            "type": "heatmap"
           }
          ],
          "heatmapgl": [
           {
            "colorbar": {
             "outlinewidth": 0,
             "ticks": ""
            },
            "colorscale": [
             [
              0,
              "#0d0887"
             ],
             [
              0.1111111111111111,
              "#46039f"
             ],
             [
              0.2222222222222222,
              "#7201a8"
             ],
             [
              0.3333333333333333,
              "#9c179e"
             ],
             [
              0.4444444444444444,
              "#bd3786"
             ],
             [
              0.5555555555555556,
              "#d8576b"
             ],
             [
              0.6666666666666666,
              "#ed7953"
             ],
             [
              0.7777777777777778,
              "#fb9f3a"
             ],
             [
              0.8888888888888888,
              "#fdca26"
             ],
             [
              1,
              "#f0f921"
             ]
            ],
            "type": "heatmapgl"
           }
          ],
          "histogram": [
           {
            "marker": {
             "pattern": {
              "fillmode": "overlay",
              "size": 10,
              "solidity": 0.2
             }
            },
            "type": "histogram"
           }
          ],
          "histogram2d": [
           {
            "colorbar": {
             "outlinewidth": 0,
             "ticks": ""
            },
            "colorscale": [
             [
              0,
              "#0d0887"
             ],
             [
              0.1111111111111111,
              "#46039f"
             ],
             [
              0.2222222222222222,
              "#7201a8"
             ],
             [
              0.3333333333333333,
              "#9c179e"
             ],
             [
              0.4444444444444444,
              "#bd3786"
             ],
             [
              0.5555555555555556,
              "#d8576b"
             ],
             [
              0.6666666666666666,
              "#ed7953"
             ],
             [
              0.7777777777777778,
              "#fb9f3a"
             ],
             [
              0.8888888888888888,
              "#fdca26"
             ],
             [
              1,
              "#f0f921"
             ]
            ],
            "type": "histogram2d"
           }
          ],
          "histogram2dcontour": [
           {
            "colorbar": {
             "outlinewidth": 0,
             "ticks": ""
            },
            "colorscale": [
             [
              0,
              "#0d0887"
             ],
             [
              0.1111111111111111,
              "#46039f"
             ],
             [
              0.2222222222222222,
              "#7201a8"
             ],
             [
              0.3333333333333333,
              "#9c179e"
             ],
             [
              0.4444444444444444,
              "#bd3786"
             ],
             [
              0.5555555555555556,
              "#d8576b"
             ],
             [
              0.6666666666666666,
              "#ed7953"
             ],
             [
              0.7777777777777778,
              "#fb9f3a"
             ],
             [
              0.8888888888888888,
              "#fdca26"
             ],
             [
              1,
              "#f0f921"
             ]
            ],
            "type": "histogram2dcontour"
           }
          ],
          "mesh3d": [
           {
            "colorbar": {
             "outlinewidth": 0,
             "ticks": ""
            },
            "type": "mesh3d"
           }
          ],
          "parcoords": [
           {
            "line": {
             "colorbar": {
              "outlinewidth": 0,
              "ticks": ""
             }
            },
            "type": "parcoords"
           }
          ],
          "pie": [
           {
            "automargin": true,
            "type": "pie"
           }
          ],
          "scatter": [
           {
            "fillpattern": {
             "fillmode": "overlay",
             "size": 10,
             "solidity": 0.2
            },
            "type": "scatter"
           }
          ],
          "scatter3d": [
           {
            "line": {
             "colorbar": {
              "outlinewidth": 0,
              "ticks": ""
             }
            },
            "marker": {
             "colorbar": {
              "outlinewidth": 0,
              "ticks": ""
             }
            },
            "type": "scatter3d"
           }
          ],
          "scattercarpet": [
           {
            "marker": {
             "colorbar": {
              "outlinewidth": 0,
              "ticks": ""
             }
            },
            "type": "scattercarpet"
           }
          ],
          "scattergeo": [
           {
            "marker": {
             "colorbar": {
              "outlinewidth": 0,
              "ticks": ""
             }
            },
            "type": "scattergeo"
           }
          ],
          "scattergl": [
           {
            "marker": {
             "colorbar": {
              "outlinewidth": 0,
              "ticks": ""
             }
            },
            "type": "scattergl"
           }
          ],
          "scattermapbox": [
           {
            "marker": {
             "colorbar": {
              "outlinewidth": 0,
              "ticks": ""
             }
            },
            "type": "scattermapbox"
           }
          ],
          "scatterpolar": [
           {
            "marker": {
             "colorbar": {
              "outlinewidth": 0,
              "ticks": ""
             }
            },
            "type": "scatterpolar"
           }
          ],
          "scatterpolargl": [
           {
            "marker": {
             "colorbar": {
              "outlinewidth": 0,
              "ticks": ""
             }
            },
            "type": "scatterpolargl"
           }
          ],
          "scatterternary": [
           {
            "marker": {
             "colorbar": {
              "outlinewidth": 0,
              "ticks": ""
             }
            },
            "type": "scatterternary"
           }
          ],
          "surface": [
           {
            "colorbar": {
             "outlinewidth": 0,
             "ticks": ""
            },
            "colorscale": [
             [
              0,
              "#0d0887"
             ],
             [
              0.1111111111111111,
              "#46039f"
             ],
             [
              0.2222222222222222,
              "#7201a8"
             ],
             [
              0.3333333333333333,
              "#9c179e"
             ],
             [
              0.4444444444444444,
              "#bd3786"
             ],
             [
              0.5555555555555556,
              "#d8576b"
             ],
             [
              0.6666666666666666,
              "#ed7953"
             ],
             [
              0.7777777777777778,
              "#fb9f3a"
             ],
             [
              0.8888888888888888,
              "#fdca26"
             ],
             [
              1,
              "#f0f921"
             ]
            ],
            "type": "surface"
           }
          ],
          "table": [
           {
            "cells": {
             "fill": {
              "color": "#EBF0F8"
             },
             "line": {
              "color": "white"
             }
            },
            "header": {
             "fill": {
              "color": "#C8D4E3"
             },
             "line": {
              "color": "white"
             }
            },
            "type": "table"
           }
          ]
         },
         "layout": {
          "annotationdefaults": {
           "arrowcolor": "#2a3f5f",
           "arrowhead": 0,
           "arrowwidth": 1
          },
          "autotypenumbers": "strict",
          "coloraxis": {
           "colorbar": {
            "outlinewidth": 0,
            "ticks": ""
           }
          },
          "colorscale": {
           "diverging": [
            [
             0,
             "#8e0152"
            ],
            [
             0.1,
             "#c51b7d"
            ],
            [
             0.2,
             "#de77ae"
            ],
            [
             0.3,
             "#f1b6da"
            ],
            [
             0.4,
             "#fde0ef"
            ],
            [
             0.5,
             "#f7f7f7"
            ],
            [
             0.6,
             "#e6f5d0"
            ],
            [
             0.7,
             "#b8e186"
            ],
            [
             0.8,
             "#7fbc41"
            ],
            [
             0.9,
             "#4d9221"
            ],
            [
             1,
             "#276419"
            ]
           ],
           "sequential": [
            [
             0,
             "#0d0887"
            ],
            [
             0.1111111111111111,
             "#46039f"
            ],
            [
             0.2222222222222222,
             "#7201a8"
            ],
            [
             0.3333333333333333,
             "#9c179e"
            ],
            [
             0.4444444444444444,
             "#bd3786"
            ],
            [
             0.5555555555555556,
             "#d8576b"
            ],
            [
             0.6666666666666666,
             "#ed7953"
            ],
            [
             0.7777777777777778,
             "#fb9f3a"
            ],
            [
             0.8888888888888888,
             "#fdca26"
            ],
            [
             1,
             "#f0f921"
            ]
           ],
           "sequentialminus": [
            [
             0,
             "#0d0887"
            ],
            [
             0.1111111111111111,
             "#46039f"
            ],
            [
             0.2222222222222222,
             "#7201a8"
            ],
            [
             0.3333333333333333,
             "#9c179e"
            ],
            [
             0.4444444444444444,
             "#bd3786"
            ],
            [
             0.5555555555555556,
             "#d8576b"
            ],
            [
             0.6666666666666666,
             "#ed7953"
            ],
            [
             0.7777777777777778,
             "#fb9f3a"
            ],
            [
             0.8888888888888888,
             "#fdca26"
            ],
            [
             1,
             "#f0f921"
            ]
           ]
          },
          "colorway": [
           "#636efa",
           "#EF553B",
           "#00cc96",
           "#ab63fa",
           "#FFA15A",
           "#19d3f3",
           "#FF6692",
           "#B6E880",
           "#FF97FF",
           "#FECB52"
          ],
          "font": {
           "color": "#2a3f5f"
          },
          "geo": {
           "bgcolor": "white",
           "lakecolor": "white",
           "landcolor": "#E5ECF6",
           "showlakes": true,
           "showland": true,
           "subunitcolor": "white"
          },
          "hoverlabel": {
           "align": "left"
          },
          "hovermode": "closest",
          "mapbox": {
           "style": "light"
          },
          "paper_bgcolor": "white",
          "plot_bgcolor": "#E5ECF6",
          "polar": {
           "angularaxis": {
            "gridcolor": "white",
            "linecolor": "white",
            "ticks": ""
           },
           "bgcolor": "#E5ECF6",
           "radialaxis": {
            "gridcolor": "white",
            "linecolor": "white",
            "ticks": ""
           }
          },
          "scene": {
           "xaxis": {
            "backgroundcolor": "#E5ECF6",
            "gridcolor": "white",
            "gridwidth": 2,
            "linecolor": "white",
            "showbackground": true,
            "ticks": "",
            "zerolinecolor": "white"
           },
           "yaxis": {
            "backgroundcolor": "#E5ECF6",
            "gridcolor": "white",
            "gridwidth": 2,
            "linecolor": "white",
            "showbackground": true,
            "ticks": "",
            "zerolinecolor": "white"
           },
           "zaxis": {
            "backgroundcolor": "#E5ECF6",
            "gridcolor": "white",
            "gridwidth": 2,
            "linecolor": "white",
            "showbackground": true,
            "ticks": "",
            "zerolinecolor": "white"
           }
          },
          "shapedefaults": {
           "line": {
            "color": "#2a3f5f"
           }
          },
          "ternary": {
           "aaxis": {
            "gridcolor": "white",
            "linecolor": "white",
            "ticks": ""
           },
           "baxis": {
            "gridcolor": "white",
            "linecolor": "white",
            "ticks": ""
           },
           "bgcolor": "#E5ECF6",
           "caxis": {
            "gridcolor": "white",
            "linecolor": "white",
            "ticks": ""
           }
          },
          "title": {
           "x": 0.05
          },
          "xaxis": {
           "automargin": true,
           "gridcolor": "white",
           "linecolor": "white",
           "ticks": "",
           "title": {
            "standoff": 15
           },
           "zerolinecolor": "white",
           "zerolinewidth": 2
          },
          "yaxis": {
           "automargin": true,
           "gridcolor": "white",
           "linecolor": "white",
           "ticks": "",
           "title": {
            "standoff": 15
           },
           "zerolinecolor": "white",
           "zerolinewidth": 2
          }
         }
        },
        "title": {
         "text": "Bar Chart: School Distribution in Eastern Province"
        },
        "xaxis": {
         "title": {
          "text": "Count"
         }
        },
        "yaxis": {
         "title": {
          "text": "Level"
         }
        }
       }
      }
     },
     "metadata": {},
     "output_type": "display_data"
    }
   ],
   "source": [
    "priv_grouped = priv.groupby(['Level', 'Sponsor']).size().reset_index(name='Count')\n",
    "pub_grouped = pub.groupby(['Level', 'Sponsor']).size().reset_index(name='Count')\n",
    "\n",
    "unique_sponsors = priv_grouped['Sponsor'].unique()\n",
    "\n",
    "fig = go.Figure()\n",
    "\n",
    "for sponsor in unique_sponsors:\n",
    "    priv_data = priv_grouped[priv_grouped['Sponsor'] == sponsor]\n",
    "    pub_data = pub_grouped[pub_grouped['Sponsor'] == sponsor]\n",
    "\n",
    "    fig.add_trace(go.Bar(\n",
    "        x=priv_data['Count'],\n",
    "        y=priv_data['Level'],\n",
    "        name=f'Private - {sponsor}',\n",
    "        orientation='h'\n",
    "    ))\n",
    "\n",
    "    fig.add_trace(go.Bar(\n",
    "        x=pub_data['Count'],\n",
    "        y=pub_data['Level'],\n",
    "        name=f'Public - {sponsor}',\n",
    "        orientation='h'\n",
    "    ))\n",
    "\n",
    "fig.update_layout(\n",
    "    barmode='stack',\n",
    "    title='Bar Chart: School Distribution in Eastern Province',\n",
    "    xaxis_title='Count',\n",
    "    yaxis_title='Level',\n",
    "    legend_title='Status',\n",
    ")\n",
    "\n",
    "fig.show()\n"
   ]
  },
  {
   "cell_type": "code",
   "execution_count": 33,
   "metadata": {},
   "outputs": [],
   "source": [
    "nairobi=df[df[\"PROVINCE\"]==\"NAIROBI\"]\n",
    "nairobi\n",
    "priv=nairobi[nairobi[\"Status\"]==\"PRIVATE\"]\n",
    "pub=nairobi[nairobi[\"Status\"]==\"PUBLIC\"]"
   ]
  },
  {
   "cell_type": "code",
   "execution_count": 34,
   "metadata": {},
   "outputs": [
    {
     "data": {
      "application/vnd.plotly.v1+json": {
       "config": {
        "plotlyServerURL": "https://plot.ly"
       },
       "data": [
        {
         "name": "Private - CENTRAL GOVERNMENT/DEB",
         "orientation": "h",
         "type": "bar",
         "x": [
          3,
          3
         ],
         "y": [
          "ECD/PRE-PRIMARY SCHOOL",
          "PRIMARY SCHOOL"
         ]
        },
        {
         "name": "Public - CENTRAL GOVERNMENT/DEB",
         "orientation": "h",
         "type": "bar",
         "x": [
          19,
          2,
          31,
          20,
          1,
          4,
          5
         ],
         "y": [
          "ECD/PRE-PRIMARY SCHOOL",
          "NON FORMAL SCHOOL/NON FORMAL EDUCATION CENTRE",
          "PRIMARY SCHOOL",
          "SECONDARY SCHOOL",
          "TEACHER TRAINING COLLEGE",
          "TECHNICAL TRAINING INSTITUTE",
          "UNIVERSITY"
         ]
        },
        {
         "name": "Private - COMMUNITY",
         "orientation": "h",
         "type": "bar",
         "x": [
          103,
          19,
          87,
          17
         ],
         "y": [
          "ECD/PRE-PRIMARY SCHOOL",
          "NON FORMAL SCHOOL/NON FORMAL EDUCATION CENTRE",
          "PRIMARY SCHOOL",
          "SECONDARY SCHOOL"
         ]
        },
        {
         "name": "Public - COMMUNITY",
         "orientation": "h",
         "type": "bar",
         "x": [
          30,
          5,
          14,
          2
         ],
         "y": [
          "ECD/PRE-PRIMARY SCHOOL",
          "NON FORMAL SCHOOL/NON FORMAL EDUCATION CENTRE",
          "PRIMARY SCHOOL",
          "SECONDARY SCHOOL"
         ]
        },
        {
         "name": "Private - LOCAL GOVERNMENT AUTHORITY",
         "orientation": "h",
         "type": "bar",
         "x": [
          9,
          8,
          1
         ],
         "y": [
          "ECD/PRE-PRIMARY SCHOOL",
          "PRIMARY SCHOOL",
          "SECONDARY SCHOOL"
         ]
        },
        {
         "name": "Public - LOCAL GOVERNMENT AUTHORITY",
         "orientation": "h",
         "type": "bar",
         "x": [
          103,
          1,
          130,
          2
         ],
         "y": [
          "ECD/PRE-PRIMARY SCHOOL",
          "NON FORMAL SCHOOL/NON FORMAL EDUCATION CENTRE",
          "PRIMARY SCHOOL",
          "SECONDARY SCHOOL"
         ]
        },
        {
         "name": "Private - NGO/CBO",
         "orientation": "h",
         "type": "bar",
         "x": [
          100,
          35,
          83,
          9
         ],
         "y": [
          "ECD/PRE-PRIMARY SCHOOL",
          "NON FORMAL SCHOOL/NON FORMAL EDUCATION CENTRE",
          "PRIMARY SCHOOL",
          "SECONDARY SCHOOL"
         ]
        },
        {
         "name": "Public - NGO/CBO",
         "orientation": "h",
         "type": "bar",
         "x": [
          7,
          1,
          8
         ],
         "y": [
          "ECD/PRE-PRIMARY SCHOOL",
          "NON FORMAL SCHOOL/NON FORMAL EDUCATION CENTRE",
          "PRIMARY SCHOOL"
         ]
        },
        {
         "name": "Private - PRIVATE INDIVIDUAL",
         "orientation": "h",
         "type": "bar",
         "x": [
          337,
          13,
          1,
          289,
          76,
          1,
          4,
          1,
          1
         ],
         "y": [
          "ECD/PRE-PRIMARY SCHOOL",
          "NON FORMAL SCHOOL/NON FORMAL EDUCATION CENTRE",
          "PPRI",
          "PRIMARY SCHOOL",
          "SECONDARY SCHOOL",
          "TEACHER TRAINING",
          "TEACHER TRAINING COLLEGE",
          "TECHNICAL TRAINING INSTITUTE",
          "UNIVERSITY"
         ]
        },
        {
         "name": "Public - PRIVATE INDIVIDUAL",
         "orientation": "h",
         "type": "bar",
         "x": [
          5,
          3,
          1
         ],
         "y": [
          "ECD/PRE-PRIMARY SCHOOL",
          "PRIMARY SCHOOL",
          "UNIVERSITY"
         ]
        },
        {
         "name": "Private - RELIGIOUS ORGANIZATION",
         "orientation": "h",
         "type": "bar",
         "x": [
          156,
          11,
          116,
          36,
          3,
          1,
          2
         ],
         "y": [
          "ECD/PRE-PRIMARY SCHOOL",
          "NON FORMAL SCHOOL/NON FORMAL EDUCATION CENTRE",
          "PRIMARY SCHOOL",
          "SECONDARY SCHOOL",
          "TEACHER TRAINING COLLEGE",
          "TECHNICAL TRAINING INSTITUTE",
          "UNIVERSITY"
         ]
        },
        {
         "name": "Public - RELIGIOUS ORGANIZATION",
         "orientation": "h",
         "type": "bar",
         "x": [
          647,
          1,
          2,
          410,
          143,
          4,
          2,
          6
         ],
         "y": [
          "ECD/PRE-PRIMARY SCHOOL",
          "NATIONAL POLYTECHNIC",
          "NON FORMAL SCHOOL/NON FORMAL EDUCATION CENTRE",
          "PRIMARY SCHOOL",
          "SECONDARY SCHOOL",
          "TEACHER TRAINING COLLEGE",
          "TECHNICAL TRAINING INSTITUTE",
          "UNIVERSITY"
         ]
        }
       ],
       "layout": {
        "barmode": "stack",
        "legend": {
         "title": {
          "text": "Status"
         }
        },
        "template": {
         "data": {
          "bar": [
           {
            "error_x": {
             "color": "#2a3f5f"
            },
            "error_y": {
             "color": "#2a3f5f"
            },
            "marker": {
             "line": {
              "color": "#E5ECF6",
              "width": 0.5
             },
             "pattern": {
              "fillmode": "overlay",
              "size": 10,
              "solidity": 0.2
             }
            },
            "type": "bar"
           }
          ],
          "barpolar": [
           {
            "marker": {
             "line": {
              "color": "#E5ECF6",
              "width": 0.5
             },
             "pattern": {
              "fillmode": "overlay",
              "size": 10,
              "solidity": 0.2
             }
            },
            "type": "barpolar"
           }
          ],
          "carpet": [
           {
            "aaxis": {
             "endlinecolor": "#2a3f5f",
             "gridcolor": "white",
             "linecolor": "white",
             "minorgridcolor": "white",
             "startlinecolor": "#2a3f5f"
            },
            "baxis": {
             "endlinecolor": "#2a3f5f",
             "gridcolor": "white",
             "linecolor": "white",
             "minorgridcolor": "white",
             "startlinecolor": "#2a3f5f"
            },
            "type": "carpet"
           }
          ],
          "choropleth": [
           {
            "colorbar": {
             "outlinewidth": 0,
             "ticks": ""
            },
            "type": "choropleth"
           }
          ],
          "contour": [
           {
            "colorbar": {
             "outlinewidth": 0,
             "ticks": ""
            },
            "colorscale": [
             [
              0,
              "#0d0887"
             ],
             [
              0.1111111111111111,
              "#46039f"
             ],
             [
              0.2222222222222222,
              "#7201a8"
             ],
             [
              0.3333333333333333,
              "#9c179e"
             ],
             [
              0.4444444444444444,
              "#bd3786"
             ],
             [
              0.5555555555555556,
              "#d8576b"
             ],
             [
              0.6666666666666666,
              "#ed7953"
             ],
             [
              0.7777777777777778,
              "#fb9f3a"
             ],
             [
              0.8888888888888888,
              "#fdca26"
             ],
             [
              1,
              "#f0f921"
             ]
            ],
            "type": "contour"
           }
          ],
          "contourcarpet": [
           {
            "colorbar": {
             "outlinewidth": 0,
             "ticks": ""
            },
            "type": "contourcarpet"
           }
          ],
          "heatmap": [
           {
            "colorbar": {
             "outlinewidth": 0,
             "ticks": ""
            },
            "colorscale": [
             [
              0,
              "#0d0887"
             ],
             [
              0.1111111111111111,
              "#46039f"
             ],
             [
              0.2222222222222222,
              "#7201a8"
             ],
             [
              0.3333333333333333,
              "#9c179e"
             ],
             [
              0.4444444444444444,
              "#bd3786"
             ],
             [
              0.5555555555555556,
              "#d8576b"
             ],
             [
              0.6666666666666666,
              "#ed7953"
             ],
             [
              0.7777777777777778,
              "#fb9f3a"
             ],
             [
              0.8888888888888888,
              "#fdca26"
             ],
             [
              1,
              "#f0f921"
             ]
            ],
            "type": "heatmap"
           }
          ],
          "heatmapgl": [
           {
            "colorbar": {
             "outlinewidth": 0,
             "ticks": ""
            },
            "colorscale": [
             [
              0,
              "#0d0887"
             ],
             [
              0.1111111111111111,
              "#46039f"
             ],
             [
              0.2222222222222222,
              "#7201a8"
             ],
             [
              0.3333333333333333,
              "#9c179e"
             ],
             [
              0.4444444444444444,
              "#bd3786"
             ],
             [
              0.5555555555555556,
              "#d8576b"
             ],
             [
              0.6666666666666666,
              "#ed7953"
             ],
             [
              0.7777777777777778,
              "#fb9f3a"
             ],
             [
              0.8888888888888888,
              "#fdca26"
             ],
             [
              1,
              "#f0f921"
             ]
            ],
            "type": "heatmapgl"
           }
          ],
          "histogram": [
           {
            "marker": {
             "pattern": {
              "fillmode": "overlay",
              "size": 10,
              "solidity": 0.2
             }
            },
            "type": "histogram"
           }
          ],
          "histogram2d": [
           {
            "colorbar": {
             "outlinewidth": 0,
             "ticks": ""
            },
            "colorscale": [
             [
              0,
              "#0d0887"
             ],
             [
              0.1111111111111111,
              "#46039f"
             ],
             [
              0.2222222222222222,
              "#7201a8"
             ],
             [
              0.3333333333333333,
              "#9c179e"
             ],
             [
              0.4444444444444444,
              "#bd3786"
             ],
             [
              0.5555555555555556,
              "#d8576b"
             ],
             [
              0.6666666666666666,
              "#ed7953"
             ],
             [
              0.7777777777777778,
              "#fb9f3a"
             ],
             [
              0.8888888888888888,
              "#fdca26"
             ],
             [
              1,
              "#f0f921"
             ]
            ],
            "type": "histogram2d"
           }
          ],
          "histogram2dcontour": [
           {
            "colorbar": {
             "outlinewidth": 0,
             "ticks": ""
            },
            "colorscale": [
             [
              0,
              "#0d0887"
             ],
             [
              0.1111111111111111,
              "#46039f"
             ],
             [
              0.2222222222222222,
              "#7201a8"
             ],
             [
              0.3333333333333333,
              "#9c179e"
             ],
             [
              0.4444444444444444,
              "#bd3786"
             ],
             [
              0.5555555555555556,
              "#d8576b"
             ],
             [
              0.6666666666666666,
              "#ed7953"
             ],
             [
              0.7777777777777778,
              "#fb9f3a"
             ],
             [
              0.8888888888888888,
              "#fdca26"
             ],
             [
              1,
              "#f0f921"
             ]
            ],
            "type": "histogram2dcontour"
           }
          ],
          "mesh3d": [
           {
            "colorbar": {
             "outlinewidth": 0,
             "ticks": ""
            },
            "type": "mesh3d"
           }
          ],
          "parcoords": [
           {
            "line": {
             "colorbar": {
              "outlinewidth": 0,
              "ticks": ""
             }
            },
            "type": "parcoords"
           }
          ],
          "pie": [
           {
            "automargin": true,
            "type": "pie"
           }
          ],
          "scatter": [
           {
            "fillpattern": {
             "fillmode": "overlay",
             "size": 10,
             "solidity": 0.2
            },
            "type": "scatter"
           }
          ],
          "scatter3d": [
           {
            "line": {
             "colorbar": {
              "outlinewidth": 0,
              "ticks": ""
             }
            },
            "marker": {
             "colorbar": {
              "outlinewidth": 0,
              "ticks": ""
             }
            },
            "type": "scatter3d"
           }
          ],
          "scattercarpet": [
           {
            "marker": {
             "colorbar": {
              "outlinewidth": 0,
              "ticks": ""
             }
            },
            "type": "scattercarpet"
           }
          ],
          "scattergeo": [
           {
            "marker": {
             "colorbar": {
              "outlinewidth": 0,
              "ticks": ""
             }
            },
            "type": "scattergeo"
           }
          ],
          "scattergl": [
           {
            "marker": {
             "colorbar": {
              "outlinewidth": 0,
              "ticks": ""
             }
            },
            "type": "scattergl"
           }
          ],
          "scattermapbox": [
           {
            "marker": {
             "colorbar": {
              "outlinewidth": 0,
              "ticks": ""
             }
            },
            "type": "scattermapbox"
           }
          ],
          "scatterpolar": [
           {
            "marker": {
             "colorbar": {
              "outlinewidth": 0,
              "ticks": ""
             }
            },
            "type": "scatterpolar"
           }
          ],
          "scatterpolargl": [
           {
            "marker": {
             "colorbar": {
              "outlinewidth": 0,
              "ticks": ""
             }
            },
            "type": "scatterpolargl"
           }
          ],
          "scatterternary": [
           {
            "marker": {
             "colorbar": {
              "outlinewidth": 0,
              "ticks": ""
             }
            },
            "type": "scatterternary"
           }
          ],
          "surface": [
           {
            "colorbar": {
             "outlinewidth": 0,
             "ticks": ""
            },
            "colorscale": [
             [
              0,
              "#0d0887"
             ],
             [
              0.1111111111111111,
              "#46039f"
             ],
             [
              0.2222222222222222,
              "#7201a8"
             ],
             [
              0.3333333333333333,
              "#9c179e"
             ],
             [
              0.4444444444444444,
              "#bd3786"
             ],
             [
              0.5555555555555556,
              "#d8576b"
             ],
             [
              0.6666666666666666,
              "#ed7953"
             ],
             [
              0.7777777777777778,
              "#fb9f3a"
             ],
             [
              0.8888888888888888,
              "#fdca26"
             ],
             [
              1,
              "#f0f921"
             ]
            ],
            "type": "surface"
           }
          ],
          "table": [
           {
            "cells": {
             "fill": {
              "color": "#EBF0F8"
             },
             "line": {
              "color": "white"
             }
            },
            "header": {
             "fill": {
              "color": "#C8D4E3"
             },
             "line": {
              "color": "white"
             }
            },
            "type": "table"
           }
          ]
         },
         "layout": {
          "annotationdefaults": {
           "arrowcolor": "#2a3f5f",
           "arrowhead": 0,
           "arrowwidth": 1
          },
          "autotypenumbers": "strict",
          "coloraxis": {
           "colorbar": {
            "outlinewidth": 0,
            "ticks": ""
           }
          },
          "colorscale": {
           "diverging": [
            [
             0,
             "#8e0152"
            ],
            [
             0.1,
             "#c51b7d"
            ],
            [
             0.2,
             "#de77ae"
            ],
            [
             0.3,
             "#f1b6da"
            ],
            [
             0.4,
             "#fde0ef"
            ],
            [
             0.5,
             "#f7f7f7"
            ],
            [
             0.6,
             "#e6f5d0"
            ],
            [
             0.7,
             "#b8e186"
            ],
            [
             0.8,
             "#7fbc41"
            ],
            [
             0.9,
             "#4d9221"
            ],
            [
             1,
             "#276419"
            ]
           ],
           "sequential": [
            [
             0,
             "#0d0887"
            ],
            [
             0.1111111111111111,
             "#46039f"
            ],
            [
             0.2222222222222222,
             "#7201a8"
            ],
            [
             0.3333333333333333,
             "#9c179e"
            ],
            [
             0.4444444444444444,
             "#bd3786"
            ],
            [
             0.5555555555555556,
             "#d8576b"
            ],
            [
             0.6666666666666666,
             "#ed7953"
            ],
            [
             0.7777777777777778,
             "#fb9f3a"
            ],
            [
             0.8888888888888888,
             "#fdca26"
            ],
            [
             1,
             "#f0f921"
            ]
           ],
           "sequentialminus": [
            [
             0,
             "#0d0887"
            ],
            [
             0.1111111111111111,
             "#46039f"
            ],
            [
             0.2222222222222222,
             "#7201a8"
            ],
            [
             0.3333333333333333,
             "#9c179e"
            ],
            [
             0.4444444444444444,
             "#bd3786"
            ],
            [
             0.5555555555555556,
             "#d8576b"
            ],
            [
             0.6666666666666666,
             "#ed7953"
            ],
            [
             0.7777777777777778,
             "#fb9f3a"
            ],
            [
             0.8888888888888888,
             "#fdca26"
            ],
            [
             1,
             "#f0f921"
            ]
           ]
          },
          "colorway": [
           "#636efa",
           "#EF553B",
           "#00cc96",
           "#ab63fa",
           "#FFA15A",
           "#19d3f3",
           "#FF6692",
           "#B6E880",
           "#FF97FF",
           "#FECB52"
          ],
          "font": {
           "color": "#2a3f5f"
          },
          "geo": {
           "bgcolor": "white",
           "lakecolor": "white",
           "landcolor": "#E5ECF6",
           "showlakes": true,
           "showland": true,
           "subunitcolor": "white"
          },
          "hoverlabel": {
           "align": "left"
          },
          "hovermode": "closest",
          "mapbox": {
           "style": "light"
          },
          "paper_bgcolor": "white",
          "plot_bgcolor": "#E5ECF6",
          "polar": {
           "angularaxis": {
            "gridcolor": "white",
            "linecolor": "white",
            "ticks": ""
           },
           "bgcolor": "#E5ECF6",
           "radialaxis": {
            "gridcolor": "white",
            "linecolor": "white",
            "ticks": ""
           }
          },
          "scene": {
           "xaxis": {
            "backgroundcolor": "#E5ECF6",
            "gridcolor": "white",
            "gridwidth": 2,
            "linecolor": "white",
            "showbackground": true,
            "ticks": "",
            "zerolinecolor": "white"
           },
           "yaxis": {
            "backgroundcolor": "#E5ECF6",
            "gridcolor": "white",
            "gridwidth": 2,
            "linecolor": "white",
            "showbackground": true,
            "ticks": "",
            "zerolinecolor": "white"
           },
           "zaxis": {
            "backgroundcolor": "#E5ECF6",
            "gridcolor": "white",
            "gridwidth": 2,
            "linecolor": "white",
            "showbackground": true,
            "ticks": "",
            "zerolinecolor": "white"
           }
          },
          "shapedefaults": {
           "line": {
            "color": "#2a3f5f"
           }
          },
          "ternary": {
           "aaxis": {
            "gridcolor": "white",
            "linecolor": "white",
            "ticks": ""
           },
           "baxis": {
            "gridcolor": "white",
            "linecolor": "white",
            "ticks": ""
           },
           "bgcolor": "#E5ECF6",
           "caxis": {
            "gridcolor": "white",
            "linecolor": "white",
            "ticks": ""
           }
          },
          "title": {
           "x": 0.05
          },
          "xaxis": {
           "automargin": true,
           "gridcolor": "white",
           "linecolor": "white",
           "ticks": "",
           "title": {
            "standoff": 15
           },
           "zerolinecolor": "white",
           "zerolinewidth": 2
          },
          "yaxis": {
           "automargin": true,
           "gridcolor": "white",
           "linecolor": "white",
           "ticks": "",
           "title": {
            "standoff": 15
           },
           "zerolinecolor": "white",
           "zerolinewidth": 2
          }
         }
        },
        "title": {
         "text": "Bar Chart: School Distribution in Nairobi"
        },
        "xaxis": {
         "title": {
          "text": "Count"
         }
        },
        "yaxis": {
         "title": {
          "text": "Level"
         }
        }
       }
      }
     },
     "metadata": {},
     "output_type": "display_data"
    }
   ],
   "source": [
    "priv_grouped = priv.groupby(['Level', 'Sponsor']).size().reset_index(name='Count')\n",
    "pub_grouped = pub.groupby(['Level', 'Sponsor']).size().reset_index(name='Count')\n",
    "\n",
    "unique_sponsors = priv_grouped['Sponsor'].unique()\n",
    "\n",
    "fig = go.Figure()\n",
    "\n",
    "for sponsor in unique_sponsors:\n",
    "    priv_data = priv_grouped[priv_grouped['Sponsor'] == sponsor]\n",
    "    pub_data = pub_grouped[pub_grouped['Sponsor'] == sponsor]\n",
    "\n",
    "    fig.add_trace(go.Bar(\n",
    "        x=priv_data['Count'],\n",
    "        y=priv_data['Level'],\n",
    "        name=f'Private - {sponsor}',\n",
    "        orientation='h'\n",
    "    ))\n",
    "\n",
    "    fig.add_trace(go.Bar(\n",
    "        x=pub_data['Count'],\n",
    "        y=pub_data['Level'],\n",
    "        name=f'Public - {sponsor}',\n",
    "        orientation='h'\n",
    "    ))\n",
    "\n",
    "fig.update_layout(\n",
    "    barmode='stack',\n",
    "    title='Bar Chart: School Distribution in Nairobi',\n",
    "    xaxis_title='Count',\n",
    "    yaxis_title='Level',\n",
    "    legend_title='Status',\n",
    ")\n",
    "\n",
    "fig.show()\n"
   ]
  },
  {
   "cell_type": "code",
   "execution_count": 35,
   "metadata": {},
   "outputs": [],
   "source": [
    "central=df[df[\"PROVINCE\"]==\"CENTRAL\"]\n",
    "central\n",
    "priv=central[central[\"Status\"]==\"PRIVATE\"]\n",
    "pub=central[central[\"Status\"]==\"PUBLIC\"]"
   ]
  },
  {
   "cell_type": "code",
   "execution_count": 36,
   "metadata": {},
   "outputs": [
    {
     "data": {
      "application/vnd.plotly.v1+json": {
       "config": {
        "plotlyServerURL": "https://plot.ly"
       },
       "data": [
        {
         "name": "Private - CENTRAL GOVERNMENT/DEB",
         "orientation": "h",
         "type": "bar",
         "x": [
          5,
          1,
          1
         ],
         "y": [
          "ECD/PRE-PRIMARY SCHOOL",
          "PRIMARY SCHOOL",
          "SECONDARY SCHOOL"
         ]
        },
        {
         "name": "Public - CENTRAL GOVERNMENT/DEB",
         "orientation": "h",
         "type": "bar",
         "x": [
          327,
          2,
          1,
          22,
          48,
          962,
          206,
          1,
          3,
          5,
          2,
          21
         ],
         "y": [
          "ECD/PRE-PRIMARY SCHOOL",
          "INSTITUTE OF TECHNOLOGY",
          "NON FORMAL SCHOOL",
          "NON FORMAL SCHOOL/NON FORMAL EDUCATION CENTRE",
          "PRE-PRIMARY SCHOOL",
          "PRIMARY SCHOOL",
          "SECONDARY SCHOOL",
          "SPECIAL UNIT",
          "TEACHER TRAINING COLLEGE",
          "TECHNICAL TRAINING INSTITUTE",
          "UNIVERSITY",
          "YOUTH POLYTECHNIC"
         ]
        },
        {
         "name": "Private - COMMUNITY",
         "orientation": "h",
         "type": "bar",
         "x": [
          44,
          1,
          4,
          9,
          2
         ],
         "y": [
          "ECD/PRE-PRIMARY SCHOOL",
          "NON FORMAL SCHOOL",
          "NON FORMAL SCHOOL/NON FORMAL EDUCATION CENTRE",
          "PRE-PRIMARY SCHOOL",
          "PRIMARY SCHOOL"
         ]
        },
        {
         "name": "Public - COMMUNITY",
         "orientation": "h",
         "type": "bar",
         "x": [
          958,
          12,
          151,
          27,
          37,
          1,
          32
         ],
         "y": [
          "ECD/PRE-PRIMARY SCHOOL",
          "NON FORMAL SCHOOL/NON FORMAL EDUCATION CENTRE",
          "PRE-PRIMARY SCHOOL",
          "PRIMARY SCHOOL",
          "SECONDARY SCHOOL",
          "TEACHER TRAINING COLLEGE",
          "YOUTH POLYTECHNIC"
         ]
        },
        {
         "name": "Private - LOCAL GOVERNMENT AUTHORITY",
         "orientation": "h",
         "type": "bar",
         "x": [
          20,
          5,
          1,
          2
         ],
         "y": [
          "ECD/PRE-PRIMARY SCHOOL",
          "PRIMARY SCHOOL",
          "SECONDARY SCHOOL",
          "YOUTH POLYTECHNIC"
         ]
        },
        {
         "name": "Public - LOCAL GOVERNMENT AUTHORITY",
         "orientation": "h",
         "type": "bar",
         "x": [
          113,
          3,
          9,
          58,
          29,
          1,
          1,
          7
         ],
         "y": [
          "ECD/PRE-PRIMARY SCHOOL",
          "NON FORMAL SCHOOL/NON FORMAL EDUCATION CENTRE",
          "PRE-PRIMARY SCHOOL",
          "PRIMARY SCHOOL",
          "SECONDARY SCHOOL",
          "TEACHER TRAINING COLLEGE",
          "TECHNICAL TRAINING INSTITUTE",
          "YOUTH POLYTECHNIC"
         ]
        },
        {
         "name": "Private - NGO/CBO",
         "orientation": "h",
         "type": "bar",
         "x": [
          29,
          3,
          3,
          5,
          13,
          3,
          1
         ],
         "y": [
          "ECD/PRE-PRIMARY SCHOOL",
          "NON FORMAL SCHOOL",
          "NON FORMAL SCHOOL/NON FORMAL EDUCATION CENTRE",
          "PRE-PRIMARY SCHOOL",
          "PRIMARY SCHOOL",
          "SECONDARY SCHOOL",
          "YOUTH POLYTECHNIC"
         ]
        },
        {
         "name": "Public - NGO/CBO",
         "orientation": "h",
         "type": "bar",
         "x": [
          53,
          3,
          2,
          2,
          4,
          3
         ],
         "y": [
          "ECD/PRE-PRIMARY SCHOOL",
          "NON FORMAL SCHOOL/NON FORMAL EDUCATION CENTRE",
          "PRE-PRIMARY SCHOOL",
          "PRIMARY SCHOOL",
          "SECONDARY SCHOOL",
          "YOUTH POLYTECHNIC"
         ]
        },
        {
         "name": "Private - PRIVATE INDIVIDUAL",
         "orientation": "h",
         "type": "bar",
         "x": [
          1235,
          2,
          3,
          7,
          1,
          314,
          941,
          156,
          5,
          2,
          1
         ],
         "y": [
          "ECD/PRE-PRIMARY SCHOOL",
          "INSTITUTE OF TECHNOLOGY",
          "NON FORMAL SCHOOL",
          "NON FORMAL SCHOOL/NON FORMAL EDUCATION CENTRE",
          "PRE-PRIMARY",
          "PRE-PRIMARY SCHOOL",
          "PRIMARY SCHOOL",
          "SECONDARY SCHOOL",
          "TEACHER TRAINING COLLEGE",
          "UNIVERSITY",
          "YOUTH POLYTECHNIC"
         ]
        },
        {
         "name": "Public - PRIVATE INDIVIDUAL",
         "orientation": "h",
         "type": "bar",
         "x": [
          33,
          7,
          13,
          7
         ],
         "y": [
          "ECD/PRE-PRIMARY SCHOOL",
          "PRE-PRIMARY SCHOOL",
          "PRIMARY SCHOOL",
          "SECONDARY SCHOOL"
         ]
        },
        {
         "name": "Private - RELIGIOUS ORGANIZATION",
         "orientation": "h",
         "type": "bar",
         "x": [
          545,
          2,
          8,
          100,
          270,
          54,
          1,
          1,
          4,
          1,
          13
         ],
         "y": [
          "ECD/PRE-PRIMARY SCHOOL",
          "NON FORMAL SCHOOL",
          "NON FORMAL SCHOOL/NON FORMAL EDUCATION CENTRE",
          "PRE-PRIMARY SCHOOL",
          "PRIMARY SCHOOL",
          "SECONDARY SCHOOL",
          "TEACHER TRAINING COLLEGE",
          "TEACHERS TRAINING COLLEGE",
          "TECHNICAL TRAINING INSTITUTE",
          "UNIVERSITY",
          "YOUTH POLYTECHNIC"
         ]
        },
        {
         "name": "Public - RELIGIOUS ORGANIZATION",
         "orientation": "h",
         "type": "bar",
         "x": [
          488,
          2,
          1,
          31,
          48,
          862,
          550,
          1,
          1,
          3,
          1,
          18
         ],
         "y": [
          "ECD/PRE-PRIMARY SCHOOL",
          "INSTITUTE OF TECHNOLOGY",
          "NON FORMAL SCHOOL",
          "NON FORMAL SCHOOL/NON FORMAL EDUCATION CENTRE",
          "PRE-PRIMARY SCHOOL",
          "PRIMARY SCHOOL",
          "SECONDARY SCHOOL",
          "SPECIAL INSTITUTION",
          "TEACHER TRAINING COLLEGE",
          "TECHNICAL TRAINING INSTITUTE",
          "UNIVERSITY",
          "YOUTH POLYTECHNIC"
         ]
        }
       ],
       "layout": {
        "barmode": "stack",
        "legend": {
         "title": {
          "text": "Status"
         }
        },
        "template": {
         "data": {
          "bar": [
           {
            "error_x": {
             "color": "#2a3f5f"
            },
            "error_y": {
             "color": "#2a3f5f"
            },
            "marker": {
             "line": {
              "color": "#E5ECF6",
              "width": 0.5
             },
             "pattern": {
              "fillmode": "overlay",
              "size": 10,
              "solidity": 0.2
             }
            },
            "type": "bar"
           }
          ],
          "barpolar": [
           {
            "marker": {
             "line": {
              "color": "#E5ECF6",
              "width": 0.5
             },
             "pattern": {
              "fillmode": "overlay",
              "size": 10,
              "solidity": 0.2
             }
            },
            "type": "barpolar"
           }
          ],
          "carpet": [
           {
            "aaxis": {
             "endlinecolor": "#2a3f5f",
             "gridcolor": "white",
             "linecolor": "white",
             "minorgridcolor": "white",
             "startlinecolor": "#2a3f5f"
            },
            "baxis": {
             "endlinecolor": "#2a3f5f",
             "gridcolor": "white",
             "linecolor": "white",
             "minorgridcolor": "white",
             "startlinecolor": "#2a3f5f"
            },
            "type": "carpet"
           }
          ],
          "choropleth": [
           {
            "colorbar": {
             "outlinewidth": 0,
             "ticks": ""
            },
            "type": "choropleth"
           }
          ],
          "contour": [
           {
            "colorbar": {
             "outlinewidth": 0,
             "ticks": ""
            },
            "colorscale": [
             [
              0,
              "#0d0887"
             ],
             [
              0.1111111111111111,
              "#46039f"
             ],
             [
              0.2222222222222222,
              "#7201a8"
             ],
             [
              0.3333333333333333,
              "#9c179e"
             ],
             [
              0.4444444444444444,
              "#bd3786"
             ],
             [
              0.5555555555555556,
              "#d8576b"
             ],
             [
              0.6666666666666666,
              "#ed7953"
             ],
             [
              0.7777777777777778,
              "#fb9f3a"
             ],
             [
              0.8888888888888888,
              "#fdca26"
             ],
             [
              1,
              "#f0f921"
             ]
            ],
            "type": "contour"
           }
          ],
          "contourcarpet": [
           {
            "colorbar": {
             "outlinewidth": 0,
             "ticks": ""
            },
            "type": "contourcarpet"
           }
          ],
          "heatmap": [
           {
            "colorbar": {
             "outlinewidth": 0,
             "ticks": ""
            },
            "colorscale": [
             [
              0,
              "#0d0887"
             ],
             [
              0.1111111111111111,
              "#46039f"
             ],
             [
              0.2222222222222222,
              "#7201a8"
             ],
             [
              0.3333333333333333,
              "#9c179e"
             ],
             [
              0.4444444444444444,
              "#bd3786"
             ],
             [
              0.5555555555555556,
              "#d8576b"
             ],
             [
              0.6666666666666666,
              "#ed7953"
             ],
             [
              0.7777777777777778,
              "#fb9f3a"
             ],
             [
              0.8888888888888888,
              "#fdca26"
             ],
             [
              1,
              "#f0f921"
             ]
            ],
            "type": "heatmap"
           }
          ],
          "heatmapgl": [
           {
            "colorbar": {
             "outlinewidth": 0,
             "ticks": ""
            },
            "colorscale": [
             [
              0,
              "#0d0887"
             ],
             [
              0.1111111111111111,
              "#46039f"
             ],
             [
              0.2222222222222222,
              "#7201a8"
             ],
             [
              0.3333333333333333,
              "#9c179e"
             ],
             [
              0.4444444444444444,
              "#bd3786"
             ],
             [
              0.5555555555555556,
              "#d8576b"
             ],
             [
              0.6666666666666666,
              "#ed7953"
             ],
             [
              0.7777777777777778,
              "#fb9f3a"
             ],
             [
              0.8888888888888888,
              "#fdca26"
             ],
             [
              1,
              "#f0f921"
             ]
            ],
            "type": "heatmapgl"
           }
          ],
          "histogram": [
           {
            "marker": {
             "pattern": {
              "fillmode": "overlay",
              "size": 10,
              "solidity": 0.2
             }
            },
            "type": "histogram"
           }
          ],
          "histogram2d": [
           {
            "colorbar": {
             "outlinewidth": 0,
             "ticks": ""
            },
            "colorscale": [
             [
              0,
              "#0d0887"
             ],
             [
              0.1111111111111111,
              "#46039f"
             ],
             [
              0.2222222222222222,
              "#7201a8"
             ],
             [
              0.3333333333333333,
              "#9c179e"
             ],
             [
              0.4444444444444444,
              "#bd3786"
             ],
             [
              0.5555555555555556,
              "#d8576b"
             ],
             [
              0.6666666666666666,
              "#ed7953"
             ],
             [
              0.7777777777777778,
              "#fb9f3a"
             ],
             [
              0.8888888888888888,
              "#fdca26"
             ],
             [
              1,
              "#f0f921"
             ]
            ],
            "type": "histogram2d"
           }
          ],
          "histogram2dcontour": [
           {
            "colorbar": {
             "outlinewidth": 0,
             "ticks": ""
            },
            "colorscale": [
             [
              0,
              "#0d0887"
             ],
             [
              0.1111111111111111,
              "#46039f"
             ],
             [
              0.2222222222222222,
              "#7201a8"
             ],
             [
              0.3333333333333333,
              "#9c179e"
             ],
             [
              0.4444444444444444,
              "#bd3786"
             ],
             [
              0.5555555555555556,
              "#d8576b"
             ],
             [
              0.6666666666666666,
              "#ed7953"
             ],
             [
              0.7777777777777778,
              "#fb9f3a"
             ],
             [
              0.8888888888888888,
              "#fdca26"
             ],
             [
              1,
              "#f0f921"
             ]
            ],
            "type": "histogram2dcontour"
           }
          ],
          "mesh3d": [
           {
            "colorbar": {
             "outlinewidth": 0,
             "ticks": ""
            },
            "type": "mesh3d"
           }
          ],
          "parcoords": [
           {
            "line": {
             "colorbar": {
              "outlinewidth": 0,
              "ticks": ""
             }
            },
            "type": "parcoords"
           }
          ],
          "pie": [
           {
            "automargin": true,
            "type": "pie"
           }
          ],
          "scatter": [
           {
            "fillpattern": {
             "fillmode": "overlay",
             "size": 10,
             "solidity": 0.2
            },
            "type": "scatter"
           }
          ],
          "scatter3d": [
           {
            "line": {
             "colorbar": {
              "outlinewidth": 0,
              "ticks": ""
             }
            },
            "marker": {
             "colorbar": {
              "outlinewidth": 0,
              "ticks": ""
             }
            },
            "type": "scatter3d"
           }
          ],
          "scattercarpet": [
           {
            "marker": {
             "colorbar": {
              "outlinewidth": 0,
              "ticks": ""
             }
            },
            "type": "scattercarpet"
           }
          ],
          "scattergeo": [
           {
            "marker": {
             "colorbar": {
              "outlinewidth": 0,
              "ticks": ""
             }
            },
            "type": "scattergeo"
           }
          ],
          "scattergl": [
           {
            "marker": {
             "colorbar": {
              "outlinewidth": 0,
              "ticks": ""
             }
            },
            "type": "scattergl"
           }
          ],
          "scattermapbox": [
           {
            "marker": {
             "colorbar": {
              "outlinewidth": 0,
              "ticks": ""
             }
            },
            "type": "scattermapbox"
           }
          ],
          "scatterpolar": [
           {
            "marker": {
             "colorbar": {
              "outlinewidth": 0,
              "ticks": ""
             }
            },
            "type": "scatterpolar"
           }
          ],
          "scatterpolargl": [
           {
            "marker": {
             "colorbar": {
              "outlinewidth": 0,
              "ticks": ""
             }
            },
            "type": "scatterpolargl"
           }
          ],
          "scatterternary": [
           {
            "marker": {
             "colorbar": {
              "outlinewidth": 0,
              "ticks": ""
             }
            },
            "type": "scatterternary"
           }
          ],
          "surface": [
           {
            "colorbar": {
             "outlinewidth": 0,
             "ticks": ""
            },
            "colorscale": [
             [
              0,
              "#0d0887"
             ],
             [
              0.1111111111111111,
              "#46039f"
             ],
             [
              0.2222222222222222,
              "#7201a8"
             ],
             [
              0.3333333333333333,
              "#9c179e"
             ],
             [
              0.4444444444444444,
              "#bd3786"
             ],
             [
              0.5555555555555556,
              "#d8576b"
             ],
             [
              0.6666666666666666,
              "#ed7953"
             ],
             [
              0.7777777777777778,
              "#fb9f3a"
             ],
             [
              0.8888888888888888,
              "#fdca26"
             ],
             [
              1,
              "#f0f921"
             ]
            ],
            "type": "surface"
           }
          ],
          "table": [
           {
            "cells": {
             "fill": {
              "color": "#EBF0F8"
             },
             "line": {
              "color": "white"
             }
            },
            "header": {
             "fill": {
              "color": "#C8D4E3"
             },
             "line": {
              "color": "white"
             }
            },
            "type": "table"
           }
          ]
         },
         "layout": {
          "annotationdefaults": {
           "arrowcolor": "#2a3f5f",
           "arrowhead": 0,
           "arrowwidth": 1
          },
          "autotypenumbers": "strict",
          "coloraxis": {
           "colorbar": {
            "outlinewidth": 0,
            "ticks": ""
           }
          },
          "colorscale": {
           "diverging": [
            [
             0,
             "#8e0152"
            ],
            [
             0.1,
             "#c51b7d"
            ],
            [
             0.2,
             "#de77ae"
            ],
            [
             0.3,
             "#f1b6da"
            ],
            [
             0.4,
             "#fde0ef"
            ],
            [
             0.5,
             "#f7f7f7"
            ],
            [
             0.6,
             "#e6f5d0"
            ],
            [
             0.7,
             "#b8e186"
            ],
            [
             0.8,
             "#7fbc41"
            ],
            [
             0.9,
             "#4d9221"
            ],
            [
             1,
             "#276419"
            ]
           ],
           "sequential": [
            [
             0,
             "#0d0887"
            ],
            [
             0.1111111111111111,
             "#46039f"
            ],
            [
             0.2222222222222222,
             "#7201a8"
            ],
            [
             0.3333333333333333,
             "#9c179e"
            ],
            [
             0.4444444444444444,
             "#bd3786"
            ],
            [
             0.5555555555555556,
             "#d8576b"
            ],
            [
             0.6666666666666666,
             "#ed7953"
            ],
            [
             0.7777777777777778,
             "#fb9f3a"
            ],
            [
             0.8888888888888888,
             "#fdca26"
            ],
            [
             1,
             "#f0f921"
            ]
           ],
           "sequentialminus": [
            [
             0,
             "#0d0887"
            ],
            [
             0.1111111111111111,
             "#46039f"
            ],
            [
             0.2222222222222222,
             "#7201a8"
            ],
            [
             0.3333333333333333,
             "#9c179e"
            ],
            [
             0.4444444444444444,
             "#bd3786"
            ],
            [
             0.5555555555555556,
             "#d8576b"
            ],
            [
             0.6666666666666666,
             "#ed7953"
            ],
            [
             0.7777777777777778,
             "#fb9f3a"
            ],
            [
             0.8888888888888888,
             "#fdca26"
            ],
            [
             1,
             "#f0f921"
            ]
           ]
          },
          "colorway": [
           "#636efa",
           "#EF553B",
           "#00cc96",
           "#ab63fa",
           "#FFA15A",
           "#19d3f3",
           "#FF6692",
           "#B6E880",
           "#FF97FF",
           "#FECB52"
          ],
          "font": {
           "color": "#2a3f5f"
          },
          "geo": {
           "bgcolor": "white",
           "lakecolor": "white",
           "landcolor": "#E5ECF6",
           "showlakes": true,
           "showland": true,
           "subunitcolor": "white"
          },
          "hoverlabel": {
           "align": "left"
          },
          "hovermode": "closest",
          "mapbox": {
           "style": "light"
          },
          "paper_bgcolor": "white",
          "plot_bgcolor": "#E5ECF6",
          "polar": {
           "angularaxis": {
            "gridcolor": "white",
            "linecolor": "white",
            "ticks": ""
           },
           "bgcolor": "#E5ECF6",
           "radialaxis": {
            "gridcolor": "white",
            "linecolor": "white",
            "ticks": ""
           }
          },
          "scene": {
           "xaxis": {
            "backgroundcolor": "#E5ECF6",
            "gridcolor": "white",
            "gridwidth": 2,
            "linecolor": "white",
            "showbackground": true,
            "ticks": "",
            "zerolinecolor": "white"
           },
           "yaxis": {
            "backgroundcolor": "#E5ECF6",
            "gridcolor": "white",
            "gridwidth": 2,
            "linecolor": "white",
            "showbackground": true,
            "ticks": "",
            "zerolinecolor": "white"
           },
           "zaxis": {
            "backgroundcolor": "#E5ECF6",
            "gridcolor": "white",
            "gridwidth": 2,
            "linecolor": "white",
            "showbackground": true,
            "ticks": "",
            "zerolinecolor": "white"
           }
          },
          "shapedefaults": {
           "line": {
            "color": "#2a3f5f"
           }
          },
          "ternary": {
           "aaxis": {
            "gridcolor": "white",
            "linecolor": "white",
            "ticks": ""
           },
           "baxis": {
            "gridcolor": "white",
            "linecolor": "white",
            "ticks": ""
           },
           "bgcolor": "#E5ECF6",
           "caxis": {
            "gridcolor": "white",
            "linecolor": "white",
            "ticks": ""
           }
          },
          "title": {
           "x": 0.05
          },
          "xaxis": {
           "automargin": true,
           "gridcolor": "white",
           "linecolor": "white",
           "ticks": "",
           "title": {
            "standoff": 15
           },
           "zerolinecolor": "white",
           "zerolinewidth": 2
          },
          "yaxis": {
           "automargin": true,
           "gridcolor": "white",
           "linecolor": "white",
           "ticks": "",
           "title": {
            "standoff": 15
           },
           "zerolinecolor": "white",
           "zerolinewidth": 2
          }
         }
        },
        "title": {
         "text": "Bar Chart: School Distribution in Central Province"
        },
        "xaxis": {
         "title": {
          "text": "Count"
         }
        },
        "yaxis": {
         "title": {
          "text": "Level"
         }
        }
       }
      }
     },
     "metadata": {},
     "output_type": "display_data"
    }
   ],
   "source": [
    "priv_grouped = priv.groupby(['Level', 'Sponsor']).size().reset_index(name='Count')\n",
    "pub_grouped = pub.groupby(['Level', 'Sponsor']).size().reset_index(name='Count')\n",
    "\n",
    "unique_sponsors = priv_grouped['Sponsor'].unique()\n",
    "\n",
    "fig = go.Figure()\n",
    "\n",
    "for sponsor in unique_sponsors:\n",
    "    priv_data = priv_grouped[priv_grouped['Sponsor'] == sponsor]\n",
    "    pub_data = pub_grouped[pub_grouped['Sponsor'] == sponsor]\n",
    "\n",
    "    fig.add_trace(go.Bar(\n",
    "        x=priv_data['Count'],\n",
    "        y=priv_data['Level'],\n",
    "        name=f'Private - {sponsor}',\n",
    "        orientation='h'\n",
    "    ))\n",
    "\n",
    "    fig.add_trace(go.Bar(\n",
    "        x=pub_data['Count'],\n",
    "        y=pub_data['Level'],\n",
    "        name=f'Public - {sponsor}',\n",
    "        orientation='h'\n",
    "    ))\n",
    "\n",
    "fig.update_layout(\n",
    "    barmode='stack',\n",
    "    title='Bar Chart: School Distribution in Central Province',\n",
    "    xaxis_title='Count',\n",
    "    yaxis_title='Level',\n",
    "    legend_title='Status',\n",
    ")\n",
    "\n",
    "fig.show()\n"
   ]
  },
  {
   "cell_type": "code",
   "execution_count": 37,
   "metadata": {},
   "outputs": [],
   "source": [
    "nyanza=df[df[\"PROVINCE\"]==\"NYANZA\"]\n",
    "nyanza\n",
    "priv=nyanza[nyanza[\"Status\"]==\"PRIVATE\"]\n",
    "pub=nyanza[nyanza[\"Status\"]==\"PUBLIC\"]"
   ]
  },
  {
   "cell_type": "code",
   "execution_count": 38,
   "metadata": {},
   "outputs": [
    {
     "data": {
      "application/vnd.plotly.v1+json": {
       "config": {
        "plotlyServerURL": "https://plot.ly"
       },
       "data": [
        {
         "name": "Private - CENTRAL GOVERNMENT/DEB",
         "orientation": "h",
         "type": "bar",
         "x": [
          3,
          4
         ],
         "y": [
          "ECD/PRE-PRIMARY SCHOOL",
          "PRIMARY SCHOOL"
         ]
        },
        {
         "name": "Public - CENTRAL GOVERNMENT/DEB",
         "orientation": "h",
         "type": "bar",
         "x": [
          458,
          4,
          1,
          92,
          2,
          8,
          1154,
          214,
          1,
          3,
          2,
          26
         ],
         "y": [
          "ECD/PRE-PRIMARY SCHOOL",
          "INSTITUTE OF TECHNOLOGY",
          "NATIONAL POLYTECHNIC",
          "NON FORMAL SCHOOL/NON FORMAL EDUCATION CENTRE",
          "NON-FORMAL EDUCATION CENTRE",
          "NON-FORMAL SCHOOL/NON-FORMAL EDUCATION CENTRE",
          "PRIMARY SCHOOL",
          "SECONDARY SCHOOL",
          "TEACHER TRAINING COLLEGE",
          "TECHNICAL TRAINING INSTITUTE",
          "UNIVERSITY",
          "YOUTH POLYTECHNIC"
         ]
        },
        {
         "name": "Private - COMMUNITY",
         "orientation": "h",
         "type": "bar",
         "x": [
          47,
          2,
          9,
          5
         ],
         "y": [
          "ECD/PRE-PRIMARY SCHOOL",
          "NON FORMAL SCHOOL/NON FORMAL EDUCATION CENTRE",
          "PRIMARY SCHOOL",
          "SECONDARY SCHOOL"
         ]
        },
        {
         "name": "Public - COMMUNITY",
         "orientation": "h",
         "type": "bar",
         "x": [
          1639,
          9,
          64,
          1,
          69,
          1,
          20
         ],
         "y": [
          "ECD/PRE-PRIMARY SCHOOL",
          "NON FORMAL SCHOOL/NON FORMAL EDUCATION CENTRE",
          "PRIMARY SCHOOL",
          "SECONDARY SCH",
          "SECONDARY SCHOOL",
          "TECHNICAL TRAINING INSTITUTE",
          "YOUTH POLYTECHNIC"
         ]
        },
        {
         "name": "Private - LOCAL AUTHORITY",
         "orientation": "h",
         "type": "bar",
         "x": [
          1
         ],
         "y": [
          "ECD/PRE-PRIMARY SCHOOL"
         ]
        },
        {
         "name": "Public - LOCAL AUTHORITY",
         "orientation": "h",
         "type": "bar",
         "x": [
          4,
          4,
          1
         ],
         "y": [
          "ECD/PRE-PRIMARY SCHOOL",
          "PRIMARY SCHOOL",
          "SECONDARY SCHOOL"
         ]
        },
        {
         "name": "Private - LOCAL GOVERNMENT AUTHORITY",
         "orientation": "h",
         "type": "bar",
         "x": [
          5,
          1
         ],
         "y": [
          "ECD/PRE-PRIMARY SCHOOL",
          "PRIMARY SCHOOL"
         ]
        },
        {
         "name": "Public - LOCAL GOVERNMENT AUTHORITY",
         "orientation": "h",
         "type": "bar",
         "x": [
          50,
          5,
          57,
          18,
          1,
          2
         ],
         "y": [
          "ECD/PRE-PRIMARY SCHOOL",
          "NON FORMAL SCHOOL/NON FORMAL EDUCATION CENTRE",
          "PRIMARY SCHOOL",
          "SECONDARY SCHOOL",
          "TEACHER TRAINING COLLEGE",
          "YOUTH POLYTECHNIC"
         ]
        },
        {
         "name": "Private - NGO/CBO",
         "orientation": "h",
         "type": "bar",
         "x": [
          39,
          2,
          16,
          5,
          1,
          2
         ],
         "y": [
          "ECD/PRE-PRIMARY SCHOOL",
          "NON FORMAL SCHOOL/NON FORMAL EDUCATION CENTRE",
          "PRIMARY SCHOOL",
          "SECONDARY SCHOOL",
          "TECHNICAL TRAINING INSTITUTE",
          "YOUTH POLYTECHNIC"
         ]
        },
        {
         "name": "Public - NGO/CBO",
         "orientation": "h",
         "type": "bar",
         "x": [
          16,
          7,
          1,
          1
         ],
         "y": [
          "ECD/PRE-PRIMARY SCHOOL",
          "PRIMARY SCHOOL",
          "SECONDARY SCHOOL",
          "YOUTH POLYTECHNIC"
         ]
        },
        {
         "name": "Private - PRIVATE INDIVIDUAL",
         "orientation": "h",
         "type": "bar",
         "x": [
          710,
          1,
          546,
          2,
          59,
          4
         ],
         "y": [
          "ECD/PRE-PRIMARY SCHOOL",
          "NON FORMAL SCHOOL/NON FORMAL EDUCATION CENTRE",
          "PRIMARY SCHOOL",
          "SECONDARY SCH",
          "SECONDARY SCHOOL",
          "YOUTH POLYTECHNIC"
         ]
        },
        {
         "name": "Public - PRIVATE INDIVIDUAL",
         "orientation": "h",
         "type": "bar",
         "x": [
          33,
          13,
          3
         ],
         "y": [
          "ECD/PRE-PRIMARY SCHOOL",
          "PRIMARY SCHOOL",
          "SECONDARY SCHOOL"
         ]
        },
        {
         "name": "Private - PRIVATE INDIVIDUAL/ORGANISATION",
         "orientation": "h",
         "type": "bar",
         "x": [
          169,
          158,
          1,
          19,
          3,
          2
         ],
         "y": [
          "ECD/PRE-PRIMARY SCHOOL",
          "PRIMARY SCHOOL",
          "SECONDARY",
          "SECONDARY SCHOOL",
          "TEACHER TRAINING COLLEGE",
          "YOUTH POLYTECHNIC"
         ]
        },
        {
         "name": "Public - PRIVATE INDIVIDUAL/ORGANISATION",
         "orientation": "h",
         "type": "bar",
         "x": [
          2,
          3,
          1
         ],
         "y": [
          "ECD/PRE-PRIMARY SCHOOL",
          "PRIMARY SCHOOL",
          "SECONDARY SCHOOL"
         ]
        },
        {
         "name": "Private - PRIVATE INDIVIDUAL/ORGANIZATION",
         "orientation": "h",
         "type": "bar",
         "x": [
          150,
          6,
          43,
          11,
          1
         ],
         "y": [
          "ECD/PRE-PRIMARY SCHOOL",
          "NON FORMAL SCHOOL/NON FORMAL EDUCATION CENTRE",
          "PRIMARY SCHOOL",
          "SECONDARY SCHOOL",
          "UNIVERSITY"
         ]
        },
        {
         "name": "Public - PRIVATE INDIVIDUAL/ORGANIZATION",
         "orientation": "h",
         "type": "bar",
         "x": [],
         "y": []
        },
        {
         "name": "Private - RELIGIOUS ORGANISATION",
         "orientation": "h",
         "type": "bar",
         "x": [
          20,
          16,
          4,
          2
         ],
         "y": [
          "ECD/PRE-PRIMARY SCHOOL",
          "PRIMARY SCHOOL",
          "SECONDARY SCHOOL",
          "TEACHER TRAINING COLLEGE"
         ]
        },
        {
         "name": "Public - RELIGIOUS ORGANISATION",
         "orientation": "h",
         "type": "bar",
         "x": [
          181,
          2,
          210,
          1,
          95,
          4
         ],
         "y": [
          "ECD/PRE-PRIMARY SCHOOL",
          "NON-FORMAL SCHOOL/NON-FORMAL EDUCATION CENTRE",
          "PRIMARY SCHOOL",
          "SECONDARY",
          "SECONDARY SCHOOL",
          "YOUTH POLYTECHNIC"
         ]
        },
        {
         "name": "Private - RELIGIOUS ORGANIZATION",
         "orientation": "h",
         "type": "bar",
         "x": [
          444,
          4,
          3,
          214,
          2,
          33,
          1,
          2,
          5,
          8
         ],
         "y": [
          "ECD/PRE-PRIMARY SCHOOL",
          "NON FORMAL SCHOOL/NON FORMAL EDUCATION CENTRE",
          "NON-FORMAL EDUCATION CENTRE",
          "PRIMARY SCHOOL",
          "SECONDARY SCH",
          "SECONDARY SCHOOL",
          "TEACHER TRAINING COLLEGE",
          "TEACHERS TRAINING COLLEGE",
          "TECHNICAL TRAINING INSTITUTE",
          "YOUTH POLYTECHNIC"
         ]
        },
        {
         "name": "Public - RELIGIOUS ORGANIZATION",
         "orientation": "h",
         "type": "bar",
         "x": [
          1527,
          48,
          12,
          2299,
          24,
          657,
          2,
          1,
          3,
          1,
          26
         ],
         "y": [
          "ECD/PRE-PRIMARY SCHOOL",
          "NON FORMAL SCHOOL/NON FORMAL EDUCATION CENTRE",
          "NON-FORMAL EDUCATION CENTRE",
          "PRIMARY SCHOOL",
          "SECONDARY SCH",
          "SECONDARY SCHOOL",
          "TEACHER TRAINING COLLEGE",
          "TEACHERS TRAINING COLLEGE",
          "TECHNICAL TRAINING INSTITUTE",
          "VOCATIONAL TRAINING INSTITUTE",
          "YOUTH POLYTECHNIC"
         ]
        }
       ],
       "layout": {
        "barmode": "stack",
        "legend": {
         "title": {
          "text": "Status"
         }
        },
        "template": {
         "data": {
          "bar": [
           {
            "error_x": {
             "color": "#2a3f5f"
            },
            "error_y": {
             "color": "#2a3f5f"
            },
            "marker": {
             "line": {
              "color": "#E5ECF6",
              "width": 0.5
             },
             "pattern": {
              "fillmode": "overlay",
              "size": 10,
              "solidity": 0.2
             }
            },
            "type": "bar"
           }
          ],
          "barpolar": [
           {
            "marker": {
             "line": {
              "color": "#E5ECF6",
              "width": 0.5
             },
             "pattern": {
              "fillmode": "overlay",
              "size": 10,
              "solidity": 0.2
             }
            },
            "type": "barpolar"
           }
          ],
          "carpet": [
           {
            "aaxis": {
             "endlinecolor": "#2a3f5f",
             "gridcolor": "white",
             "linecolor": "white",
             "minorgridcolor": "white",
             "startlinecolor": "#2a3f5f"
            },
            "baxis": {
             "endlinecolor": "#2a3f5f",
             "gridcolor": "white",
             "linecolor": "white",
             "minorgridcolor": "white",
             "startlinecolor": "#2a3f5f"
            },
            "type": "carpet"
           }
          ],
          "choropleth": [
           {
            "colorbar": {
             "outlinewidth": 0,
             "ticks": ""
            },
            "type": "choropleth"
           }
          ],
          "contour": [
           {
            "colorbar": {
             "outlinewidth": 0,
             "ticks": ""
            },
            "colorscale": [
             [
              0,
              "#0d0887"
             ],
             [
              0.1111111111111111,
              "#46039f"
             ],
             [
              0.2222222222222222,
              "#7201a8"
             ],
             [
              0.3333333333333333,
              "#9c179e"
             ],
             [
              0.4444444444444444,
              "#bd3786"
             ],
             [
              0.5555555555555556,
              "#d8576b"
             ],
             [
              0.6666666666666666,
              "#ed7953"
             ],
             [
              0.7777777777777778,
              "#fb9f3a"
             ],
             [
              0.8888888888888888,
              "#fdca26"
             ],
             [
              1,
              "#f0f921"
             ]
            ],
            "type": "contour"
           }
          ],
          "contourcarpet": [
           {
            "colorbar": {
             "outlinewidth": 0,
             "ticks": ""
            },
            "type": "contourcarpet"
           }
          ],
          "heatmap": [
           {
            "colorbar": {
             "outlinewidth": 0,
             "ticks": ""
            },
            "colorscale": [
             [
              0,
              "#0d0887"
             ],
             [
              0.1111111111111111,
              "#46039f"
             ],
             [
              0.2222222222222222,
              "#7201a8"
             ],
             [
              0.3333333333333333,
              "#9c179e"
             ],
             [
              0.4444444444444444,
              "#bd3786"
             ],
             [
              0.5555555555555556,
              "#d8576b"
             ],
             [
              0.6666666666666666,
              "#ed7953"
             ],
             [
              0.7777777777777778,
              "#fb9f3a"
             ],
             [
              0.8888888888888888,
              "#fdca26"
             ],
             [
              1,
              "#f0f921"
             ]
            ],
            "type": "heatmap"
           }
          ],
          "heatmapgl": [
           {
            "colorbar": {
             "outlinewidth": 0,
             "ticks": ""
            },
            "colorscale": [
             [
              0,
              "#0d0887"
             ],
             [
              0.1111111111111111,
              "#46039f"
             ],
             [
              0.2222222222222222,
              "#7201a8"
             ],
             [
              0.3333333333333333,
              "#9c179e"
             ],
             [
              0.4444444444444444,
              "#bd3786"
             ],
             [
              0.5555555555555556,
              "#d8576b"
             ],
             [
              0.6666666666666666,
              "#ed7953"
             ],
             [
              0.7777777777777778,
              "#fb9f3a"
             ],
             [
              0.8888888888888888,
              "#fdca26"
             ],
             [
              1,
              "#f0f921"
             ]
            ],
            "type": "heatmapgl"
           }
          ],
          "histogram": [
           {
            "marker": {
             "pattern": {
              "fillmode": "overlay",
              "size": 10,
              "solidity": 0.2
             }
            },
            "type": "histogram"
           }
          ],
          "histogram2d": [
           {
            "colorbar": {
             "outlinewidth": 0,
             "ticks": ""
            },
            "colorscale": [
             [
              0,
              "#0d0887"
             ],
             [
              0.1111111111111111,
              "#46039f"
             ],
             [
              0.2222222222222222,
              "#7201a8"
             ],
             [
              0.3333333333333333,
              "#9c179e"
             ],
             [
              0.4444444444444444,
              "#bd3786"
             ],
             [
              0.5555555555555556,
              "#d8576b"
             ],
             [
              0.6666666666666666,
              "#ed7953"
             ],
             [
              0.7777777777777778,
              "#fb9f3a"
             ],
             [
              0.8888888888888888,
              "#fdca26"
             ],
             [
              1,
              "#f0f921"
             ]
            ],
            "type": "histogram2d"
           }
          ],
          "histogram2dcontour": [
           {
            "colorbar": {
             "outlinewidth": 0,
             "ticks": ""
            },
            "colorscale": [
             [
              0,
              "#0d0887"
             ],
             [
              0.1111111111111111,
              "#46039f"
             ],
             [
              0.2222222222222222,
              "#7201a8"
             ],
             [
              0.3333333333333333,
              "#9c179e"
             ],
             [
              0.4444444444444444,
              "#bd3786"
             ],
             [
              0.5555555555555556,
              "#d8576b"
             ],
             [
              0.6666666666666666,
              "#ed7953"
             ],
             [
              0.7777777777777778,
              "#fb9f3a"
             ],
             [
              0.8888888888888888,
              "#fdca26"
             ],
             [
              1,
              "#f0f921"
             ]
            ],
            "type": "histogram2dcontour"
           }
          ],
          "mesh3d": [
           {
            "colorbar": {
             "outlinewidth": 0,
             "ticks": ""
            },
            "type": "mesh3d"
           }
          ],
          "parcoords": [
           {
            "line": {
             "colorbar": {
              "outlinewidth": 0,
              "ticks": ""
             }
            },
            "type": "parcoords"
           }
          ],
          "pie": [
           {
            "automargin": true,
            "type": "pie"
           }
          ],
          "scatter": [
           {
            "fillpattern": {
             "fillmode": "overlay",
             "size": 10,
             "solidity": 0.2
            },
            "type": "scatter"
           }
          ],
          "scatter3d": [
           {
            "line": {
             "colorbar": {
              "outlinewidth": 0,
              "ticks": ""
             }
            },
            "marker": {
             "colorbar": {
              "outlinewidth": 0,
              "ticks": ""
             }
            },
            "type": "scatter3d"
           }
          ],
          "scattercarpet": [
           {
            "marker": {
             "colorbar": {
              "outlinewidth": 0,
              "ticks": ""
             }
            },
            "type": "scattercarpet"
           }
          ],
          "scattergeo": [
           {
            "marker": {
             "colorbar": {
              "outlinewidth": 0,
              "ticks": ""
             }
            },
            "type": "scattergeo"
           }
          ],
          "scattergl": [
           {
            "marker": {
             "colorbar": {
              "outlinewidth": 0,
              "ticks": ""
             }
            },
            "type": "scattergl"
           }
          ],
          "scattermapbox": [
           {
            "marker": {
             "colorbar": {
              "outlinewidth": 0,
              "ticks": ""
             }
            },
            "type": "scattermapbox"
           }
          ],
          "scatterpolar": [
           {
            "marker": {
             "colorbar": {
              "outlinewidth": 0,
              "ticks": ""
             }
            },
            "type": "scatterpolar"
           }
          ],
          "scatterpolargl": [
           {
            "marker": {
             "colorbar": {
              "outlinewidth": 0,
              "ticks": ""
             }
            },
            "type": "scatterpolargl"
           }
          ],
          "scatterternary": [
           {
            "marker": {
             "colorbar": {
              "outlinewidth": 0,
              "ticks": ""
             }
            },
            "type": "scatterternary"
           }
          ],
          "surface": [
           {
            "colorbar": {
             "outlinewidth": 0,
             "ticks": ""
            },
            "colorscale": [
             [
              0,
              "#0d0887"
             ],
             [
              0.1111111111111111,
              "#46039f"
             ],
             [
              0.2222222222222222,
              "#7201a8"
             ],
             [
              0.3333333333333333,
              "#9c179e"
             ],
             [
              0.4444444444444444,
              "#bd3786"
             ],
             [
              0.5555555555555556,
              "#d8576b"
             ],
             [
              0.6666666666666666,
              "#ed7953"
             ],
             [
              0.7777777777777778,
              "#fb9f3a"
             ],
             [
              0.8888888888888888,
              "#fdca26"
             ],
             [
              1,
              "#f0f921"
             ]
            ],
            "type": "surface"
           }
          ],
          "table": [
           {
            "cells": {
             "fill": {
              "color": "#EBF0F8"
             },
             "line": {
              "color": "white"
             }
            },
            "header": {
             "fill": {
              "color": "#C8D4E3"
             },
             "line": {
              "color": "white"
             }
            },
            "type": "table"
           }
          ]
         },
         "layout": {
          "annotationdefaults": {
           "arrowcolor": "#2a3f5f",
           "arrowhead": 0,
           "arrowwidth": 1
          },
          "autotypenumbers": "strict",
          "coloraxis": {
           "colorbar": {
            "outlinewidth": 0,
            "ticks": ""
           }
          },
          "colorscale": {
           "diverging": [
            [
             0,
             "#8e0152"
            ],
            [
             0.1,
             "#c51b7d"
            ],
            [
             0.2,
             "#de77ae"
            ],
            [
             0.3,
             "#f1b6da"
            ],
            [
             0.4,
             "#fde0ef"
            ],
            [
             0.5,
             "#f7f7f7"
            ],
            [
             0.6,
             "#e6f5d0"
            ],
            [
             0.7,
             "#b8e186"
            ],
            [
             0.8,
             "#7fbc41"
            ],
            [
             0.9,
             "#4d9221"
            ],
            [
             1,
             "#276419"
            ]
           ],
           "sequential": [
            [
             0,
             "#0d0887"
            ],
            [
             0.1111111111111111,
             "#46039f"
            ],
            [
             0.2222222222222222,
             "#7201a8"
            ],
            [
             0.3333333333333333,
             "#9c179e"
            ],
            [
             0.4444444444444444,
             "#bd3786"
            ],
            [
             0.5555555555555556,
             "#d8576b"
            ],
            [
             0.6666666666666666,
             "#ed7953"
            ],
            [
             0.7777777777777778,
             "#fb9f3a"
            ],
            [
             0.8888888888888888,
             "#fdca26"
            ],
            [
             1,
             "#f0f921"
            ]
           ],
           "sequentialminus": [
            [
             0,
             "#0d0887"
            ],
            [
             0.1111111111111111,
             "#46039f"
            ],
            [
             0.2222222222222222,
             "#7201a8"
            ],
            [
             0.3333333333333333,
             "#9c179e"
            ],
            [
             0.4444444444444444,
             "#bd3786"
            ],
            [
             0.5555555555555556,
             "#d8576b"
            ],
            [
             0.6666666666666666,
             "#ed7953"
            ],
            [
             0.7777777777777778,
             "#fb9f3a"
            ],
            [
             0.8888888888888888,
             "#fdca26"
            ],
            [
             1,
             "#f0f921"
            ]
           ]
          },
          "colorway": [
           "#636efa",
           "#EF553B",
           "#00cc96",
           "#ab63fa",
           "#FFA15A",
           "#19d3f3",
           "#FF6692",
           "#B6E880",
           "#FF97FF",
           "#FECB52"
          ],
          "font": {
           "color": "#2a3f5f"
          },
          "geo": {
           "bgcolor": "white",
           "lakecolor": "white",
           "landcolor": "#E5ECF6",
           "showlakes": true,
           "showland": true,
           "subunitcolor": "white"
          },
          "hoverlabel": {
           "align": "left"
          },
          "hovermode": "closest",
          "mapbox": {
           "style": "light"
          },
          "paper_bgcolor": "white",
          "plot_bgcolor": "#E5ECF6",
          "polar": {
           "angularaxis": {
            "gridcolor": "white",
            "linecolor": "white",
            "ticks": ""
           },
           "bgcolor": "#E5ECF6",
           "radialaxis": {
            "gridcolor": "white",
            "linecolor": "white",
            "ticks": ""
           }
          },
          "scene": {
           "xaxis": {
            "backgroundcolor": "#E5ECF6",
            "gridcolor": "white",
            "gridwidth": 2,
            "linecolor": "white",
            "showbackground": true,
            "ticks": "",
            "zerolinecolor": "white"
           },
           "yaxis": {
            "backgroundcolor": "#E5ECF6",
            "gridcolor": "white",
            "gridwidth": 2,
            "linecolor": "white",
            "showbackground": true,
            "ticks": "",
            "zerolinecolor": "white"
           },
           "zaxis": {
            "backgroundcolor": "#E5ECF6",
            "gridcolor": "white",
            "gridwidth": 2,
            "linecolor": "white",
            "showbackground": true,
            "ticks": "",
            "zerolinecolor": "white"
           }
          },
          "shapedefaults": {
           "line": {
            "color": "#2a3f5f"
           }
          },
          "ternary": {
           "aaxis": {
            "gridcolor": "white",
            "linecolor": "white",
            "ticks": ""
           },
           "baxis": {
            "gridcolor": "white",
            "linecolor": "white",
            "ticks": ""
           },
           "bgcolor": "#E5ECF6",
           "caxis": {
            "gridcolor": "white",
            "linecolor": "white",
            "ticks": ""
           }
          },
          "title": {
           "x": 0.05
          },
          "xaxis": {
           "automargin": true,
           "gridcolor": "white",
           "linecolor": "white",
           "ticks": "",
           "title": {
            "standoff": 15
           },
           "zerolinecolor": "white",
           "zerolinewidth": 2
          },
          "yaxis": {
           "automargin": true,
           "gridcolor": "white",
           "linecolor": "white",
           "ticks": "",
           "title": {
            "standoff": 15
           },
           "zerolinecolor": "white",
           "zerolinewidth": 2
          }
         }
        },
        "title": {
         "text": "Bar Chart: School Distribution in Nyanza Province"
        },
        "xaxis": {
         "title": {
          "text": "Count"
         }
        },
        "yaxis": {
         "title": {
          "text": "Level"
         }
        }
       }
      }
     },
     "metadata": {},
     "output_type": "display_data"
    }
   ],
   "source": [
    "priv_grouped = priv.groupby(['Level', 'Sponsor']).size().reset_index(name='Count')\n",
    "pub_grouped = pub.groupby(['Level', 'Sponsor']).size().reset_index(name='Count')\n",
    "\n",
    "unique_sponsors = priv_grouped['Sponsor'].unique()\n",
    "\n",
    "fig = go.Figure()\n",
    "\n",
    "for sponsor in unique_sponsors:\n",
    "    priv_data = priv_grouped[priv_grouped['Sponsor'] == sponsor]\n",
    "    pub_data = pub_grouped[pub_grouped['Sponsor'] == sponsor]\n",
    "\n",
    "    fig.add_trace(go.Bar(\n",
    "        x=priv_data['Count'],\n",
    "        y=priv_data['Level'],\n",
    "        name=f'Private - {sponsor}',\n",
    "        orientation='h'\n",
    "    ))\n",
    "\n",
    "    fig.add_trace(go.Bar(\n",
    "        x=pub_data['Count'],\n",
    "        y=pub_data['Level'],\n",
    "        name=f'Public - {sponsor}',\n",
    "        orientation='h'\n",
    "    ))\n",
    "\n",
    "fig.update_layout(\n",
    "    barmode='stack',\n",
    "    title='Bar Chart: School Distribution in Nyanza Province',\n",
    "    xaxis_title='Count',\n",
    "    yaxis_title='Level',\n",
    "    legend_title='Status',\n",
    ")\n",
    "\n",
    "fig.show()\n"
   ]
  },
  {
   "cell_type": "code",
   "execution_count": 39,
   "metadata": {},
   "outputs": [
    {
     "data": {
      "text/html": [
       "<div>\n",
       "<style scoped>\n",
       "    .dataframe tbody tr th:only-of-type {\n",
       "        vertical-align: middle;\n",
       "    }\n",
       "\n",
       "    .dataframe tbody tr th {\n",
       "        vertical-align: top;\n",
       "    }\n",
       "\n",
       "    .dataframe thead th {\n",
       "        text-align: right;\n",
       "    }\n",
       "</style>\n",
       "<table border=\"1\" class=\"dataframe\">\n",
       "  <thead>\n",
       "    <tr style=\"text-align: right;\">\n",
       "      <th></th>\n",
       "      <th>Unnamed: 0</th>\n",
       "      <th>Name</th>\n",
       "      <th>PROVINCE</th>\n",
       "      <th>DISTRICT</th>\n",
       "      <th>Level</th>\n",
       "      <th>Status</th>\n",
       "      <th>Sponsor</th>\n",
       "      <th>Longitude</th>\n",
       "      <th>Latitude</th>\n",
       "      <th>Province_1</th>\n",
       "      <th>District_1</th>\n",
       "      <th>level_1</th>\n",
       "      <th>status_1</th>\n",
       "      <th>sponsor_1</th>\n",
       "    </tr>\n",
       "  </thead>\n",
       "  <tbody>\n",
       "    <tr>\n",
       "      <th>0</th>\n",
       "      <td>0</td>\n",
       "      <td>2005 MUNICIPALITY MARIAKANI NUR SCH</td>\n",
       "      <td>RIFT VALLEY</td>\n",
       "      <td>LAIKIPIA</td>\n",
       "      <td>ECD/PRE-PRIMARY SCHOOL</td>\n",
       "      <td>PUBLIC</td>\n",
       "      <td>LOCAL GOVERNMENT AUTHORITY</td>\n",
       "      <td>36.34676</td>\n",
       "      <td>0.05122</td>\n",
       "      <td>7</td>\n",
       "      <td>27</td>\n",
       "      <td>1</td>\n",
       "      <td>1</td>\n",
       "      <td>4</td>\n",
       "    </tr>\n",
       "    <tr>\n",
       "      <th>1</th>\n",
       "      <td>1</td>\n",
       "      <td>2005 MUNICIPALITY MARIAKANI PRI SCH</td>\n",
       "      <td>RIFT VALLEY</td>\n",
       "      <td>LAIKIPIA</td>\n",
       "      <td>PRIMARY SCHOOL</td>\n",
       "      <td>PUBLIC</td>\n",
       "      <td>LOCAL GOVERNMENT AUTHORITY</td>\n",
       "      <td>36.34676</td>\n",
       "      <td>0.05122</td>\n",
       "      <td>7</td>\n",
       "      <td>27</td>\n",
       "      <td>18</td>\n",
       "      <td>1</td>\n",
       "      <td>4</td>\n",
       "    </tr>\n",
       "    <tr>\n",
       "      <th>2</th>\n",
       "      <td>2</td>\n",
       "      <td>39 BRIDGE ACADEMY NUR</td>\n",
       "      <td>EASTERN</td>\n",
       "      <td>MACHAKOS</td>\n",
       "      <td>PRIMARY SCHOOL</td>\n",
       "      <td>PRIVATE</td>\n",
       "      <td>RELIGIOUS ORGANIZATION</td>\n",
       "      <td>36.97636</td>\n",
       "      <td>-1.44281</td>\n",
       "      <td>3</td>\n",
       "      <td>30</td>\n",
       "      <td>18</td>\n",
       "      <td>0</td>\n",
       "      <td>11</td>\n",
       "    </tr>\n",
       "    <tr>\n",
       "      <th>3</th>\n",
       "      <td>3</td>\n",
       "      <td>39 BRIGE ACADEMY PRI</td>\n",
       "      <td>EASTERN</td>\n",
       "      <td>MACHAKOS</td>\n",
       "      <td>PRIMARY SCHOOL</td>\n",
       "      <td>PRIVATE</td>\n",
       "      <td>RELIGIOUS ORGANIZATION</td>\n",
       "      <td>36.97636</td>\n",
       "      <td>-1.44281</td>\n",
       "      <td>3</td>\n",
       "      <td>30</td>\n",
       "      <td>18</td>\n",
       "      <td>0</td>\n",
       "      <td>11</td>\n",
       "    </tr>\n",
       "    <tr>\n",
       "      <th>4</th>\n",
       "      <td>4</td>\n",
       "      <td>3-WAY ACADEMY PRI SCH</td>\n",
       "      <td>RIFT VALLEY</td>\n",
       "      <td>NAKURU</td>\n",
       "      <td>PRIMARY SCHOOL</td>\n",
       "      <td>PRIVATE</td>\n",
       "      <td>PRIVATE INDIVIDUAL</td>\n",
       "      <td>35.71360</td>\n",
       "      <td>-0.23212</td>\n",
       "      <td>7</td>\n",
       "      <td>49</td>\n",
       "      <td>18</td>\n",
       "      <td>0</td>\n",
       "      <td>7</td>\n",
       "    </tr>\n",
       "    <tr>\n",
       "      <th>...</th>\n",
       "      <td>...</td>\n",
       "      <td>...</td>\n",
       "      <td>...</td>\n",
       "      <td>...</td>\n",
       "      <td>...</td>\n",
       "      <td>...</td>\n",
       "      <td>...</td>\n",
       "      <td>...</td>\n",
       "      <td>...</td>\n",
       "      <td>...</td>\n",
       "      <td>...</td>\n",
       "      <td>...</td>\n",
       "      <td>...</td>\n",
       "      <td>...</td>\n",
       "    </tr>\n",
       "    <tr>\n",
       "      <th>71952</th>\n",
       "      <td>72014</td>\n",
       "      <td>ZSTRA ACADEMY</td>\n",
       "      <td>NAIROBI</td>\n",
       "      <td>NAIROBI</td>\n",
       "      <td>ECD/PRE-PRIMARY SCHOOL</td>\n",
       "      <td>PRIVATE</td>\n",
       "      <td>PRIVATE INDIVIDUAL</td>\n",
       "      <td>36.90237</td>\n",
       "      <td>-1.30505</td>\n",
       "      <td>4</td>\n",
       "      <td>48</td>\n",
       "      <td>1</td>\n",
       "      <td>0</td>\n",
       "      <td>7</td>\n",
       "    </tr>\n",
       "    <tr>\n",
       "      <th>71953</th>\n",
       "      <td>72015</td>\n",
       "      <td>ZULULU ECD</td>\n",
       "      <td>WESTERN</td>\n",
       "      <td>VIHIGA</td>\n",
       "      <td>ECD/PRE-PRIMARY SCHOOL</td>\n",
       "      <td>PUBLIC</td>\n",
       "      <td>RELIGIOUS ORGANIZATION</td>\n",
       "      <td>34.73243</td>\n",
       "      <td>0.00410</td>\n",
       "      <td>8</td>\n",
       "      <td>71</td>\n",
       "      <td>1</td>\n",
       "      <td>1</td>\n",
       "      <td>11</td>\n",
       "    </tr>\n",
       "    <tr>\n",
       "      <th>71954</th>\n",
       "      <td>72016</td>\n",
       "      <td>ZULULU PRY SCH</td>\n",
       "      <td>WESTERN</td>\n",
       "      <td>VIHIGA</td>\n",
       "      <td>PRIMARY SCHOOL</td>\n",
       "      <td>PUBLIC</td>\n",
       "      <td>RELIGIOUS ORGANIZATION</td>\n",
       "      <td>34.73243</td>\n",
       "      <td>0.00410</td>\n",
       "      <td>8</td>\n",
       "      <td>71</td>\n",
       "      <td>18</td>\n",
       "      <td>1</td>\n",
       "      <td>11</td>\n",
       "    </tr>\n",
       "    <tr>\n",
       "      <th>71955</th>\n",
       "      <td>72017</td>\n",
       "      <td>ZUNGULUKANI NURSERY</td>\n",
       "      <td>COAST</td>\n",
       "      <td>TAITA TAVETA</td>\n",
       "      <td>ECD/PRE-PRIMARY SCHOOL</td>\n",
       "      <td>PUBLIC</td>\n",
       "      <td>COMMUNITY</td>\n",
       "      <td>38.92489</td>\n",
       "      <td>-3.95005</td>\n",
       "      <td>1</td>\n",
       "      <td>61</td>\n",
       "      <td>1</td>\n",
       "      <td>1</td>\n",
       "      <td>1</td>\n",
       "    </tr>\n",
       "    <tr>\n",
       "      <th>71956</th>\n",
       "      <td>72018</td>\n",
       "      <td>ZUNGULUKANI PRIMARY</td>\n",
       "      <td>COAST</td>\n",
       "      <td>TAITA TAVETA</td>\n",
       "      <td>PRIMARY SCHOOL</td>\n",
       "      <td>PUBLIC</td>\n",
       "      <td>COMMUNITY</td>\n",
       "      <td>38.92653</td>\n",
       "      <td>-3.95128</td>\n",
       "      <td>1</td>\n",
       "      <td>61</td>\n",
       "      <td>18</td>\n",
       "      <td>1</td>\n",
       "      <td>1</td>\n",
       "    </tr>\n",
       "  </tbody>\n",
       "</table>\n",
       "<p>71957 rows × 14 columns</p>\n",
       "</div>"
      ],
      "text/plain": [
       "       Unnamed: 0                                 Name     PROVINCE  \\\n",
       "0               0  2005 MUNICIPALITY MARIAKANI NUR SCH  RIFT VALLEY   \n",
       "1               1  2005 MUNICIPALITY MARIAKANI PRI SCH  RIFT VALLEY   \n",
       "2               2                39 BRIDGE ACADEMY NUR      EASTERN   \n",
       "3               3                 39 BRIGE ACADEMY PRI      EASTERN   \n",
       "4               4                3-WAY ACADEMY PRI SCH  RIFT VALLEY   \n",
       "...           ...                                  ...          ...   \n",
       "71952       72014                        ZSTRA ACADEMY      NAIROBI   \n",
       "71953       72015                           ZULULU ECD      WESTERN   \n",
       "71954       72016                       ZULULU PRY SCH      WESTERN   \n",
       "71955       72017                  ZUNGULUKANI NURSERY        COAST   \n",
       "71956       72018                  ZUNGULUKANI PRIMARY        COAST   \n",
       "\n",
       "           DISTRICT                   Level   Status  \\\n",
       "0          LAIKIPIA  ECD/PRE-PRIMARY SCHOOL   PUBLIC   \n",
       "1          LAIKIPIA          PRIMARY SCHOOL   PUBLIC   \n",
       "2          MACHAKOS          PRIMARY SCHOOL  PRIVATE   \n",
       "3          MACHAKOS          PRIMARY SCHOOL  PRIVATE   \n",
       "4            NAKURU          PRIMARY SCHOOL  PRIVATE   \n",
       "...             ...                     ...      ...   \n",
       "71952       NAIROBI  ECD/PRE-PRIMARY SCHOOL  PRIVATE   \n",
       "71953        VIHIGA  ECD/PRE-PRIMARY SCHOOL   PUBLIC   \n",
       "71954        VIHIGA          PRIMARY SCHOOL   PUBLIC   \n",
       "71955  TAITA TAVETA  ECD/PRE-PRIMARY SCHOOL   PUBLIC   \n",
       "71956  TAITA TAVETA          PRIMARY SCHOOL   PUBLIC   \n",
       "\n",
       "                          Sponsor  Longitude  Latitude  Province_1  \\\n",
       "0      LOCAL GOVERNMENT AUTHORITY   36.34676   0.05122           7   \n",
       "1      LOCAL GOVERNMENT AUTHORITY   36.34676   0.05122           7   \n",
       "2          RELIGIOUS ORGANIZATION   36.97636  -1.44281           3   \n",
       "3          RELIGIOUS ORGANIZATION   36.97636  -1.44281           3   \n",
       "4              PRIVATE INDIVIDUAL   35.71360  -0.23212           7   \n",
       "...                           ...        ...       ...         ...   \n",
       "71952          PRIVATE INDIVIDUAL   36.90237  -1.30505           4   \n",
       "71953      RELIGIOUS ORGANIZATION   34.73243   0.00410           8   \n",
       "71954      RELIGIOUS ORGANIZATION   34.73243   0.00410           8   \n",
       "71955                   COMMUNITY   38.92489  -3.95005           1   \n",
       "71956                   COMMUNITY   38.92653  -3.95128           1   \n",
       "\n",
       "       District_1  level_1  status_1  sponsor_1  \n",
       "0              27        1         1          4  \n",
       "1              27       18         1          4  \n",
       "2              30       18         0         11  \n",
       "3              30       18         0         11  \n",
       "4              49       18         0          7  \n",
       "...           ...      ...       ...        ...  \n",
       "71952          48        1         0          7  \n",
       "71953          71        1         1         11  \n",
       "71954          71       18         1         11  \n",
       "71955          61        1         1          1  \n",
       "71956          61       18         1          1  \n",
       "\n",
       "[71957 rows x 14 columns]"
      ]
     },
     "execution_count": 39,
     "metadata": {},
     "output_type": "execute_result"
    }
   ],
   "source": [
    "df"
   ]
  }
 ],
 "metadata": {
  "kernelspec": {
   "display_name": "base",
   "language": "python",
   "name": "python3"
  },
  "language_info": {
   "codemirror_mode": {
    "name": "ipython",
    "version": 3
   },
   "file_extension": ".py",
   "mimetype": "text/x-python",
   "name": "python",
   "nbconvert_exporter": "python",
   "pygments_lexer": "ipython3",
   "version": "3.10.9"
  },
  "orig_nbformat": 4
 },
 "nbformat": 4,
 "nbformat_minor": 2
}
